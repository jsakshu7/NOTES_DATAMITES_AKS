{
 "cells": [
  {
   "cell_type": "code",
   "execution_count": 2,
   "id": "6769ddae-5c0d-43a6-bf70-a42d0ad63c3a",
   "metadata": {},
   "outputs": [
    {
     "name": "stdout",
     "output_type": "stream",
     "text": [
      "Program to check positive number or negative number \n"
     ]
    },
    {
     "name": "stdin",
     "output_type": "stream",
     "text": [
      "enter the value of num : -5\n"
     ]
    },
    {
     "name": "stdout",
     "output_type": "stream",
     "text": [
      "else block executing.....!!\n",
      "Num is negative\n",
      "outide the if else block\n"
     ]
    }
   ],
   "source": [
    "print(\"Program to check positive number or negative number \")\n",
    "num=float(input(\"enter the value of num :\"))\n",
    "if num>0:\n",
    "    print(\"if block executing.....!!\")\n",
    "    print(\"Num is positive\")\n",
    "else:\n",
    "    print(\"else block executing.....!!\")\n",
    "    print(\"Num is negative\")\n",
    "\n",
    "print(\"outide the if else block\")\n",
    "    \n"
   ]
  },
  {
   "cell_type": "code",
   "execution_count": 3,
   "id": "d1f00447-d83c-4f6f-8b6e-44af94afc1e2",
   "metadata": {},
   "outputs": [
    {
     "name": "stdout",
     "output_type": "stream",
     "text": [
      "check a character z present in your name\n",
      "z is not present\n"
     ]
    }
   ],
   "source": [
    "print(\"check a character z present in your name\")\n",
    "name=\"Akshatha S\"\n",
    "if \"z\" in name:\n",
    "    print(\"z is present\")\n",
    "else:\n",
    "    print(\"z is not present\")"
   ]
  },
  {
   "cell_type": "code",
   "execution_count": 5,
   "id": "4eb0ac45-05bd-496c-8993-65da34e2d002",
   "metadata": {},
   "outputs": [
    {
     "name": "stdout",
     "output_type": "stream",
     "text": [
      "to check even or odd number\n"
     ]
    },
    {
     "name": "stdin",
     "output_type": "stream",
     "text": [
      "enter the num value 15\n"
     ]
    },
    {
     "name": "stdout",
     "output_type": "stream",
     "text": [
      "num is odd\n"
     ]
    }
   ],
   "source": [
    "print(\"to check even or odd number\")\n",
    "num=int(input(\"enter the num value\"))\n",
    "if num%2==0:\n",
    "    print(\"num is even\")\n",
    "else:\n",
    "    print(\"num is odd\")"
   ]
  },
  {
   "cell_type": "code",
   "execution_count": null,
   "id": "b3590126-1571-4da8-92af-c5ae066f2573",
   "metadata": {},
   "outputs": [],
   "source": [
    "print(\"check num is +ve ,-ve or zero\")\n",
    "num=12\n",
    "if num>0:\n",
    "    print(\"num is positive\")\n",
    "elif num<0:\n",
    "    print(\"num is negative\")\n",
    "else:\n",
    "    print(\"num is zero\")"
   ]
  },
  {
   "cell_type": "code",
   "execution_count": null,
   "id": "cfd481fc-5402-4919-9695-bb1f3b2bc156",
   "metadata": {},
   "outputs": [],
   "source": [
    "score = int(input(\"Enter a number: \"))\n",
    "if score >= 90:\n",
    "    print(\"Grade: A\")\n",
    "elif score >= 80:\n",
    "    print(\"Grade: B\")\n",
    "elif score >= 70:\n",
    "    print(\"Grade: C\")\n",
    "else:\n",
    "    print(\"Grade: F\")"
   ]
  },
  {
   "cell_type": "code",
   "execution_count": 9,
   "id": "e01428bc-4308-41d3-94ac-68d087ed5755",
   "metadata": {},
   "outputs": [
    {
     "name": "stdin",
     "output_type": "stream",
     "text": [
      "entre the number 45\n"
     ]
    },
    {
     "name": "stdout",
     "output_type": "stream",
     "text": [
      "Grade :F\n"
     ]
    }
   ],
   "source": [
    "score=int(input(\"entre the number\"))\n",
    "if score >= 90:\n",
    "    print(\"Grade :A\")\n",
    "elif score>= 80:\n",
    "    print(\"Grade : B\")\n",
    "elif score >=70:\n",
    "    print(\"Grade : C\")\n",
    "else:\n",
    "    print(\"Grade :F\")\n"
   ]
  },
  {
   "cell_type": "code",
   "execution_count": null,
   "id": "698975e6-878d-45b5-8f17-cd3fe4aa8205",
   "metadata": {},
   "outputs": [],
   "source": [
    "print(\"check number is +ve,-ve or zero\")\n",
    "num=int(input(\"Enter the value\"))\n",
    "if num>0:\n",
    "    print(\"the num is positive\")\n",
    "elif num<0:\n",
    "    print(\"the num is negative\")\n",
    "else:\n",
    "    print(\"the num is zero\")\n"
   ]
  },
  {
   "cell_type": "code",
   "execution_count": 10,
   "id": "06a5ad82-25f9-4757-ade1-c67f4a50159a",
   "metadata": {},
   "outputs": [
    {
     "name": "stdout",
     "output_type": "stream",
     "text": [
      "Shotage of attendance..!!\n",
      "Not Eligible to write exam\n"
     ]
    }
   ],
   "source": [
    "attendance=65\n",
    "marks=45\n",
    "if attendance>=70:\n",
    "    print(\"eligible to write exam\")\n",
    "    if marks>=35:\n",
    "        print(\"pass...!!!\")\n",
    "    else:\n",
    "        print(\"Failed..!!!\")\n",
    "\n",
    "else:\n",
    "    print(\"Shotage of attendance..!!\")\n",
    "    print(\"Not Eligible to write exam\")"
   ]
  },
  {
   "cell_type": "markdown",
   "id": "2a678b92-487b-468f-ae23-16909102129d",
   "metadata": {},
   "source": [
    "## List"
   ]
  },
  {
   "cell_type": "markdown",
   "id": "17607b9f-cc1f-4490-9ed8-dbe1f0255b48",
   "metadata": {},
   "source": [
    "## List Creation"
   ]
  },
  {
   "cell_type": "code",
   "execution_count": 12,
   "id": "3e81cdfa-bbcb-4cae-933d-68f98ed5dc38",
   "metadata": {},
   "outputs": [
    {
     "data": {
      "text/plain": [
       "list"
      ]
     },
     "execution_count": 12,
     "metadata": {},
     "output_type": "execute_result"
    }
   ],
   "source": [
    "empty_list=[] # created an empty list---without any elements\n",
    "type(empty_list)"
   ]
  },
  {
   "cell_type": "code",
   "execution_count": 13,
   "id": "efafef28-413b-4e98-ad3f-b967ac6c8a43",
   "metadata": {},
   "outputs": [
    {
     "data": {
      "text/plain": [
       "list"
      ]
     },
     "execution_count": 13,
     "metadata": {},
     "output_type": "execute_result"
    }
   ],
   "source": [
    "names_list=[\"Rubby\",\"roy\",\"aishwarya\",\"rohit\"]\n",
    "type(names_list)"
   ]
  },
  {
   "cell_type": "code",
   "execution_count": 15,
   "id": "d45ebc9a-145b-4d1d-a3ff-e20bedd2f34a",
   "metadata": {},
   "outputs": [
    {
     "data": {
      "text/plain": [
       "list"
      ]
     },
     "execution_count": 15,
     "metadata": {},
     "output_type": "execute_result"
    }
   ],
   "source": [
    "mylist=[10,20,True,\"a\",\"roy\",12.55,[11,22,33]]\n",
    "type(mylist)"
   ]
  },
  {
   "cell_type": "code",
   "execution_count": 16,
   "id": "94ec9727-8730-4cde-be9e-38ab0d758986",
   "metadata": {},
   "outputs": [
    {
     "data": {
      "text/plain": [
       "['Rubby', 'roy', 'aishwarya', 'rohit']"
      ]
     },
     "execution_count": 16,
     "metadata": {},
     "output_type": "execute_result"
    }
   ],
   "source": [
    "names_list"
   ]
  },
  {
   "cell_type": "code",
   "execution_count": 17,
   "id": "4db4a8f3-4a94-40c7-8be4-c71e2516d3b3",
   "metadata": {},
   "outputs": [
    {
     "data": {
      "text/plain": [
       "[10, 20, True, 'a', 'roy', 12.55, [11, 22, 33]]"
      ]
     },
     "execution_count": 17,
     "metadata": {},
     "output_type": "execute_result"
    }
   ],
   "source": [
    "mylist"
   ]
  },
  {
   "cell_type": "markdown",
   "id": "b7168435-de55-465a-add5-0b059abd7463",
   "metadata": {},
   "source": [
    "## List Indexing"
   ]
  },
  {
   "cell_type": "code",
   "execution_count": 18,
   "id": "bb4fbac8-04fa-4d95-8fbc-71d758e5eb0e",
   "metadata": {},
   "outputs": [
    {
     "data": {
      "text/plain": [
       "['Rubby', 'roy', 'aishwarya', 'rohit']"
      ]
     },
     "execution_count": 18,
     "metadata": {},
     "output_type": "execute_result"
    }
   ],
   "source": [
    "names_list"
   ]
  },
  {
   "cell_type": "code",
   "execution_count": 19,
   "id": "80fb7825-d9f9-40c3-b3a6-81a2c07eaab5",
   "metadata": {},
   "outputs": [
    {
     "data": {
      "text/plain": [
       "'aishwarya'"
      ]
     },
     "execution_count": 19,
     "metadata": {},
     "output_type": "execute_result"
    }
   ],
   "source": [
    "names_list[2]"
   ]
  },
  {
   "cell_type": "code",
   "execution_count": 20,
   "id": "1bdd50b9-3e44-4eb0-8b23-9d2701205416",
   "metadata": {},
   "outputs": [
    {
     "data": {
      "text/plain": [
       "'roy'"
      ]
     },
     "execution_count": 20,
     "metadata": {},
     "output_type": "execute_result"
    }
   ],
   "source": [
    "names_list[-3]"
   ]
  },
  {
   "cell_type": "code",
   "execution_count": 21,
   "id": "7f4c5ecc-1b61-4922-9095-48175b08b7cd",
   "metadata": {},
   "outputs": [
    {
     "ename": "IndexError",
     "evalue": "list index out of range",
     "output_type": "error",
     "traceback": [
      "\u001b[1;31m---------------------------------------------------------------------------\u001b[0m",
      "\u001b[1;31mIndexError\u001b[0m                                Traceback (most recent call last)",
      "Cell \u001b[1;32mIn[21], line 1\u001b[0m\n\u001b[1;32m----> 1\u001b[0m names_list[\u001b[38;5;241m10\u001b[39m]\n",
      "\u001b[1;31mIndexError\u001b[0m: list index out of range"
     ]
    }
   ],
   "source": [
    "names_list[10]"
   ]
  },
  {
   "cell_type": "code",
   "execution_count": 22,
   "id": "0c1b309c-4ea8-4504-ab0a-7bece81c6e67",
   "metadata": {},
   "outputs": [
    {
     "data": {
      "text/plain": [
       "['Rubby', 'roy', 'aishwarya', 'rohit']"
      ]
     },
     "execution_count": 22,
     "metadata": {},
     "output_type": "execute_result"
    }
   ],
   "source": [
    "names_list"
   ]
  },
  {
   "cell_type": "code",
   "execution_count": 23,
   "id": "93c42073-6a53-4dc0-9b91-e45d01fbe926",
   "metadata": {},
   "outputs": [
    {
     "data": {
      "text/plain": [
       "['Rubby', 'akshatha', 'aishwarya', 'rohit']"
      ]
     },
     "execution_count": 23,
     "metadata": {},
     "output_type": "execute_result"
    }
   ],
   "source": [
    "names_list[1]=\"akshatha\" # list is mutable\n",
    "names_list"
   ]
  },
  {
   "cell_type": "code",
   "execution_count": 24,
   "id": "24387026-e0d0-4ba6-8dc1-bca9f7ce56e0",
   "metadata": {},
   "outputs": [],
   "source": [
    "nested=[\"a\",\"b\",[11,12,13],\"d\",[21,22]]"
   ]
  },
  {
   "cell_type": "code",
   "execution_count": 25,
   "id": "b5ab9a15-7f04-4f82-828e-b0694b81bf7e",
   "metadata": {},
   "outputs": [
    {
     "data": {
      "text/plain": [
       "[11, 12, 13]"
      ]
     },
     "execution_count": 25,
     "metadata": {},
     "output_type": "execute_result"
    }
   ],
   "source": [
    "nested[2]"
   ]
  },
  {
   "cell_type": "code",
   "execution_count": 26,
   "id": "9fb5a972-2304-476a-aebc-e57e7ff22d6d",
   "metadata": {},
   "outputs": [
    {
     "data": {
      "text/plain": [
       "13"
      ]
     },
     "execution_count": 26,
     "metadata": {},
     "output_type": "execute_result"
    }
   ],
   "source": [
    "nested[2][2]"
   ]
  },
  {
   "cell_type": "markdown",
   "id": "1dabcb35-1c2c-44b1-9e7a-f0543504d25a",
   "metadata": {},
   "source": [
    "## Membership Operator"
   ]
  },
  {
   "cell_type": "code",
   "execution_count": 27,
   "id": "03db9309-195e-498e-bae5-844d01ef0376",
   "metadata": {},
   "outputs": [
    {
     "data": {
      "text/plain": [
       "['Rubby', 'akshatha', 'aishwarya', 'rohit']"
      ]
     },
     "execution_count": 27,
     "metadata": {},
     "output_type": "execute_result"
    }
   ],
   "source": [
    "names_list"
   ]
  },
  {
   "cell_type": "code",
   "execution_count": 28,
   "id": "dfe40056-467b-4b70-8254-a686cf2cea1b",
   "metadata": {},
   "outputs": [
    {
     "data": {
      "text/plain": [
       "True"
      ]
     },
     "execution_count": 28,
     "metadata": {},
     "output_type": "execute_result"
    }
   ],
   "source": [
    "\"Rubby\" in names_list"
   ]
  },
  {
   "cell_type": "code",
   "execution_count": 29,
   "id": "4851822e-238c-4e38-a8fa-a26a4e483c9e",
   "metadata": {},
   "outputs": [
    {
     "data": {
      "text/plain": [
       "False"
      ]
     },
     "execution_count": 29,
     "metadata": {},
     "output_type": "execute_result"
    }
   ],
   "source": [
    "\"sejal\" in names_list"
   ]
  },
  {
   "cell_type": "code",
   "execution_count": 30,
   "id": "488d9a23-e413-4d94-9493-7355b2d0637d",
   "metadata": {},
   "outputs": [
    {
     "data": {
      "text/plain": [
       "False"
      ]
     },
     "execution_count": 30,
     "metadata": {},
     "output_type": "execute_result"
    }
   ],
   "source": [
    "\"Rohit\" in names_list"
   ]
  },
  {
   "cell_type": "code",
   "execution_count": null,
   "id": "2e63bcd8-2465-4626-8c3c-99d77bbefdfe",
   "metadata": {},
   "outputs": [],
   "source": []
  }
 ],
 "metadata": {
  "kernelspec": {
   "display_name": "Python [conda env:base] *",
   "language": "python",
   "name": "conda-base-py"
  },
  "language_info": {
   "codemirror_mode": {
    "name": "ipython",
    "version": 3
   },
   "file_extension": ".py",
   "mimetype": "text/x-python",
   "name": "python",
   "nbconvert_exporter": "python",
   "pygments_lexer": "ipython3",
   "version": "3.12.7"
  }
 },
 "nbformat": 4,
 "nbformat_minor": 5
}
