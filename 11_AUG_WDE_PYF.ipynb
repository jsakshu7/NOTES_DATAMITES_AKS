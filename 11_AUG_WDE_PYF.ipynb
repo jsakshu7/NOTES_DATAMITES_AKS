{
 "cells": [
  {
   "cell_type": "code",
   "execution_count": 2,
   "id": "6769ddae-5c0d-43a6-bf70-a42d0ad63c3a",
   "metadata": {},
   "outputs": [
    {
     "name": "stdout",
     "output_type": "stream",
     "text": [
      "Program to check positive number or negative number \n"
     ]
    },
    {
     "name": "stdin",
     "output_type": "stream",
     "text": [
      "enter the value of num : -5\n"
     ]
    },
    {
     "name": "stdout",
     "output_type": "stream",
     "text": [
      "else block executing.....!!\n",
      "Num is negative\n",
      "outide the if else block\n"
     ]
    }
   ],
   "source": [
    "print(\"Program to check positive number or negative number \")\n",
    "num=float(input(\"enter the value of num :\"))\n",
    "if num>0:\n",
    "    print(\"if block executing.....!!\")\n",
    "    print(\"Num is positive\")\n",
    "else:\n",
    "    print(\"else block executing.....!!\")\n",
    "    print(\"Num is negative\")\n",
    "\n",
    "print(\"outide the if else block\")\n",
    "    \n"
   ]
  },
  {
   "cell_type": "code",
   "execution_count": 3,
   "id": "d1f00447-d83c-4f6f-8b6e-44af94afc1e2",
   "metadata": {},
   "outputs": [
    {
     "name": "stdout",
     "output_type": "stream",
     "text": [
      "check a character z present in your name\n",
      "z is not present\n"
     ]
    }
   ],
   "source": [
    "print(\"check a character z present in your name\")\n",
    "name=\"Akshatha S\"\n",
    "if \"z\" in name:\n",
    "    print(\"z is present\")\n",
    "else:\n",
    "    print(\"z is not present\")"
   ]
  },
  {
   "cell_type": "code",
   "execution_count": 5,
   "id": "4eb0ac45-05bd-496c-8993-65da34e2d002",
   "metadata": {},
   "outputs": [
    {
     "name": "stdout",
     "output_type": "stream",
     "text": [
      "to check even or odd number\n"
     ]
    },
    {
     "name": "stdin",
     "output_type": "stream",
     "text": [
      "enter the num value 15\n"
     ]
    },
    {
     "name": "stdout",
     "output_type": "stream",
     "text": [
      "num is odd\n"
     ]
    }
   ],
   "source": [
    "print(\"to check even or odd number\")\n",
    "num=int(input(\"enter the num value\"))\n",
    "if num%2==0:\n",
    "    print(\"num is even\")\n",
    "else:\n",
    "    print(\"num is odd\")"
   ]
  },
  {
   "cell_type": "code",
   "execution_count": null,
   "id": "b3590126-1571-4da8-92af-c5ae066f2573",
   "metadata": {},
   "outputs": [],
   "source": [
    "print(\"check num is +ve ,-ve or zero\")\n",
    "num=12\n",
    "if num>0:\n",
    "    print(\"num is positive\")\n",
    "elif num<0:\n",
    "    print(\"num is negative\")\n",
    "else:\n",
    "    print(\"num is zero\")"
   ]
  },
  {
   "cell_type": "code",
   "execution_count": null,
   "id": "cfd481fc-5402-4919-9695-bb1f3b2bc156",
   "metadata": {},
   "outputs": [],
   "source": [
    "score = int(input(\"Enter a number: \"))\n",
    "if score >= 90:\n",
    "    print(\"Grade: A\")\n",
    "elif score >= 80:\n",
    "    print(\"Grade: B\")\n",
    "elif score >= 70:\n",
    "    print(\"Grade: C\")\n",
    "else:\n",
    "    print(\"Grade: F\")"
   ]
  },
  {
   "cell_type": "code",
   "execution_count": 9,
   "id": "e01428bc-4308-41d3-94ac-68d087ed5755",
   "metadata": {},
   "outputs": [
    {
     "name": "stdin",
     "output_type": "stream",
     "text": [
      "entre the number 45\n"
     ]
    },
    {
     "name": "stdout",
     "output_type": "stream",
     "text": [
      "Grade :F\n"
     ]
    }
   ],
   "source": [
    "score=int(input(\"entre the number\"))\n",
    "if score >= 90:\n",
    "    print(\"Grade :A\")\n",
    "elif score>= 80:\n",
    "    print(\"Grade : B\")\n",
    "elif score >=70:\n",
    "    print(\"Grade : C\")\n",
    "else:\n",
    "    print(\"Grade :F\")\n"
   ]
  },
  {
   "cell_type": "code",
   "execution_count": null,
   "id": "698975e6-878d-45b5-8f17-cd3fe4aa8205",
   "metadata": {},
   "outputs": [],
   "source": [
    "print(\"check number is +ve,-ve or zero\")\n",
    "num=int(input(\"Enter the value\"))\n",
    "if num>0:\n",
    "    print(\"the num is positive\")\n",
    "elif num<0:\n",
    "    print(\"the num is negative\")\n",
    "else:\n",
    "    print(\"the num is zero\")\n"
   ]
  },
  {
   "cell_type": "code",
   "execution_count": 10,
   "id": "06a5ad82-25f9-4757-ade1-c67f4a50159a",
   "metadata": {},
   "outputs": [
    {
     "name": "stdout",
     "output_type": "stream",
     "text": [
      "Shotage of attendance..!!\n",
      "Not Eligible to write exam\n"
     ]
    }
   ],
   "source": [
    "attendance=65\n",
    "marks=45\n",
    "if attendance>=70:\n",
    "    print(\"eligible to write exam\")\n",
    "    if marks>=35:\n",
    "        print(\"pass...!!!\")\n",
    "    else:\n",
    "        print(\"Failed..!!!\")\n",
    "\n",
    "else:\n",
    "    print(\"Shotage of attendance..!!\")\n",
    "    print(\"Not Eligible to write exam\")"
   ]
  },
  {
   "cell_type": "markdown",
   "id": "2a678b92-487b-468f-ae23-16909102129d",
   "metadata": {},
   "source": [
    "## List"
   ]
  },
  {
   "cell_type": "markdown",
   "id": "17607b9f-cc1f-4490-9ed8-dbe1f0255b48",
   "metadata": {},
   "source": [
    "## List Creation"
   ]
  },
  {
   "cell_type": "code",
   "execution_count": 12,
   "id": "3e81cdfa-bbcb-4cae-933d-68f98ed5dc38",
   "metadata": {},
   "outputs": [
    {
     "data": {
      "text/plain": [
       "list"
      ]
     },
     "execution_count": 12,
     "metadata": {},
     "output_type": "execute_result"
    }
   ],
   "source": [
    "empty_list=[] # created an empty list---without any elements\n",
    "type(empty_list)"
   ]
  },
  {
   "cell_type": "code",
   "execution_count": 13,
   "id": "efafef28-413b-4e98-ad3f-b967ac6c8a43",
   "metadata": {},
   "outputs": [
    {
     "data": {
      "text/plain": [
       "list"
      ]
     },
     "execution_count": 13,
     "metadata": {},
     "output_type": "execute_result"
    }
   ],
   "source": [
    "names_list=[\"Rubby\",\"roy\",\"aishwarya\",\"rohit\"]\n",
    "type(names_list)"
   ]
  },
  {
   "cell_type": "code",
   "execution_count": 15,
   "id": "d45ebc9a-145b-4d1d-a3ff-e20bedd2f34a",
   "metadata": {},
   "outputs": [
    {
     "data": {
      "text/plain": [
       "list"
      ]
     },
     "execution_count": 15,
     "metadata": {},
     "output_type": "execute_result"
    }
   ],
   "source": [
    "mylist=[10,20,True,\"a\",\"roy\",12.55,[11,22,33]]\n",
    "type(mylist)"
   ]
  },
  {
   "cell_type": "code",
   "execution_count": 16,
   "id": "94ec9727-8730-4cde-be9e-38ab0d758986",
   "metadata": {},
   "outputs": [
    {
     "data": {
      "text/plain": [
       "['Rubby', 'roy', 'aishwarya', 'rohit']"
      ]
     },
     "execution_count": 16,
     "metadata": {},
     "output_type": "execute_result"
    }
   ],
   "source": [
    "names_list"
   ]
  },
  {
   "cell_type": "code",
   "execution_count": 17,
   "id": "4db4a8f3-4a94-40c7-8be4-c71e2516d3b3",
   "metadata": {},
   "outputs": [
    {
     "data": {
      "text/plain": [
       "[10, 20, True, 'a', 'roy', 12.55, [11, 22, 33]]"
      ]
     },
     "execution_count": 17,
     "metadata": {},
     "output_type": "execute_result"
    }
   ],
   "source": [
    "mylist"
   ]
  },
  {
   "cell_type": "markdown",
   "id": "b7168435-de55-465a-add5-0b059abd7463",
   "metadata": {},
   "source": [
    "## List Indexing"
   ]
  },
  {
   "cell_type": "code",
   "execution_count": 18,
   "id": "bb4fbac8-04fa-4d95-8fbc-71d758e5eb0e",
   "metadata": {},
   "outputs": [
    {
     "data": {
      "text/plain": [
       "['Rubby', 'roy', 'aishwarya', 'rohit']"
      ]
     },
     "execution_count": 18,
     "metadata": {},
     "output_type": "execute_result"
    }
   ],
   "source": [
    "names_list"
   ]
  },
  {
   "cell_type": "code",
   "execution_count": 19,
   "id": "80fb7825-d9f9-40c3-b3a6-81a2c07eaab5",
   "metadata": {},
   "outputs": [
    {
     "data": {
      "text/plain": [
       "'aishwarya'"
      ]
     },
     "execution_count": 19,
     "metadata": {},
     "output_type": "execute_result"
    }
   ],
   "source": [
    "names_list[2]"
   ]
  },
  {
   "cell_type": "code",
   "execution_count": 20,
   "id": "1bdd50b9-3e44-4eb0-8b23-9d2701205416",
   "metadata": {},
   "outputs": [
    {
     "data": {
      "text/plain": [
       "'roy'"
      ]
     },
     "execution_count": 20,
     "metadata": {},
     "output_type": "execute_result"
    }
   ],
   "source": [
    "names_list[-3]"
   ]
  },
  {
   "cell_type": "code",
   "execution_count": 21,
   "id": "7f4c5ecc-1b61-4922-9095-48175b08b7cd",
   "metadata": {},
   "outputs": [
    {
     "ename": "IndexError",
     "evalue": "list index out of range",
     "output_type": "error",
     "traceback": [
      "\u001b[1;31m---------------------------------------------------------------------------\u001b[0m",
      "\u001b[1;31mIndexError\u001b[0m                                Traceback (most recent call last)",
      "Cell \u001b[1;32mIn[21], line 1\u001b[0m\n\u001b[1;32m----> 1\u001b[0m names_list[\u001b[38;5;241m10\u001b[39m]\n",
      "\u001b[1;31mIndexError\u001b[0m: list index out of range"
     ]
    }
   ],
   "source": [
    "names_list[10]"
   ]
  },
  {
   "cell_type": "code",
   "execution_count": 22,
   "id": "0c1b309c-4ea8-4504-ab0a-7bece81c6e67",
   "metadata": {},
   "outputs": [
    {
     "data": {
      "text/plain": [
       "['Rubby', 'roy', 'aishwarya', 'rohit']"
      ]
     },
     "execution_count": 22,
     "metadata": {},
     "output_type": "execute_result"
    }
   ],
   "source": [
    "names_list"
   ]
  },
  {
   "cell_type": "code",
   "execution_count": 23,
   "id": "93c42073-6a53-4dc0-9b91-e45d01fbe926",
   "metadata": {},
   "outputs": [
    {
     "data": {
      "text/plain": [
       "['Rubby', 'akshatha', 'aishwarya', 'rohit']"
      ]
     },
     "execution_count": 23,
     "metadata": {},
     "output_type": "execute_result"
    }
   ],
   "source": [
    "names_list[1]=\"akshatha\" # list is mutable\n",
    "names_list"
   ]
  },
  {
   "cell_type": "code",
   "execution_count": 24,
   "id": "24387026-e0d0-4ba6-8dc1-bca9f7ce56e0",
   "metadata": {},
   "outputs": [],
   "source": [
    "nested=[\"a\",\"b\",[11,12,13],\"d\",[21,22]]"
   ]
  },
  {
   "cell_type": "code",
   "execution_count": 25,
   "id": "b5ab9a15-7f04-4f82-828e-b0694b81bf7e",
   "metadata": {},
   "outputs": [
    {
     "data": {
      "text/plain": [
       "[11, 12, 13]"
      ]
     },
     "execution_count": 25,
     "metadata": {},
     "output_type": "execute_result"
    }
   ],
   "source": [
    "nested[2]"
   ]
  },
  {
   "cell_type": "code",
   "execution_count": 26,
   "id": "9fb5a972-2304-476a-aebc-e57e7ff22d6d",
   "metadata": {},
   "outputs": [
    {
     "data": {
      "text/plain": [
       "13"
      ]
     },
     "execution_count": 26,
     "metadata": {},
     "output_type": "execute_result"
    }
   ],
   "source": [
    "nested[2][2]"
   ]
  },
  {
   "cell_type": "markdown",
   "id": "1dabcb35-1c2c-44b1-9e7a-f0543504d25a",
   "metadata": {},
   "source": [
    "## Membership Operator"
   ]
  },
  {
   "cell_type": "code",
   "execution_count": 27,
   "id": "03db9309-195e-498e-bae5-844d01ef0376",
   "metadata": {},
   "outputs": [
    {
     "data": {
      "text/plain": [
       "['Rubby', 'akshatha', 'aishwarya', 'rohit']"
      ]
     },
     "execution_count": 27,
     "metadata": {},
     "output_type": "execute_result"
    }
   ],
   "source": [
    "names_list"
   ]
  },
  {
   "cell_type": "code",
   "execution_count": 28,
   "id": "dfe40056-467b-4b70-8254-a686cf2cea1b",
   "metadata": {},
   "outputs": [
    {
     "data": {
      "text/plain": [
       "True"
      ]
     },
     "execution_count": 28,
     "metadata": {},
     "output_type": "execute_result"
    }
   ],
   "source": [
    "\"Rubby\" in names_list"
   ]
  },
  {
   "cell_type": "code",
   "execution_count": 29,
   "id": "4851822e-238c-4e38-a8fa-a26a4e483c9e",
   "metadata": {},
   "outputs": [
    {
     "data": {
      "text/plain": [
       "False"
      ]
     },
     "execution_count": 29,
     "metadata": {},
     "output_type": "execute_result"
    }
   ],
   "source": [
    "\"sejal\" in names_list"
   ]
  },
  {
   "cell_type": "code",
   "execution_count": 30,
   "id": "488d9a23-e413-4d94-9493-7355b2d0637d",
   "metadata": {},
   "outputs": [
    {
     "data": {
      "text/plain": [
       "False"
      ]
     },
     "execution_count": 30,
     "metadata": {},
     "output_type": "execute_result"
    }
   ],
   "source": [
    "\"Rohit\" in names_list"
   ]
  },
  {
   "cell_type": "markdown",
   "id": "0bfc899f-0a51-4cb7-b09b-60e305007d86",
   "metadata": {},
   "source": [
    "## List functions"
   ]
  },
  {
   "cell_type": "code",
   "execution_count": 7,
   "id": "ca99183f-53d2-4bbf-95d8-ff84775f7008",
   "metadata": {},
   "outputs": [
    {
     "data": {
      "text/plain": [
       "['a', 'b', 'c', 'd', 'e', 'f', 'c', 'c']"
      ]
     },
     "execution_count": 7,
     "metadata": {},
     "output_type": "execute_result"
    }
   ],
   "source": [
    "alpha=[\"a\",\"b\",\"c\",\"d\",\"e\",\"f\",\"c\",\"c\"]\n",
    "alpha"
   ]
  },
  {
   "cell_type": "code",
   "execution_count": 8,
   "id": "937516b0-126c-4b96-8d9e-200472b501eb",
   "metadata": {},
   "outputs": [
    {
     "data": {
      "text/plain": [
       "2"
      ]
     },
     "execution_count": 8,
     "metadata": {},
     "output_type": "execute_result"
    }
   ],
   "source": [
    "alpha.index(\"c\") # Returns the index value of an element \"c\" for the first occurance."
   ]
  },
  {
   "cell_type": "code",
   "execution_count": 9,
   "id": "4d1e8e63-b769-4877-9309-0e3cdc9618c0",
   "metadata": {},
   "outputs": [
    {
     "data": {
      "text/plain": [
       "3"
      ]
     },
     "execution_count": 9,
     "metadata": {},
     "output_type": "execute_result"
    }
   ],
   "source": [
    "alpha.count(\"c\")"
   ]
  },
  {
   "cell_type": "code",
   "execution_count": 10,
   "id": "d6c5e5ea-1bd0-4a40-ac61-456271e5d3ef",
   "metadata": {},
   "outputs": [],
   "source": [
    "alpha.append(\"f\") # adding new element to the list--only one element can be inserted at the end"
   ]
  },
  {
   "cell_type": "code",
   "execution_count": 11,
   "id": "74f73f69-795e-4168-a93f-e0307e0f1de6",
   "metadata": {},
   "outputs": [
    {
     "data": {
      "text/plain": [
       "['a', 'b', 'c', 'd', 'e', 'f', 'c', 'c', 'f']"
      ]
     },
     "execution_count": 11,
     "metadata": {},
     "output_type": "execute_result"
    }
   ],
   "source": [
    "alpha"
   ]
  },
  {
   "cell_type": "code",
   "execution_count": 12,
   "id": "e41299b7-b002-4d60-9906-61e71f9eb47a",
   "metadata": {},
   "outputs": [
    {
     "data": {
      "text/plain": [
       "['a', 'b', 'c', 'd', 'e', 'f', 'c', 'c', 'f', 'h']"
      ]
     },
     "execution_count": 12,
     "metadata": {},
     "output_type": "execute_result"
    }
   ],
   "source": [
    "alpha.append(\"h\")\n",
    "alpha"
   ]
  },
  {
   "cell_type": "code",
   "execution_count": 13,
   "id": "696f20f1-1514-47f3-877c-fc01003b4507",
   "metadata": {},
   "outputs": [
    {
     "data": {
      "text/plain": [
       "['a', 'b', 'c', 'd', 'e', 'f', 'c', 'c', 'f', 'h', 'i', 'j', 'k', 12, 15]"
      ]
     },
     "execution_count": 13,
     "metadata": {},
     "output_type": "execute_result"
    }
   ],
   "source": [
    "alpha.extend([\"i\",\"j\",\"k\",12,15]) # extending the list or joining of two list\n",
    "alpha"
   ]
  },
  {
   "cell_type": "code",
   "execution_count": 14,
   "id": "ce4ad825-852b-497f-a33d-81ff7316c6ad",
   "metadata": {},
   "outputs": [],
   "source": [
    "list1=[1,2,4]\n",
    "list2=[\"apple\",\"grapes\"]"
   ]
  },
  {
   "cell_type": "code",
   "execution_count": 15,
   "id": "8a557e68-53ef-49cd-bf93-f413cbac62b4",
   "metadata": {},
   "outputs": [
    {
     "data": {
      "text/plain": [
       "[1, 2, 4, 'apple', 'grapes']"
      ]
     },
     "execution_count": 15,
     "metadata": {},
     "output_type": "execute_result"
    }
   ],
   "source": [
    "list1.extend(list2) # joining of two list\n",
    "list1"
   ]
  },
  {
   "cell_type": "code",
   "execution_count": 16,
   "id": "5f55f832-1fae-456a-b10f-163e9ae654a5",
   "metadata": {},
   "outputs": [
    {
     "data": {
      "text/plain": [
       "[1, 2, 4, 'apple', 'grapes']"
      ]
     },
     "execution_count": 16,
     "metadata": {},
     "output_type": "execute_result"
    }
   ],
   "source": [
    "list1"
   ]
  },
  {
   "cell_type": "code",
   "execution_count": 17,
   "id": "548d1451-18c9-4d4c-b1b5-1d4d13f5b3dc",
   "metadata": {},
   "outputs": [
    {
     "data": {
      "text/plain": [
       "['a', 'b', 'c', 'd', 'e', 'f', 'c', 'c', 'f', 'h', 'i', 'j', 'k', 12, 15]"
      ]
     },
     "execution_count": 17,
     "metadata": {},
     "output_type": "execute_result"
    }
   ],
   "source": [
    "alpha"
   ]
  },
  {
   "cell_type": "code",
   "execution_count": 18,
   "id": "ce5b4496-6f41-4a5e-81ef-7865e18b3c2f",
   "metadata": {},
   "outputs": [
    {
     "data": {
      "text/plain": [
       "['a',\n",
       " 'b',\n",
       " 'c',\n",
       " 'rohit',\n",
       " 'd',\n",
       " 'e',\n",
       " 'f',\n",
       " 'c',\n",
       " 'c',\n",
       " 'f',\n",
       " 'h',\n",
       " 'i',\n",
       " 'j',\n",
       " 'k',\n",
       " 12,\n",
       " 15]"
      ]
     },
     "execution_count": 18,
     "metadata": {},
     "output_type": "execute_result"
    }
   ],
   "source": [
    "alpha.insert(3,\"rohit\")\n",
    "alpha"
   ]
  },
  {
   "cell_type": "code",
   "execution_count": 19,
   "id": "573b8112-610b-4073-a977-279124951992",
   "metadata": {},
   "outputs": [
    {
     "data": {
      "text/plain": [
       "['a', 'b', 'c', 'd', 'e', 'f', 'c', 'c', 'f', 'h', 'i', 'j', 'k', 12, 15]"
      ]
     },
     "execution_count": 19,
     "metadata": {},
     "output_type": "execute_result"
    }
   ],
   "source": [
    "alpha.remove(\"rohit\")\n",
    "alpha"
   ]
  },
  {
   "cell_type": "code",
   "execution_count": 20,
   "id": "0d93b5ca-d68f-4efd-aa91-7369809d8917",
   "metadata": {},
   "outputs": [],
   "source": [
    "alpha.reverse()"
   ]
  },
  {
   "cell_type": "code",
   "execution_count": 21,
   "id": "ddceee5c-3401-4008-8e2e-2e8fc437750c",
   "metadata": {},
   "outputs": [
    {
     "data": {
      "text/plain": [
       "[15, 12, 'k', 'j', 'i', 'h', 'f', 'c', 'c', 'f', 'e', 'd', 'c', 'b', 'a']"
      ]
     },
     "execution_count": 21,
     "metadata": {},
     "output_type": "execute_result"
    }
   ],
   "source": [
    "alpha"
   ]
  },
  {
   "cell_type": "code",
   "execution_count": 22,
   "id": "e3e81e5f-887f-4909-b8d8-af843e05171e",
   "metadata": {},
   "outputs": [
    {
     "data": {
      "text/plain": [
       "[]"
      ]
     },
     "execution_count": 22,
     "metadata": {},
     "output_type": "execute_result"
    }
   ],
   "source": [
    "alpha.clear()\n",
    "alpha"
   ]
  },
  {
   "cell_type": "code",
   "execution_count": 23,
   "id": "57c2c7a2-405d-486b-bd7c-1e5aded5a6b8",
   "metadata": {},
   "outputs": [],
   "source": [
    "del alpha"
   ]
  },
  {
   "cell_type": "code",
   "execution_count": 24,
   "id": "d5923c59-03c5-4a46-8a9d-c5e4c3548cb8",
   "metadata": {},
   "outputs": [
    {
     "ename": "NameError",
     "evalue": "name 'alpha' is not defined",
     "output_type": "error",
     "traceback": [
      "\u001b[1;31m---------------------------------------------------------------------------\u001b[0m",
      "\u001b[1;31mNameError\u001b[0m                                 Traceback (most recent call last)",
      "Cell \u001b[1;32mIn[24], line 1\u001b[0m\n\u001b[1;32m----> 1\u001b[0m alpha\n",
      "\u001b[1;31mNameError\u001b[0m: name 'alpha' is not defined"
     ]
    }
   ],
   "source": [
    "alpha"
   ]
  },
  {
   "cell_type": "markdown",
   "id": "b7d63943-d07f-4e49-ac8f-12bc10f102ab",
   "metadata": {},
   "source": [
    "# Tuple Datastructure"
   ]
  },
  {
   "cell_type": "code",
   "execution_count": 25,
   "id": "82534d07-202a-40ca-8b23-da508ac4368a",
   "metadata": {},
   "outputs": [
    {
     "data": {
      "text/plain": [
       "tuple"
      ]
     },
     "execution_count": 25,
     "metadata": {},
     "output_type": "execute_result"
    }
   ],
   "source": [
    "t1=()\n",
    "type(t1)"
   ]
  },
  {
   "cell_type": "code",
   "execution_count": 26,
   "id": "b57e00a0-75fe-455e-9eaa-a460aa551c79",
   "metadata": {},
   "outputs": [
    {
     "data": {
      "text/plain": [
       "tuple"
      ]
     },
     "execution_count": 26,
     "metadata": {},
     "output_type": "execute_result"
    }
   ],
   "source": [
    "t2=(\"a\",\"b\",True,12.55,100,[1,3])\n",
    "type(t2)"
   ]
  },
  {
   "cell_type": "code",
   "execution_count": 38,
   "id": "450c9b9e-735a-4bad-8d8c-b800830a95cc",
   "metadata": {},
   "outputs": [],
   "source": [
    "tup=(\"a\",\"b\",\"c\")"
   ]
  },
  {
   "cell_type": "markdown",
   "id": "60d78aee-9bb1-438b-b3a0-40ae5ef51413",
   "metadata": {},
   "source": [
    "### Tuple Indexing"
   ]
  },
  {
   "cell_type": "code",
   "execution_count": 31,
   "id": "250bd994-3706-4c5d-8c08-ad2363cf74ef",
   "metadata": {},
   "outputs": [
    {
     "data": {
      "text/plain": [
       "('a', 'b', 'c')"
      ]
     },
     "execution_count": 31,
     "metadata": {},
     "output_type": "execute_result"
    }
   ],
   "source": [
    "tup"
   ]
  },
  {
   "cell_type": "code",
   "execution_count": 28,
   "id": "57227ea3-ba93-4ace-bce6-c306fee9c237",
   "metadata": {},
   "outputs": [
    {
     "data": {
      "text/plain": [
       "'c'"
      ]
     },
     "execution_count": 28,
     "metadata": {},
     "output_type": "execute_result"
    }
   ],
   "source": [
    "tup[2]"
   ]
  },
  {
   "cell_type": "code",
   "execution_count": 29,
   "id": "0218f628-a2d4-4d3b-8772-75345d44eb0c",
   "metadata": {},
   "outputs": [
    {
     "data": {
      "text/plain": [
       "'b'"
      ]
     },
     "execution_count": 29,
     "metadata": {},
     "output_type": "execute_result"
    }
   ],
   "source": [
    "tup[-2]"
   ]
  },
  {
   "cell_type": "code",
   "execution_count": 30,
   "id": "e71dff65-bd75-443e-8f28-48c8a799ba1b",
   "metadata": {},
   "outputs": [
    {
     "data": {
      "text/plain": [
       "('a', 'c')"
      ]
     },
     "execution_count": 30,
     "metadata": {},
     "output_type": "execute_result"
    }
   ],
   "source": [
    "tup[::2]"
   ]
  },
  {
   "cell_type": "code",
   "execution_count": 32,
   "id": "a8def693-723b-4c54-9883-2e14755894e6",
   "metadata": {},
   "outputs": [
    {
     "ename": "TypeError",
     "evalue": "'tuple' object does not support item assignment",
     "output_type": "error",
     "traceback": [
      "\u001b[1;31m---------------------------------------------------------------------------\u001b[0m",
      "\u001b[1;31mTypeError\u001b[0m                                 Traceback (most recent call last)",
      "Cell \u001b[1;32mIn[32], line 1\u001b[0m\n\u001b[1;32m----> 1\u001b[0m tup[\u001b[38;5;241m1\u001b[39m]\u001b[38;5;241m=\u001b[39m\u001b[38;5;124m\"\u001b[39m\u001b[38;5;124msanjay\u001b[39m\u001b[38;5;124m\"\u001b[39m\n",
      "\u001b[1;31mTypeError\u001b[0m: 'tuple' object does not support item assignment"
     ]
    }
   ],
   "source": [
    "tup[1]=\"sanjay\""
   ]
  },
  {
   "cell_type": "markdown",
   "id": "250fe186-4b79-4ee6-8cc4-85229200ccd2",
   "metadata": {},
   "source": [
    "## Tuple Functions"
   ]
  },
  {
   "cell_type": "code",
   "execution_count": 39,
   "id": "6430ff07-ab7b-49c7-9aa7-9af59173e9b4",
   "metadata": {},
   "outputs": [
    {
     "data": {
      "text/plain": [
       "('a', 'b', 'c')"
      ]
     },
     "execution_count": 39,
     "metadata": {},
     "output_type": "execute_result"
    }
   ],
   "source": [
    "tup"
   ]
  },
  {
   "cell_type": "code",
   "execution_count": 33,
   "id": "d2a8bac0-00fe-40f4-bc9d-dd8018982be7",
   "metadata": {},
   "outputs": [
    {
     "data": {
      "text/plain": [
       "0"
      ]
     },
     "execution_count": 33,
     "metadata": {},
     "output_type": "execute_result"
    }
   ],
   "source": [
    "tup.index(\"a\")"
   ]
  },
  {
   "cell_type": "code",
   "execution_count": 34,
   "id": "55033314-32ee-4dd9-9e78-49911f00b995",
   "metadata": {},
   "outputs": [
    {
     "data": {
      "text/plain": [
       "1"
      ]
     },
     "execution_count": 34,
     "metadata": {},
     "output_type": "execute_result"
    }
   ],
   "source": [
    "tup.count(\"b\")"
   ]
  },
  {
   "cell_type": "code",
   "execution_count": 35,
   "id": "b5be5c4e-e7eb-4290-896b-b783f34d9397",
   "metadata": {},
   "outputs": [],
   "source": [
    "del tup"
   ]
  },
  {
   "cell_type": "code",
   "execution_count": 36,
   "id": "1f34e99c-478c-4a40-9192-a0c74ce2c406",
   "metadata": {},
   "outputs": [
    {
     "ename": "NameError",
     "evalue": "name 'tup' is not defined",
     "output_type": "error",
     "traceback": [
      "\u001b[1;31m---------------------------------------------------------------------------\u001b[0m",
      "\u001b[1;31mNameError\u001b[0m                                 Traceback (most recent call last)",
      "Cell \u001b[1;32mIn[36], line 1\u001b[0m\n\u001b[1;32m----> 1\u001b[0m tup\n",
      "\u001b[1;31mNameError\u001b[0m: name 'tup' is not defined"
     ]
    }
   ],
   "source": [
    "tup"
   ]
  },
  {
   "cell_type": "markdown",
   "id": "835dffba-696d-4dcd-8144-7709b7675666",
   "metadata": {},
   "source": [
    "## Set Data Structure"
   ]
  },
  {
   "cell_type": "code",
   "execution_count": 40,
   "id": "28172283-5fc0-416c-80b7-7e6f7f672c65",
   "metadata": {},
   "outputs": [],
   "source": [
    "s1={1,2,3,44,4,4,4,4,4,6,7,8,8,\"a\",0,12.55,155}"
   ]
  },
  {
   "cell_type": "code",
   "execution_count": 41,
   "id": "07e876f9-09f2-4659-b98e-87a9ebc6b139",
   "metadata": {},
   "outputs": [
    {
     "data": {
      "text/plain": [
       "set"
      ]
     },
     "execution_count": 41,
     "metadata": {},
     "output_type": "execute_result"
    }
   ],
   "source": [
    "type(s1)"
   ]
  },
  {
   "cell_type": "code",
   "execution_count": 42,
   "id": "9a2ab934-c411-474d-85f0-ceb9c5e5f3a9",
   "metadata": {},
   "outputs": [
    {
     "data": {
      "text/plain": [
       "{0, 1, 12.55, 155, 2, 3, 4, 44, 6, 7, 8, 'a'}"
      ]
     },
     "execution_count": 42,
     "metadata": {},
     "output_type": "execute_result"
    }
   ],
   "source": [
    "s1"
   ]
  },
  {
   "cell_type": "code",
   "execution_count": 43,
   "id": "722134c4-bc45-418e-b6a8-6c50ff7a176a",
   "metadata": {},
   "outputs": [
    {
     "data": {
      "text/plain": [
       "{1, 4, 10}"
      ]
     },
     "execution_count": 43,
     "metadata": {},
     "output_type": "execute_result"
    }
   ],
   "source": [
    "s2={10,10,10,1,4}\n",
    "s2"
   ]
  },
  {
   "cell_type": "markdown",
   "id": "ef49bcbc-fe47-4864-bfb8-3341eb4e1ca4",
   "metadata": {},
   "source": [
    "## Set Functions"
   ]
  },
  {
   "cell_type": "code",
   "execution_count": 44,
   "id": "d3760edc-8514-41e1-91df-e2f9ebaed3e9",
   "metadata": {},
   "outputs": [
    {
     "data": {
      "text/plain": [
       "{'a', 'b', 'c', 'd'}"
      ]
     },
     "execution_count": 44,
     "metadata": {},
     "output_type": "execute_result"
    }
   ],
   "source": [
    "myset={\"a\",\"b\",\"c\",\"d\"}\n",
    "myset"
   ]
  },
  {
   "cell_type": "code",
   "execution_count": 45,
   "id": "504586ca-938b-4fcf-a76b-23151d68bc0f",
   "metadata": {},
   "outputs": [
    {
     "data": {
      "text/plain": [
       "{'a', 'b', 'c', 'd', 'e'}"
      ]
     },
     "execution_count": 45,
     "metadata": {},
     "output_type": "execute_result"
    }
   ],
   "source": [
    "myset.add(\"e\")\n",
    "myset"
   ]
  },
  {
   "cell_type": "code",
   "execution_count": 46,
   "id": "ef6a1099-bee3-4446-98b8-5334ef20c9a5",
   "metadata": {},
   "outputs": [
    {
     "data": {
      "text/plain": [
       "{'a', 'b', 'c', 'd', 'e', 'f', 'g', 'h'}"
      ]
     },
     "execution_count": 46,
     "metadata": {},
     "output_type": "execute_result"
    }
   ],
   "source": [
    "myset.update([\"f\",\"g\",\"h\"])\n",
    "myset"
   ]
  },
  {
   "cell_type": "code",
   "execution_count": 47,
   "id": "7b03595c-a991-48b7-91a0-8ba068f6d275",
   "metadata": {},
   "outputs": [
    {
     "data": {
      "text/plain": [
       "{'b', 'c', 'd', 'e', 'f', 'g', 'h'}"
      ]
     },
     "execution_count": 47,
     "metadata": {},
     "output_type": "execute_result"
    }
   ],
   "source": [
    "myset.remove(\"a\")\n",
    "myset"
   ]
  },
  {
   "cell_type": "code",
   "execution_count": 51,
   "id": "06fc18b8-59fe-4404-aaaf-45792ee09093",
   "metadata": {},
   "outputs": [],
   "source": [
    "A={1,2,3,4,5}\n",
    "B={4,5,6,7,8}"
   ]
  },
  {
   "cell_type": "code",
   "execution_count": 52,
   "id": "65ce2d7d-bc14-434b-85b8-a03dff52071d",
   "metadata": {},
   "outputs": [
    {
     "data": {
      "text/plain": [
       "{1, 2, 3, 4, 5, 6, 7, 8}"
      ]
     },
     "execution_count": 52,
     "metadata": {},
     "output_type": "execute_result"
    }
   ],
   "source": [
    "A.union(B) # Combines both the set or it returns all the values in A and B set"
   ]
  },
  {
   "cell_type": "code",
   "execution_count": 53,
   "id": "f49e0b21-3c79-4203-a01a-b6648f197bf4",
   "metadata": {},
   "outputs": [
    {
     "data": {
      "text/plain": [
       "{4, 5}"
      ]
     },
     "execution_count": 53,
     "metadata": {},
     "output_type": "execute_result"
    }
   ],
   "source": [
    "A.intersection(B)  # returns common elements"
   ]
  },
  {
   "cell_type": "code",
   "execution_count": 54,
   "id": "cfcdcd0b-a9a4-41fa-a926-5b8917ba28ac",
   "metadata": {},
   "outputs": [
    {
     "data": {
      "text/plain": [
       "{1, 2, 3}"
      ]
     },
     "execution_count": 54,
     "metadata": {},
     "output_type": "execute_result"
    }
   ],
   "source": [
    "A.difference(B)"
   ]
  },
  {
   "cell_type": "code",
   "execution_count": 56,
   "id": "68148d34-a555-415d-a335-bb284bc01b7f",
   "metadata": {},
   "outputs": [
    {
     "data": {
      "text/plain": [
       "{6, 7, 8}"
      ]
     },
     "execution_count": 56,
     "metadata": {},
     "output_type": "execute_result"
    }
   ],
   "source": [
    "B.difference(A)"
   ]
  },
  {
   "cell_type": "code",
   "execution_count": 59,
   "id": "a19b105c-ee8a-48de-af74-68481c140c13",
   "metadata": {},
   "outputs": [],
   "source": [
    "B.clear()"
   ]
  },
  {
   "cell_type": "code",
   "execution_count": 60,
   "id": "5ff0a1c5-e219-453b-a98f-d85ead7738a6",
   "metadata": {},
   "outputs": [
    {
     "data": {
      "text/plain": [
       "set()"
      ]
     },
     "execution_count": 60,
     "metadata": {},
     "output_type": "execute_result"
    }
   ],
   "source": [
    "B"
   ]
  },
  {
   "cell_type": "code",
   "execution_count": 57,
   "id": "a7b1dea8-a929-4d43-ab39-9b50357afcae",
   "metadata": {},
   "outputs": [],
   "source": [
    "del A"
   ]
  },
  {
   "cell_type": "code",
   "execution_count": 58,
   "id": "46eadb7b-321f-4aa4-b383-aaec31d8b7ab",
   "metadata": {},
   "outputs": [
    {
     "ename": "NameError",
     "evalue": "name 'A' is not defined",
     "output_type": "error",
     "traceback": [
      "\u001b[1;31m---------------------------------------------------------------------------\u001b[0m",
      "\u001b[1;31mNameError\u001b[0m                                 Traceback (most recent call last)",
      "Cell \u001b[1;32mIn[58], line 1\u001b[0m\n\u001b[1;32m----> 1\u001b[0m A\n",
      "\u001b[1;31mNameError\u001b[0m: name 'A' is not defined"
     ]
    }
   ],
   "source": [
    "A"
   ]
  },
  {
   "cell_type": "markdown",
   "id": "a311e772-a8a9-4ce8-aefa-150f04cd98a2",
   "metadata": {},
   "source": [
    "# Dictionary"
   ]
  },
  {
   "cell_type": "code",
   "execution_count": 61,
   "id": "2a55a5c5-85c9-46fe-b97f-afafaa2e2c10",
   "metadata": {},
   "outputs": [
    {
     "data": {
      "text/plain": [
       "set"
      ]
     },
     "execution_count": 61,
     "metadata": {},
     "output_type": "execute_result"
    }
   ],
   "source": [
    "empty_set=set()\n",
    "type(empty_set)"
   ]
  },
  {
   "cell_type": "code",
   "execution_count": 62,
   "id": "6f225ac8-1bfe-4eba-952a-b2c8280024bd",
   "metadata": {},
   "outputs": [
    {
     "data": {
      "text/plain": [
       "dict"
      ]
     },
     "execution_count": 62,
     "metadata": {},
     "output_type": "execute_result"
    }
   ],
   "source": [
    "d1={}\n",
    "type(d1)"
   ]
  },
  {
   "cell_type": "code",
   "execution_count": 63,
   "id": "7e943289-4c95-49bc-a446-ae0c6b242681",
   "metadata": {},
   "outputs": [
    {
     "data": {
      "text/plain": [
       "{1: 'amit', 2: 'anushA', 'city': 'banagalore'}"
      ]
     },
     "execution_count": 63,
     "metadata": {},
     "output_type": "execute_result"
    }
   ],
   "source": [
    "d={1:\"amit\",2:\"anushA\",\"city\":\"banagalore\"}\n",
    "d"
   ]
  },
  {
   "cell_type": "code",
   "execution_count": 64,
   "id": "17fdf6d2-ec7f-440d-908c-58cb16225e2d",
   "metadata": {},
   "outputs": [
    {
     "data": {
      "text/plain": [
       "{'name': 'akshatha', 'age': 30, 'city': 'bangalore'}"
      ]
     },
     "execution_count": 64,
     "metadata": {},
     "output_type": "execute_result"
    }
   ],
   "source": [
    "s={\"name\":\"akshatha\",\"age\":30,\"city\":\"bangalore\"}\n",
    "s"
   ]
  },
  {
   "cell_type": "code",
   "execution_count": 65,
   "id": "17423cf7-a22c-425c-9f6b-3ed01a2b3713",
   "metadata": {},
   "outputs": [
    {
     "data": {
      "text/plain": [
       "'akshatha'"
      ]
     },
     "execution_count": 65,
     "metadata": {},
     "output_type": "execute_result"
    }
   ],
   "source": [
    "s[\"name\"]"
   ]
  },
  {
   "cell_type": "code",
   "execution_count": 66,
   "id": "d02d685c-4b14-490c-bb1a-0dc36e14de51",
   "metadata": {},
   "outputs": [
    {
     "data": {
      "text/plain": [
       "'bangalore'"
      ]
     },
     "execution_count": 66,
     "metadata": {},
     "output_type": "execute_result"
    }
   ],
   "source": [
    "s[\"city\"]"
   ]
  },
  {
   "cell_type": "code",
   "execution_count": 67,
   "id": "a683a8a7-7eec-4cb9-a919-911e525f4623",
   "metadata": {},
   "outputs": [
    {
     "data": {
      "text/plain": [
       "30"
      ]
     },
     "execution_count": 67,
     "metadata": {},
     "output_type": "execute_result"
    }
   ],
   "source": [
    "s[\"age\"]"
   ]
  },
  {
   "cell_type": "code",
   "execution_count": 68,
   "id": "29043051-19da-4762-b5f8-ed1eceda8357",
   "metadata": {},
   "outputs": [
    {
     "data": {
      "text/plain": [
       "set()"
      ]
     },
     "execution_count": 68,
     "metadata": {},
     "output_type": "execute_result"
    }
   ],
   "source": [
    "myset=set()\n",
    "myset"
   ]
  },
  {
   "cell_type": "code",
   "execution_count": 69,
   "id": "0a865399-cb24-4371-847f-9cd4dee8050b",
   "metadata": {},
   "outputs": [
    {
     "data": {
      "text/plain": [
       "{'name': 'akshatha', 'age': 30, 'city': 'bangalore', 'course': 'CDA'}"
      ]
     },
     "execution_count": 69,
     "metadata": {},
     "output_type": "execute_result"
    }
   ],
   "source": [
    "s[\"course\"]=\"CDA\"\n",
    "s"
   ]
  },
  {
   "cell_type": "code",
   "execution_count": 70,
   "id": "a29cc814-4dcb-4975-a865-4f298ab14d51",
   "metadata": {},
   "outputs": [
    {
     "data": {
      "text/plain": [
       "{'name': 'Ramya', 'age': 30, 'city': 'bangalore', 'course': 'CDA'}"
      ]
     },
     "execution_count": 70,
     "metadata": {},
     "output_type": "execute_result"
    }
   ],
   "source": [
    "s[\"name\"]=\"Ramya\"\n",
    "s"
   ]
  },
  {
   "cell_type": "markdown",
   "id": "432d8b03-0575-4352-93fe-033b80e37c7e",
   "metadata": {},
   "source": [
    "# Dictionary Functions"
   ]
  },
  {
   "cell_type": "code",
   "execution_count": 1,
   "id": "27281fc9-e7c7-4f3b-bc73-9edf0cb5c441",
   "metadata": {},
   "outputs": [
    {
     "data": {
      "text/plain": [
       "{'name': 'akshatha', 'age': 30, 'city': 'bangalore'}"
      ]
     },
     "execution_count": 1,
     "metadata": {},
     "output_type": "execute_result"
    }
   ],
   "source": [
    "s={\"name\":\"akshatha\",\"age\":30,\"city\":\"bangalore\"}\n",
    "s"
   ]
  },
  {
   "cell_type": "code",
   "execution_count": 5,
   "id": "4303f779-b02b-4811-b2a8-9fbc8c4e7d3b",
   "metadata": {},
   "outputs": [
    {
     "data": {
      "text/plain": [
       "dict_keys(['name', 'age', 'city'])"
      ]
     },
     "execution_count": 5,
     "metadata": {},
     "output_type": "execute_result"
    }
   ],
   "source": [
    "s.keys() # returns all the key in the dictionary"
   ]
  },
  {
   "cell_type": "code",
   "execution_count": 3,
   "id": "9b271c7f-39f8-49eb-b4ee-09e34d7210af",
   "metadata": {},
   "outputs": [
    {
     "data": {
      "text/plain": [
       "dict_values(['akshatha', 30, 'bangalore'])"
      ]
     },
     "execution_count": 3,
     "metadata": {},
     "output_type": "execute_result"
    }
   ],
   "source": [
    "s.values()"
   ]
  },
  {
   "cell_type": "code",
   "execution_count": 6,
   "id": "42792d05-d215-4ed7-8f82-47bd1fa67f16",
   "metadata": {},
   "outputs": [
    {
     "data": {
      "text/plain": [
       "dict_items([('name', 'akshatha'), ('age', 30), ('city', 'bangalore')])"
      ]
     },
     "execution_count": 6,
     "metadata": {},
     "output_type": "execute_result"
    }
   ],
   "source": [
    "s.items() # returns key value pair"
   ]
  },
  {
   "cell_type": "code",
   "execution_count": 7,
   "id": "2f7de3e9-0ddc-4345-9880-ab1bea99f73e",
   "metadata": {},
   "outputs": [
    {
     "data": {
      "text/plain": [
       "{'name': 'akshatha', 'age': 30, 'city': 'bangalore', 'phone': 9220033}"
      ]
     },
     "execution_count": 7,
     "metadata": {},
     "output_type": "execute_result"
    }
   ],
   "source": [
    "s.update({\"phone\":9220033})\n",
    "s"
   ]
  },
  {
   "cell_type": "code",
   "execution_count": 9,
   "id": "71470942-0a45-4611-b847-1847f0158359",
   "metadata": {},
   "outputs": [
    {
     "data": {
      "text/plain": [
       "{'name': 'akshatha',\n",
       " 'age': 30,\n",
       " 'city': 'bangalore',\n",
       " 'phone': 9220033,\n",
       " 'gender': 'female',\n",
       " 'DOB': '07-01-85'}"
      ]
     },
     "execution_count": 9,
     "metadata": {},
     "output_type": "execute_result"
    }
   ],
   "source": [
    "s.update({\"gender\":\"female\",\"DOB\":\"07-01-85\"})\n",
    "s"
   ]
  },
  {
   "cell_type": "code",
   "execution_count": 10,
   "id": "2d1853ea-99da-4870-8a88-2ad91066e9b7",
   "metadata": {},
   "outputs": [],
   "source": [
    "del s[\"phone\"]"
   ]
  },
  {
   "cell_type": "code",
   "execution_count": 11,
   "id": "c6a91c7e-6ba3-447e-85e8-0b8af4b78c0e",
   "metadata": {},
   "outputs": [
    {
     "data": {
      "text/plain": [
       "{'name': 'akshatha',\n",
       " 'age': 30,\n",
       " 'city': 'bangalore',\n",
       " 'gender': 'female',\n",
       " 'DOB': '07-01-85'}"
      ]
     },
     "execution_count": 11,
     "metadata": {},
     "output_type": "execute_result"
    }
   ],
   "source": [
    "s"
   ]
  },
  {
   "cell_type": "markdown",
   "id": "c861900a-18b9-4ae0-b326-30755bd885c5",
   "metadata": {},
   "source": [
    "# While Loop"
   ]
  },
  {
   "cell_type": "code",
   "execution_count": 12,
   "id": "c98f2cca-ea76-4080-af3b-de2740616720",
   "metadata": {},
   "outputs": [
    {
     "name": "stdout",
     "output_type": "stream",
     "text": [
      "good evening\n",
      "good evening\n",
      "good evening\n",
      "good evening\n",
      "good evening\n",
      "end of the program\n"
     ]
    }
   ],
   "source": [
    "i=0 # initalize the counter variable\n",
    "while i<5:\n",
    "    print(\"good evening\") # this statement exectutes 5 times only when condition is true for each loop\n",
    "    i=i+1 # count number of iteration and increment the value by 1 for each loop\n",
    "print(\"end of the program\") # independent statement"
   ]
  },
  {
   "cell_type": "code",
   "execution_count": 15,
   "id": "7fc9b38a-36c7-47c9-ab7b-2dfe651d3a4e",
   "metadata": {},
   "outputs": [
    {
     "name": "stdout",
     "output_type": "stream",
     "text": [
      "print numbers from 1 to 10 using while loop\n",
      "1\n",
      "**** skipping the 4th Iteration*****\n",
      "3\n",
      "4\n",
      "5\n",
      "6\n",
      "7\n",
      "8\n",
      "9\n",
      "10\n",
      "loop ended\n"
     ]
    }
   ],
   "source": [
    "print(\"print numbers from 1 to 10 using while loop\")\n",
    "i= 1\n",
    "while i <= 10:\n",
    "    \n",
    "    if i==2:\n",
    "        print(\"**** skipping the 4th Iteration*****\")\n",
    "        i=i+1\n",
    "        continue\n",
    "    print(i)\n",
    "    i += 1 # i=i+1\n",
    "\n",
    "print(\"loop ended\")"
   ]
  },
  {
   "cell_type": "code",
   "execution_count": 17,
   "id": "b57e94de-897c-4358-a099-efdb03a3848e",
   "metadata": {},
   "outputs": [
    {
     "ename": "IndentationError",
     "evalue": "unindent does not match any outer indentation level (<string>, line 9)",
     "output_type": "error",
     "traceback": [
      "\u001b[1;36m  File \u001b[1;32m<string>:9\u001b[1;36m\u001b[0m\n\u001b[1;33m    print(i)\u001b[0m\n\u001b[1;37m            ^\u001b[0m\n\u001b[1;31mIndentationError\u001b[0m\u001b[1;31m:\u001b[0m unindent does not match any outer indentation level\n"
     ]
    }
   ],
   "source": [
    "print(\"print the no of 1 to 10 using while loop\")\n",
    "i=1\n",
    "while i<=10:\n",
    "\n",
    "    if i==4:\n",
    "        print(\"****Skipping the 4th Iteration\")\n",
    "        i=i+1\n",
    "        continue\n",
    "    print(i)\n",
    "    i+=1\n",
    "   \n",
    "    \n",
    "print(\"loop ended\")\n"
   ]
  },
  {
   "cell_type": "markdown",
   "id": "165da544-55b3-4125-9f40-e63cffc2a0b8",
   "metadata": {},
   "source": [
    "# For Loop"
   ]
  },
  {
   "cell_type": "code",
   "execution_count": 18,
   "id": "abd61a17-b522-4936-aeb0-b3aaa21a6062",
   "metadata": {},
   "outputs": [
    {
     "name": "stdout",
     "output_type": "stream",
     "text": [
      "syed\n",
      "mohanthy\n",
      "aish\n",
      "manjula\n"
     ]
    }
   ],
   "source": [
    "list_var=[\"syed\",\"mohanthy\",\"aish\",\"manjula\"]\n",
    "for n in list_var:\n",
    "    print(n)"
   ]
  },
  {
   "cell_type": "code",
   "execution_count": 19,
   "id": "52d00765-4f91-46cb-a607-455db92d6789",
   "metadata": {},
   "outputs": [
    {
     "name": "stdout",
     "output_type": "stream",
     "text": [
      "l\n",
      "i\n",
      "n\n",
      "k\n",
      " \n",
      "i\n",
      "s\n",
      " \n",
      "s\n",
      "h\n",
      "a\n",
      "r\n",
      "e\n",
      "d\n",
      " \n",
      "i\n",
      "n\n",
      " \n",
      "c\n",
      "h\n",
      "a\n",
      "t\n",
      " \n",
      "b\n",
      "o\n",
      "x\n"
     ]
    }
   ],
   "source": [
    "str_var=\"link is shared in chat box\"\n",
    "for s in str_var:\n",
    "    print(s)"
   ]
  },
  {
   "cell_type": "code",
   "execution_count": 20,
   "id": "9ab9d0f2-dc6e-43e3-ab03-52ae2662d856",
   "metadata": {},
   "outputs": [
    {
     "name": "stdout",
     "output_type": "stream",
     "text": [
      "0\n",
      "1\n",
      "2\n",
      "3\n",
      "4\n",
      "5\n"
     ]
    }
   ],
   "source": [
    "for x in range(6): # generates a number from 0 to 5\n",
    "    print(x)"
   ]
  },
  {
   "cell_type": "code",
   "execution_count": 22,
   "id": "63429137-7b30-4bfe-8517-f0aa2e164a3d",
   "metadata": {},
   "outputs": [
    {
     "name": "stdout",
     "output_type": "stream",
     "text": [
      "1\n",
      "3\n",
      "5\n",
      "7\n",
      "9\n"
     ]
    }
   ],
   "source": [
    "for y in range(1,11,2):\n",
    "    print(y)"
   ]
  },
  {
   "cell_type": "code",
   "execution_count": 23,
   "id": "2e49ed48-d4f3-4ae1-8f7b-8322fe6aa43c",
   "metadata": {},
   "outputs": [
    {
     "name": "stdout",
     "output_type": "stream",
     "text": [
      "1 a\n",
      "1 b\n",
      "1 c\n",
      "2 a\n",
      "2 b\n",
      "2 c\n",
      "3 a\n",
      "3 b\n",
      "3 c\n"
     ]
    }
   ],
   "source": [
    "for a in [1,2,3]:\n",
    "    for b in [\"a\",\"b\",\"c\"]:\n",
    "        print(a,b)"
   ]
  },
  {
   "cell_type": "code",
   "execution_count": 1,
   "id": "e607beef-8046-4039-8f31-a6f323ed0d1c",
   "metadata": {},
   "outputs": [
    {
     "name": "stdout",
     "output_type": "stream",
     "text": [
      "Anu\n",
      "Bhanu\n",
      "Found Bhanu, breaking the loop.\n",
      "Loop has ended.\n"
     ]
    }
   ],
   "source": [
    "name_list = [\"Anu\", \"Bhanu\", \"Charlie\"]\n",
    "for name in name_list:\n",
    "    print(name)\n",
    "    if name == \"Bhanu\":\n",
    "        print(\"Found Bhanu, breaking the loop.\")\n",
    "        break\n",
    "print(\"Loop has ended.\")"
   ]
  },
  {
   "cell_type": "code",
   "execution_count": 2,
   "id": "93d477b0-d7c2-45e6-998b-8ffd82b82cc1",
   "metadata": {},
   "outputs": [
    {
     "name": "stdout",
     "output_type": "stream",
     "text": [
      "The name is: ashwin\n",
      "The name is: divya\n",
      "Found john, skipping to the next iteration.\n",
      "The name is: charlie\n",
      "Loop has ended.\n"
     ]
    }
   ],
   "source": [
    "name_list = [\"ashwin\", \"divya\",\"john\", \"charlie\"]\n",
    "for name in name_list:\n",
    "    \n",
    "    if name == \"john\":\n",
    "        print(\"Found john, skipping to the next iteration.\")\n",
    "        continue\n",
    "    print(\"The name is:\", name)\n",
    "print(\"Loop has ended.\")           \n"
   ]
  },
  {
   "cell_type": "markdown",
   "id": "e36518e0-2c03-4ff1-9b81-6609dc35c342",
   "metadata": {},
   "source": [
    "# Function"
   ]
  },
  {
   "cell_type": "code",
   "execution_count": 3,
   "id": "a289a283-d035-413c-b666-046bbb2cf8ce",
   "metadata": {},
   "outputs": [
    {
     "ename": "NameError",
     "evalue": "name 'hello' is not defined",
     "output_type": "error",
     "traceback": [
      "\u001b[1;31m---------------------------------------------------------------------------\u001b[0m",
      "\u001b[1;31mNameError\u001b[0m                                 Traceback (most recent call last)",
      "Cell \u001b[1;32mIn[3], line 1\u001b[0m\n\u001b[1;32m----> 1\u001b[0m hello()\n",
      "\u001b[1;31mNameError\u001b[0m: name 'hello' is not defined"
     ]
    }
   ],
   "source": [
    "hello()"
   ]
  },
  {
   "cell_type": "code",
   "execution_count": null,
   "id": "06fadf2e-0964-4fc1-8b9f-e47849f4ffd2",
   "metadata": {},
   "outputs": [],
   "source": [
    "def function_name(parameter1,parameter2....):\n",
    "    \"\"\"this is doc string--decribes about the function\"\"\"\n",
    "    statement1\n",
    "    statement1\n",
    "    .\n",
    "    .\n",
    "    return var/exp/bool\n",
    "\n",
    "function_name(argument1,argument2.....)"
   ]
  },
  {
   "cell_type": "code",
   "execution_count": 4,
   "id": "9dc11dcc-b75e-4623-91cf-8b2ef95874ee",
   "metadata": {},
   "outputs": [],
   "source": [
    "def hello_function():\n",
    "    print(\"hi..students,Good Evening\")"
   ]
  },
  {
   "cell_type": "code",
   "execution_count": 5,
   "id": "f6748940-99e6-4dc9-906d-826e23022eb4",
   "metadata": {},
   "outputs": [
    {
     "name": "stdout",
     "output_type": "stream",
     "text": [
      "hi..students,Good Evening\n"
     ]
    }
   ],
   "source": [
    "hello_function()"
   ]
  },
  {
   "cell_type": "code",
   "execution_count": 6,
   "id": "1ed7a877-4dd3-4fc7-aba6-46806b36f6e9",
   "metadata": {},
   "outputs": [
    {
     "name": "stdout",
     "output_type": "stream",
     "text": [
      "hi..students,Good Evening\n"
     ]
    }
   ],
   "source": [
    "hello_function()"
   ]
  },
  {
   "cell_type": "code",
   "execution_count": 7,
   "id": "513ed320-800f-41d0-bf3a-b67a634d2e0c",
   "metadata": {},
   "outputs": [
    {
     "name": "stdout",
     "output_type": "stream",
     "text": [
      "hi..students,Good Evening\n"
     ]
    }
   ],
   "source": [
    "hello_function()"
   ]
  },
  {
   "cell_type": "code",
   "execution_count": 8,
   "id": "60b3af5c-ad5f-4e9a-9c9b-5859d9c9dfa0",
   "metadata": {},
   "outputs": [],
   "source": [
    "def add_two_numbers(a,b):\n",
    "    c=a+b\n",
    "    print(c)"
   ]
  },
  {
   "cell_type": "code",
   "execution_count": 9,
   "id": "1b915acf-f591-4252-9b20-7864705ab126",
   "metadata": {},
   "outputs": [
    {
     "name": "stdout",
     "output_type": "stream",
     "text": [
      "8\n"
     ]
    }
   ],
   "source": [
    "add_two_numbers(5,3)"
   ]
  },
  {
   "cell_type": "code",
   "execution_count": 10,
   "id": "d02ddd90-9b1a-46c7-bbf4-5ce6a68a4e28",
   "metadata": {},
   "outputs": [
    {
     "name": "stdout",
     "output_type": "stream",
     "text": [
      "30\n"
     ]
    }
   ],
   "source": [
    "add_two_numbers(10,20)"
   ]
  },
  {
   "cell_type": "code",
   "execution_count": 15,
   "id": "d17904d3-6c80-4e2b-9429-fb79436fadde",
   "metadata": {},
   "outputs": [],
   "source": [
    "def add_two_numbers(a,b):\n",
    "    c=a+b\n",
    "    print(c)\n",
    "    return c"
   ]
  },
  {
   "cell_type": "code",
   "execution_count": 16,
   "id": "289df70f-2434-478d-afac-bad343b11937",
   "metadata": {},
   "outputs": [
    {
     "name": "stdout",
     "output_type": "stream",
     "text": [
      "10\n",
      "the value of result 10\n"
     ]
    }
   ],
   "source": [
    "result=add_two_numbers(4,6)\n",
    "print(\"the value of result\",result)"
   ]
  },
  {
   "cell_type": "code",
   "execution_count": 21,
   "id": "1a65e45b-2300-494e-bb0a-01efcccd8bab",
   "metadata": {},
   "outputs": [],
   "source": [
    "def avg(a,b):\n",
    "    \"\"\"doc string--this function block executes average of two numbers\"\"\"\n",
    "    return (a+b)/2"
   ]
  },
  {
   "cell_type": "code",
   "execution_count": 25,
   "id": "0483c550-db7b-4224-8f8a-9b93acf53fec",
   "metadata": {},
   "outputs": [
    {
     "name": "stdin",
     "output_type": "stream",
     "text": [
      "enter the value of x 12\n",
      "enter the value of y 11\n"
     ]
    },
    {
     "name": "stdout",
     "output_type": "stream",
     "text": [
      "the value of result 11.5\n"
     ]
    }
   ],
   "source": [
    "x=int(input(\"enter the value of x\"))\n",
    "y=int(input(\"enter the value of y\"))\n",
    "result=avg(x,y)\n",
    "print(\"the value of result\",result)"
   ]
  },
  {
   "cell_type": "code",
   "execution_count": null,
   "id": "6519bbe2-af4d-41d7-80b8-c71bb458e2d4",
   "metadata": {},
   "outputs": [],
   "source": [
    "len([10,20,30])"
   ]
  },
  {
   "cell_type": "code",
   "execution_count": 23,
   "id": "2c63974c-d3ce-4032-b26c-c3b44db1c6e3",
   "metadata": {},
   "outputs": [
    {
     "data": {
      "text/plain": [
       "'doc string--this function block executes average of two numbers'"
      ]
     },
     "execution_count": 23,
     "metadata": {},
     "output_type": "execute_result"
    }
   ],
   "source": [
    "avg.__doc__"
   ]
  },
  {
   "cell_type": "code",
   "execution_count": 24,
   "id": "d61a408f-2dc5-490b-8b8d-ddefc53ea5c0",
   "metadata": {},
   "outputs": [
    {
     "data": {
      "text/plain": [
       "'Return the number of items in a container.'"
      ]
     },
     "execution_count": 24,
     "metadata": {},
     "output_type": "execute_result"
    }
   ],
   "source": [
    "len.__doc__"
   ]
  },
  {
   "cell_type": "code",
   "execution_count": 27,
   "id": "4f7b52d6-8884-473d-8b01-e666cf80f8b4",
   "metadata": {},
   "outputs": [
    {
     "data": {
      "text/plain": [
       "10"
      ]
     },
     "execution_count": 27,
     "metadata": {},
     "output_type": "execute_result"
    }
   ],
   "source": [
    "def funct(x,y):\n",
    "    \"\"\"this function block return only first argument\"\"\"\n",
    "    return x\n",
    "\n",
    "funct(10,3)"
   ]
  },
  {
   "cell_type": "code",
   "execution_count": 28,
   "id": "061e8ff1-904b-49c3-b487-f6c7b47a0f52",
   "metadata": {},
   "outputs": [
    {
     "data": {
      "text/plain": [
       "'this function block return only first argument'"
      ]
     },
     "execution_count": 28,
     "metadata": {},
     "output_type": "execute_result"
    }
   ],
   "source": [
    "funct.__doc__"
   ]
  },
  {
   "cell_type": "markdown",
   "id": "b7af3792-c170-47ef-9eaa-c2833d9c8aaa",
   "metadata": {},
   "source": [
    "# Lambda"
   ]
  },
  {
   "cell_type": "code",
   "execution_count": 29,
   "id": "8dc40317-d640-4737-92da-1ccef8cc644d",
   "metadata": {},
   "outputs": [],
   "source": [
    "sum_of_numbers=lambda a,b:a+b"
   ]
  },
  {
   "cell_type": "code",
   "execution_count": 30,
   "id": "32594baa-0b7e-4ec4-ab5a-b30ed9be958f",
   "metadata": {},
   "outputs": [
    {
     "data": {
      "text/plain": [
       "13"
      ]
     },
     "execution_count": 30,
     "metadata": {},
     "output_type": "execute_result"
    }
   ],
   "source": [
    "sum_of_numbers(6,7)"
   ]
  },
  {
   "cell_type": "code",
   "execution_count": 31,
   "id": "4dd4f451-6b5b-4fb4-ba40-d249a2d96bae",
   "metadata": {},
   "outputs": [],
   "source": [
    "avg_two=lambda x,y:(x+y)/2"
   ]
  },
  {
   "cell_type": "code",
   "execution_count": 32,
   "id": "47871dc6-d4f9-4206-86b5-3a8b20039dcf",
   "metadata": {},
   "outputs": [
    {
     "data": {
      "text/plain": [
       "3.0"
      ]
     },
     "execution_count": 32,
     "metadata": {},
     "output_type": "execute_result"
    }
   ],
   "source": [
    "avg_two(5,1)"
   ]
  },
  {
   "cell_type": "markdown",
   "id": "f50b2ac0-01d8-473d-97d8-29c3a0deb9a7",
   "metadata": {},
   "source": [
    "# Filter Function"
   ]
  },
  {
   "cell_type": "code",
   "execution_count": 35,
   "id": "cf2abf61-d600-4880-bac7-2b969c264765",
   "metadata": {},
   "outputs": [
    {
     "data": {
      "text/plain": [
       "[4, 10]"
      ]
     },
     "execution_count": 35,
     "metadata": {},
     "output_type": "execute_result"
    }
   ],
   "source": [
    "list_var=[1,4,10,3,7]\n",
    "filter_even=lambda x:x%2==0\n",
    " \n",
    "result=filter(filter_even,list_var)\n",
    "list(result)"
   ]
  },
  {
   "cell_type": "code",
   "execution_count": 36,
   "id": "9183ec21-de06-413a-8278-ce25007400da",
   "metadata": {},
   "outputs": [
    {
     "data": {
      "text/plain": [
       "[1, 3, 7]"
      ]
     },
     "execution_count": 36,
     "metadata": {},
     "output_type": "execute_result"
    }
   ],
   "source": [
    "list_var=[1,4,10,3,7]\n",
    "filter_even=lambda x:x%2!=0\n",
    " \n",
    "result=filter(filter_even,list_var)\n",
    "list(result)"
   ]
  },
  {
   "cell_type": "code",
   "execution_count": 37,
   "id": "f27a7bac-0efc-44fa-9b45-fee3cede751b",
   "metadata": {},
   "outputs": [
    {
     "data": {
      "text/plain": [
       "[4, 6, 8, 10]"
      ]
     },
     "execution_count": 37,
     "metadata": {},
     "output_type": "execute_result"
    }
   ],
   "source": [
    "list_var=[1,3,4,6,7,8,10]\n",
    "filter_even=lambda x:x%2==0\n",
    "\n",
    "result=filter(filter_even,list_var)\n",
    "list(result)\n"
   ]
  },
  {
   "cell_type": "markdown",
   "id": "b64b654b-32ba-43f7-8b0a-bf825eead405",
   "metadata": {},
   "source": [
    "# Map Function\n"
   ]
  },
  {
   "cell_type": "code",
   "execution_count": 43,
   "id": "c6105ef9-5840-4473-964d-db5417b0b31c",
   "metadata": {},
   "outputs": [
    {
     "data": {
      "text/plain": [
       "[1, 16, 64, 25]"
      ]
     },
     "execution_count": 43,
     "metadata": {},
     "output_type": "execute_result"
    }
   ],
   "source": [
    "list_var=[1,4,8,5]\n",
    "square_numbers=lambda x:x*x\n",
    "\n",
    "res=map(square_numbers,list_var)\n",
    "list(res)"
   ]
  },
  {
   "cell_type": "code",
   "execution_count": 45,
   "id": "299689a2-f7af-4205-9932-ec929bfe730f",
   "metadata": {},
   "outputs": [
    {
     "data": {
      "text/plain": [
       "['Rohit sharma', 'Sachin Tendulkar', 'Rahul Dravid']"
      ]
     },
     "execution_count": 45,
     "metadata": {},
     "output_type": "execute_result"
    }
   ],
   "source": [
    "fname=[\"Rohit \",\"Sachin \",\"Rahul \"]\n",
    "lname=[\"sharma\",\"Tendulkar\",\"Dravid\"]\n",
    "\n",
    "concat_func=lambda x,y:x+y\n",
    "\n",
    "res=map(concat_func,fname,lname)\n",
    "list(res)\n",
    "\n"
   ]
  },
  {
   "cell_type": "code",
   "execution_count": 46,
   "id": "9cccce6b-195b-423c-bed7-481bf7f8c66f",
   "metadata": {},
   "outputs": [
    {
     "data": {
      "text/plain": [
       "[['R', 'o', 'h', 'i', 't', ' '],\n",
       " ['S', 'a', 'c', 'h', 'i', 'n', ' '],\n",
       " ['R', 'a', 'h', 'u', 'l', ' ']]"
      ]
     },
     "execution_count": 46,
     "metadata": {},
     "output_type": "execute_result"
    }
   ],
   "source": [
    "fname=[\"Rohit \",\"Sachin \",\"Rahul \"]\n",
    "list_out=map(list,fname)\n",
    "list(list_out)"
   ]
  },
  {
   "cell_type": "code",
   "execution_count": 47,
   "id": "4f4f7d5c-3c38-491d-aba3-cd2c971da075",
   "metadata": {},
   "outputs": [
    {
     "ename": "NameError",
     "evalue": "name 'sqrt' is not defined",
     "output_type": "error",
     "traceback": [
      "\u001b[1;31m---------------------------------------------------------------------------\u001b[0m",
      "\u001b[1;31mNameError\u001b[0m                                 Traceback (most recent call last)",
      "Cell \u001b[1;32mIn[47], line 1\u001b[0m\n\u001b[1;32m----> 1\u001b[0m sqrt(\u001b[38;5;241m25\u001b[39m)\n",
      "\u001b[1;31mNameError\u001b[0m: name 'sqrt' is not defined"
     ]
    }
   ],
   "source": [
    "sqrt(25)"
   ]
  },
  {
   "cell_type": "code",
   "execution_count": 48,
   "id": "965666a1-69c3-4873-9894-d3a1fe4c1faf",
   "metadata": {},
   "outputs": [
    {
     "data": {
      "text/plain": [
       "5.0"
      ]
     },
     "execution_count": 48,
     "metadata": {},
     "output_type": "execute_result"
    }
   ],
   "source": [
    "import math # math is a module\n",
    "\n",
    "math.sqrt(25)"
   ]
  },
  {
   "cell_type": "code",
   "execution_count": 49,
   "id": "3130191f-5829-4aa1-98bb-7e5a7ef9d014",
   "metadata": {},
   "outputs": [
    {
     "data": {
      "text/plain": [
       "23"
      ]
     },
     "execution_count": 49,
     "metadata": {},
     "output_type": "execute_result"
    }
   ],
   "source": [
    "import functools\n",
    "list_var=[4,5,6,8]\n",
    "sum_element=lambda x,y:x+y \n",
    "r=functools.reduce(sum_element,list_var)\n",
    "r"
   ]
  },
  {
   "cell_type": "code",
   "execution_count": null,
   "id": "f69f8b2c-d3c9-47ff-b67b-2da50a296a32",
   "metadata": {},
   "outputs": [],
   "source": []
  }
 ],
 "metadata": {
  "kernelspec": {
   "display_name": "Python [conda env:base] *",
   "language": "python",
   "name": "conda-base-py"
  },
  "language_info": {
   "codemirror_mode": {
    "name": "ipython",
    "version": 3
   },
   "file_extension": ".py",
   "mimetype": "text/x-python",
   "name": "python",
   "nbconvert_exporter": "python",
   "pygments_lexer": "ipython3",
   "version": "3.12.7"
  }
 },
 "nbformat": 4,
 "nbformat_minor": 5
}
