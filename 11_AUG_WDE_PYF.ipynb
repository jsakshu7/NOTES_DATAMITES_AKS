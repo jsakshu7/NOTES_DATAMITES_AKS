{
 "cells": [
  {
   "cell_type": "code",
   "execution_count": 2,
   "id": "6769ddae-5c0d-43a6-bf70-a42d0ad63c3a",
   "metadata": {},
   "outputs": [
    {
     "name": "stdout",
     "output_type": "stream",
     "text": [
      "Program to check positive number or negative number \n"
     ]
    },
    {
     "name": "stdin",
     "output_type": "stream",
     "text": [
      "enter the value of num : -5\n"
     ]
    },
    {
     "name": "stdout",
     "output_type": "stream",
     "text": [
      "else block executing.....!!\n",
      "Num is negative\n",
      "outide the if else block\n"
     ]
    }
   ],
   "source": [
    "print(\"Program to check positive number or negative number \")\n",
    "num=float(input(\"enter the value of num :\"))\n",
    "if num>0:\n",
    "    print(\"if block executing.....!!\")\n",
    "    print(\"Num is positive\")\n",
    "else:\n",
    "    print(\"else block executing.....!!\")\n",
    "    print(\"Num is negative\")\n",
    "\n",
    "print(\"outide the if else block\")\n",
    "    \n"
   ]
  },
  {
   "cell_type": "code",
   "execution_count": 3,
   "id": "d1f00447-d83c-4f6f-8b6e-44af94afc1e2",
   "metadata": {},
   "outputs": [
    {
     "name": "stdout",
     "output_type": "stream",
     "text": [
      "check a character z present in your name\n",
      "z is not present\n"
     ]
    }
   ],
   "source": [
    "print(\"check a character z present in your name\")\n",
    "name=\"Akshatha S\"\n",
    "if \"z\" in name:\n",
    "    print(\"z is present\")\n",
    "else:\n",
    "    print(\"z is not present\")"
   ]
  },
  {
   "cell_type": "code",
   "execution_count": 5,
   "id": "4eb0ac45-05bd-496c-8993-65da34e2d002",
   "metadata": {},
   "outputs": [
    {
     "name": "stdout",
     "output_type": "stream",
     "text": [
      "to check even or odd number\n"
     ]
    },
    {
     "name": "stdin",
     "output_type": "stream",
     "text": [
      "enter the num value 15\n"
     ]
    },
    {
     "name": "stdout",
     "output_type": "stream",
     "text": [
      "num is odd\n"
     ]
    }
   ],
   "source": [
    "print(\"to check even or odd number\")\n",
    "num=int(input(\"enter the num value\"))\n",
    "if num%2==0:\n",
    "    print(\"num is even\")\n",
    "else:\n",
    "    print(\"num is odd\")"
   ]
  },
  {
   "cell_type": "code",
   "execution_count": null,
   "id": "b3590126-1571-4da8-92af-c5ae066f2573",
   "metadata": {},
   "outputs": [],
   "source": [
    "print(\"check num is +ve ,-ve or zero\")\n",
    "num=12\n",
    "if num>0:\n",
    "    print(\"num is positive\")\n",
    "elif num<0:\n",
    "    print(\"num is negative\")\n",
    "else:\n",
    "    print(\"num is zero\")"
   ]
  },
  {
   "cell_type": "code",
   "execution_count": null,
   "id": "cfd481fc-5402-4919-9695-bb1f3b2bc156",
   "metadata": {},
   "outputs": [],
   "source": [
    "score = int(input(\"Enter a number: \"))\n",
    "if score >= 90:\n",
    "    print(\"Grade: A\")\n",
    "elif score >= 80:\n",
    "    print(\"Grade: B\")\n",
    "elif score >= 70:\n",
    "    print(\"Grade: C\")\n",
    "else:\n",
    "    print(\"Grade: F\")"
   ]
  },
  {
   "cell_type": "code",
   "execution_count": 9,
   "id": "e01428bc-4308-41d3-94ac-68d087ed5755",
   "metadata": {},
   "outputs": [
    {
     "name": "stdin",
     "output_type": "stream",
     "text": [
      "entre the number 45\n"
     ]
    },
    {
     "name": "stdout",
     "output_type": "stream",
     "text": [
      "Grade :F\n"
     ]
    }
   ],
   "source": [
    "score=int(input(\"entre the number\"))\n",
    "if score >= 90:\n",
    "    print(\"Grade :A\")\n",
    "elif score>= 80:\n",
    "    print(\"Grade : B\")\n",
    "elif score >=70:\n",
    "    print(\"Grade : C\")\n",
    "else:\n",
    "    print(\"Grade :F\")\n"
   ]
  },
  {
   "cell_type": "code",
   "execution_count": null,
   "id": "698975e6-878d-45b5-8f17-cd3fe4aa8205",
   "metadata": {},
   "outputs": [],
   "source": [
    "print(\"check number is +ve,-ve or zero\")\n",
    "num=int(input(\"Enter the value\"))\n",
    "if num>0:\n",
    "    print(\"the num is positive\")\n",
    "elif num<0:\n",
    "    print(\"the num is negative\")\n",
    "else:\n",
    "    print(\"the num is zero\")\n"
   ]
  },
  {
   "cell_type": "code",
   "execution_count": 10,
   "id": "06a5ad82-25f9-4757-ade1-c67f4a50159a",
   "metadata": {},
   "outputs": [
    {
     "name": "stdout",
     "output_type": "stream",
     "text": [
      "Shotage of attendance..!!\n",
      "Not Eligible to write exam\n"
     ]
    }
   ],
   "source": [
    "attendance=65\n",
    "marks=45\n",
    "if attendance>=70:\n",
    "    print(\"eligible to write exam\")\n",
    "    if marks>=35:\n",
    "        print(\"pass...!!!\")\n",
    "    else:\n",
    "        print(\"Failed..!!!\")\n",
    "\n",
    "else:\n",
    "    print(\"Shotage of attendance..!!\")\n",
    "    print(\"Not Eligible to write exam\")"
   ]
  },
  {
   "cell_type": "markdown",
   "id": "2a678b92-487b-468f-ae23-16909102129d",
   "metadata": {},
   "source": [
    "## List"
   ]
  },
  {
   "cell_type": "markdown",
   "id": "17607b9f-cc1f-4490-9ed8-dbe1f0255b48",
   "metadata": {},
   "source": [
    "## List Creation"
   ]
  },
  {
   "cell_type": "code",
   "execution_count": 12,
   "id": "3e81cdfa-bbcb-4cae-933d-68f98ed5dc38",
   "metadata": {},
   "outputs": [
    {
     "data": {
      "text/plain": [
       "list"
      ]
     },
     "execution_count": 12,
     "metadata": {},
     "output_type": "execute_result"
    }
   ],
   "source": [
    "empty_list=[] # created an empty list---without any elements\n",
    "type(empty_list)"
   ]
  },
  {
   "cell_type": "code",
   "execution_count": 13,
   "id": "efafef28-413b-4e98-ad3f-b967ac6c8a43",
   "metadata": {},
   "outputs": [
    {
     "data": {
      "text/plain": [
       "list"
      ]
     },
     "execution_count": 13,
     "metadata": {},
     "output_type": "execute_result"
    }
   ],
   "source": [
    "names_list=[\"Rubby\",\"roy\",\"aishwarya\",\"rohit\"]\n",
    "type(names_list)"
   ]
  },
  {
   "cell_type": "code",
   "execution_count": 15,
   "id": "d45ebc9a-145b-4d1d-a3ff-e20bedd2f34a",
   "metadata": {},
   "outputs": [
    {
     "data": {
      "text/plain": [
       "list"
      ]
     },
     "execution_count": 15,
     "metadata": {},
     "output_type": "execute_result"
    }
   ],
   "source": [
    "mylist=[10,20,True,\"a\",\"roy\",12.55,[11,22,33]]\n",
    "type(mylist)"
   ]
  },
  {
   "cell_type": "code",
   "execution_count": 16,
   "id": "94ec9727-8730-4cde-be9e-38ab0d758986",
   "metadata": {},
   "outputs": [
    {
     "data": {
      "text/plain": [
       "['Rubby', 'roy', 'aishwarya', 'rohit']"
      ]
     },
     "execution_count": 16,
     "metadata": {},
     "output_type": "execute_result"
    }
   ],
   "source": [
    "names_list"
   ]
  },
  {
   "cell_type": "code",
   "execution_count": 17,
   "id": "4db4a8f3-4a94-40c7-8be4-c71e2516d3b3",
   "metadata": {},
   "outputs": [
    {
     "data": {
      "text/plain": [
       "[10, 20, True, 'a', 'roy', 12.55, [11, 22, 33]]"
      ]
     },
     "execution_count": 17,
     "metadata": {},
     "output_type": "execute_result"
    }
   ],
   "source": [
    "mylist"
   ]
  },
  {
   "cell_type": "markdown",
   "id": "b7168435-de55-465a-add5-0b059abd7463",
   "metadata": {},
   "source": [
    "## List Indexing"
   ]
  },
  {
   "cell_type": "code",
   "execution_count": 18,
   "id": "bb4fbac8-04fa-4d95-8fbc-71d758e5eb0e",
   "metadata": {},
   "outputs": [
    {
     "data": {
      "text/plain": [
       "['Rubby', 'roy', 'aishwarya', 'rohit']"
      ]
     },
     "execution_count": 18,
     "metadata": {},
     "output_type": "execute_result"
    }
   ],
   "source": [
    "names_list"
   ]
  },
  {
   "cell_type": "code",
   "execution_count": 19,
   "id": "80fb7825-d9f9-40c3-b3a6-81a2c07eaab5",
   "metadata": {},
   "outputs": [
    {
     "data": {
      "text/plain": [
       "'aishwarya'"
      ]
     },
     "execution_count": 19,
     "metadata": {},
     "output_type": "execute_result"
    }
   ],
   "source": [
    "names_list[2]"
   ]
  },
  {
   "cell_type": "code",
   "execution_count": 20,
   "id": "1bdd50b9-3e44-4eb0-8b23-9d2701205416",
   "metadata": {},
   "outputs": [
    {
     "data": {
      "text/plain": [
       "'roy'"
      ]
     },
     "execution_count": 20,
     "metadata": {},
     "output_type": "execute_result"
    }
   ],
   "source": [
    "names_list[-3]"
   ]
  },
  {
   "cell_type": "code",
   "execution_count": 21,
   "id": "7f4c5ecc-1b61-4922-9095-48175b08b7cd",
   "metadata": {},
   "outputs": [
    {
     "ename": "IndexError",
     "evalue": "list index out of range",
     "output_type": "error",
     "traceback": [
      "\u001b[1;31m---------------------------------------------------------------------------\u001b[0m",
      "\u001b[1;31mIndexError\u001b[0m                                Traceback (most recent call last)",
      "Cell \u001b[1;32mIn[21], line 1\u001b[0m\n\u001b[1;32m----> 1\u001b[0m names_list[\u001b[38;5;241m10\u001b[39m]\n",
      "\u001b[1;31mIndexError\u001b[0m: list index out of range"
     ]
    }
   ],
   "source": [
    "names_list[10]"
   ]
  },
  {
   "cell_type": "code",
   "execution_count": 22,
   "id": "0c1b309c-4ea8-4504-ab0a-7bece81c6e67",
   "metadata": {},
   "outputs": [
    {
     "data": {
      "text/plain": [
       "['Rubby', 'roy', 'aishwarya', 'rohit']"
      ]
     },
     "execution_count": 22,
     "metadata": {},
     "output_type": "execute_result"
    }
   ],
   "source": [
    "names_list"
   ]
  },
  {
   "cell_type": "code",
   "execution_count": 23,
   "id": "93c42073-6a53-4dc0-9b91-e45d01fbe926",
   "metadata": {},
   "outputs": [
    {
     "data": {
      "text/plain": [
       "['Rubby', 'akshatha', 'aishwarya', 'rohit']"
      ]
     },
     "execution_count": 23,
     "metadata": {},
     "output_type": "execute_result"
    }
   ],
   "source": [
    "names_list[1]=\"akshatha\" # list is mutable\n",
    "names_list"
   ]
  },
  {
   "cell_type": "code",
   "execution_count": 24,
   "id": "24387026-e0d0-4ba6-8dc1-bca9f7ce56e0",
   "metadata": {},
   "outputs": [],
   "source": [
    "nested=[\"a\",\"b\",[11,12,13],\"d\",[21,22]]"
   ]
  },
  {
   "cell_type": "code",
   "execution_count": 25,
   "id": "b5ab9a15-7f04-4f82-828e-b0694b81bf7e",
   "metadata": {},
   "outputs": [
    {
     "data": {
      "text/plain": [
       "[11, 12, 13]"
      ]
     },
     "execution_count": 25,
     "metadata": {},
     "output_type": "execute_result"
    }
   ],
   "source": [
    "nested[2]"
   ]
  },
  {
   "cell_type": "code",
   "execution_count": 26,
   "id": "9fb5a972-2304-476a-aebc-e57e7ff22d6d",
   "metadata": {},
   "outputs": [
    {
     "data": {
      "text/plain": [
       "13"
      ]
     },
     "execution_count": 26,
     "metadata": {},
     "output_type": "execute_result"
    }
   ],
   "source": [
    "nested[2][2]"
   ]
  },
  {
   "cell_type": "markdown",
   "id": "1dabcb35-1c2c-44b1-9e7a-f0543504d25a",
   "metadata": {},
   "source": [
    "## Membership Operator"
   ]
  },
  {
   "cell_type": "code",
   "execution_count": 27,
   "id": "03db9309-195e-498e-bae5-844d01ef0376",
   "metadata": {},
   "outputs": [
    {
     "data": {
      "text/plain": [
       "['Rubby', 'akshatha', 'aishwarya', 'rohit']"
      ]
     },
     "execution_count": 27,
     "metadata": {},
     "output_type": "execute_result"
    }
   ],
   "source": [
    "names_list"
   ]
  },
  {
   "cell_type": "code",
   "execution_count": 28,
   "id": "dfe40056-467b-4b70-8254-a686cf2cea1b",
   "metadata": {},
   "outputs": [
    {
     "data": {
      "text/plain": [
       "True"
      ]
     },
     "execution_count": 28,
     "metadata": {},
     "output_type": "execute_result"
    }
   ],
   "source": [
    "\"Rubby\" in names_list"
   ]
  },
  {
   "cell_type": "code",
   "execution_count": 29,
   "id": "4851822e-238c-4e38-a8fa-a26a4e483c9e",
   "metadata": {},
   "outputs": [
    {
     "data": {
      "text/plain": [
       "False"
      ]
     },
     "execution_count": 29,
     "metadata": {},
     "output_type": "execute_result"
    }
   ],
   "source": [
    "\"sejal\" in names_list"
   ]
  },
  {
   "cell_type": "code",
   "execution_count": 30,
   "id": "488d9a23-e413-4d94-9493-7355b2d0637d",
   "metadata": {},
   "outputs": [
    {
     "data": {
      "text/plain": [
       "False"
      ]
     },
     "execution_count": 30,
     "metadata": {},
     "output_type": "execute_result"
    }
   ],
   "source": [
    "\"Rohit\" in names_list"
   ]
  },
  {
   "cell_type": "markdown",
   "id": "0bfc899f-0a51-4cb7-b09b-60e305007d86",
   "metadata": {},
   "source": [
    "## List functions"
   ]
  },
  {
   "cell_type": "code",
   "execution_count": 7,
   "id": "ca99183f-53d2-4bbf-95d8-ff84775f7008",
   "metadata": {},
   "outputs": [
    {
     "data": {
      "text/plain": [
       "['a', 'b', 'c', 'd', 'e', 'f', 'c', 'c']"
      ]
     },
     "execution_count": 7,
     "metadata": {},
     "output_type": "execute_result"
    }
   ],
   "source": [
    "alpha=[\"a\",\"b\",\"c\",\"d\",\"e\",\"f\",\"c\",\"c\"]\n",
    "alpha"
   ]
  },
  {
   "cell_type": "code",
   "execution_count": 8,
   "id": "937516b0-126c-4b96-8d9e-200472b501eb",
   "metadata": {},
   "outputs": [
    {
     "data": {
      "text/plain": [
       "2"
      ]
     },
     "execution_count": 8,
     "metadata": {},
     "output_type": "execute_result"
    }
   ],
   "source": [
    "alpha.index(\"c\") # Returns the index value of an element \"c\" for the first occurance."
   ]
  },
  {
   "cell_type": "code",
   "execution_count": 9,
   "id": "4d1e8e63-b769-4877-9309-0e3cdc9618c0",
   "metadata": {},
   "outputs": [
    {
     "data": {
      "text/plain": [
       "3"
      ]
     },
     "execution_count": 9,
     "metadata": {},
     "output_type": "execute_result"
    }
   ],
   "source": [
    "alpha.count(\"c\")"
   ]
  },
  {
   "cell_type": "code",
   "execution_count": 10,
   "id": "d6c5e5ea-1bd0-4a40-ac61-456271e5d3ef",
   "metadata": {},
   "outputs": [],
   "source": [
    "alpha.append(\"f\") # adding new element to the list--only one element can be inserted at the end"
   ]
  },
  {
   "cell_type": "code",
   "execution_count": 11,
   "id": "74f73f69-795e-4168-a93f-e0307e0f1de6",
   "metadata": {},
   "outputs": [
    {
     "data": {
      "text/plain": [
       "['a', 'b', 'c', 'd', 'e', 'f', 'c', 'c', 'f']"
      ]
     },
     "execution_count": 11,
     "metadata": {},
     "output_type": "execute_result"
    }
   ],
   "source": [
    "alpha"
   ]
  },
  {
   "cell_type": "code",
   "execution_count": 12,
   "id": "e41299b7-b002-4d60-9906-61e71f9eb47a",
   "metadata": {},
   "outputs": [
    {
     "data": {
      "text/plain": [
       "['a', 'b', 'c', 'd', 'e', 'f', 'c', 'c', 'f', 'h']"
      ]
     },
     "execution_count": 12,
     "metadata": {},
     "output_type": "execute_result"
    }
   ],
   "source": [
    "alpha.append(\"h\")\n",
    "alpha"
   ]
  },
  {
   "cell_type": "code",
   "execution_count": 13,
   "id": "696f20f1-1514-47f3-877c-fc01003b4507",
   "metadata": {},
   "outputs": [
    {
     "data": {
      "text/plain": [
       "['a', 'b', 'c', 'd', 'e', 'f', 'c', 'c', 'f', 'h', 'i', 'j', 'k', 12, 15]"
      ]
     },
     "execution_count": 13,
     "metadata": {},
     "output_type": "execute_result"
    }
   ],
   "source": [
    "alpha.extend([\"i\",\"j\",\"k\",12,15]) # extending the list or joining of two list\n",
    "alpha"
   ]
  },
  {
   "cell_type": "code",
   "execution_count": 14,
   "id": "ce4ad825-852b-497f-a33d-81ff7316c6ad",
   "metadata": {},
   "outputs": [],
   "source": [
    "list1=[1,2,4]\n",
    "list2=[\"apple\",\"grapes\"]"
   ]
  },
  {
   "cell_type": "code",
   "execution_count": 15,
   "id": "8a557e68-53ef-49cd-bf93-f413cbac62b4",
   "metadata": {},
   "outputs": [
    {
     "data": {
      "text/plain": [
       "[1, 2, 4, 'apple', 'grapes']"
      ]
     },
     "execution_count": 15,
     "metadata": {},
     "output_type": "execute_result"
    }
   ],
   "source": [
    "list1.extend(list2) # joining of two list\n",
    "list1"
   ]
  },
  {
   "cell_type": "code",
   "execution_count": 16,
   "id": "5f55f832-1fae-456a-b10f-163e9ae654a5",
   "metadata": {},
   "outputs": [
    {
     "data": {
      "text/plain": [
       "[1, 2, 4, 'apple', 'grapes']"
      ]
     },
     "execution_count": 16,
     "metadata": {},
     "output_type": "execute_result"
    }
   ],
   "source": [
    "list1"
   ]
  },
  {
   "cell_type": "code",
   "execution_count": 17,
   "id": "548d1451-18c9-4d4c-b1b5-1d4d13f5b3dc",
   "metadata": {},
   "outputs": [
    {
     "data": {
      "text/plain": [
       "['a', 'b', 'c', 'd', 'e', 'f', 'c', 'c', 'f', 'h', 'i', 'j', 'k', 12, 15]"
      ]
     },
     "execution_count": 17,
     "metadata": {},
     "output_type": "execute_result"
    }
   ],
   "source": [
    "alpha"
   ]
  },
  {
   "cell_type": "code",
   "execution_count": 18,
   "id": "ce5b4496-6f41-4a5e-81ef-7865e18b3c2f",
   "metadata": {},
   "outputs": [
    {
     "data": {
      "text/plain": [
       "['a',\n",
       " 'b',\n",
       " 'c',\n",
       " 'rohit',\n",
       " 'd',\n",
       " 'e',\n",
       " 'f',\n",
       " 'c',\n",
       " 'c',\n",
       " 'f',\n",
       " 'h',\n",
       " 'i',\n",
       " 'j',\n",
       " 'k',\n",
       " 12,\n",
       " 15]"
      ]
     },
     "execution_count": 18,
     "metadata": {},
     "output_type": "execute_result"
    }
   ],
   "source": [
    "alpha.insert(3,\"rohit\")\n",
    "alpha"
   ]
  },
  {
   "cell_type": "code",
   "execution_count": 19,
   "id": "573b8112-610b-4073-a977-279124951992",
   "metadata": {},
   "outputs": [
    {
     "data": {
      "text/plain": [
       "['a', 'b', 'c', 'd', 'e', 'f', 'c', 'c', 'f', 'h', 'i', 'j', 'k', 12, 15]"
      ]
     },
     "execution_count": 19,
     "metadata": {},
     "output_type": "execute_result"
    }
   ],
   "source": [
    "alpha.remove(\"rohit\")\n",
    "alpha"
   ]
  },
  {
   "cell_type": "code",
   "execution_count": 20,
   "id": "0d93b5ca-d68f-4efd-aa91-7369809d8917",
   "metadata": {},
   "outputs": [],
   "source": [
    "alpha.reverse()"
   ]
  },
  {
   "cell_type": "code",
   "execution_count": 21,
   "id": "ddceee5c-3401-4008-8e2e-2e8fc437750c",
   "metadata": {},
   "outputs": [
    {
     "data": {
      "text/plain": [
       "[15, 12, 'k', 'j', 'i', 'h', 'f', 'c', 'c', 'f', 'e', 'd', 'c', 'b', 'a']"
      ]
     },
     "execution_count": 21,
     "metadata": {},
     "output_type": "execute_result"
    }
   ],
   "source": [
    "alpha"
   ]
  },
  {
   "cell_type": "code",
   "execution_count": 22,
   "id": "e3e81e5f-887f-4909-b8d8-af843e05171e",
   "metadata": {},
   "outputs": [
    {
     "data": {
      "text/plain": [
       "[]"
      ]
     },
     "execution_count": 22,
     "metadata": {},
     "output_type": "execute_result"
    }
   ],
   "source": [
    "alpha.clear()\n",
    "alpha"
   ]
  },
  {
   "cell_type": "code",
   "execution_count": 23,
   "id": "57c2c7a2-405d-486b-bd7c-1e5aded5a6b8",
   "metadata": {},
   "outputs": [],
   "source": [
    "del alpha"
   ]
  },
  {
   "cell_type": "code",
   "execution_count": 24,
   "id": "d5923c59-03c5-4a46-8a9d-c5e4c3548cb8",
   "metadata": {},
   "outputs": [
    {
     "ename": "NameError",
     "evalue": "name 'alpha' is not defined",
     "output_type": "error",
     "traceback": [
      "\u001b[1;31m---------------------------------------------------------------------------\u001b[0m",
      "\u001b[1;31mNameError\u001b[0m                                 Traceback (most recent call last)",
      "Cell \u001b[1;32mIn[24], line 1\u001b[0m\n\u001b[1;32m----> 1\u001b[0m alpha\n",
      "\u001b[1;31mNameError\u001b[0m: name 'alpha' is not defined"
     ]
    }
   ],
   "source": [
    "alpha"
   ]
  },
  {
   "cell_type": "markdown",
   "id": "b7d63943-d07f-4e49-ac8f-12bc10f102ab",
   "metadata": {},
   "source": [
    "# Tuple Datastructure"
   ]
  },
  {
   "cell_type": "code",
   "execution_count": 25,
   "id": "82534d07-202a-40ca-8b23-da508ac4368a",
   "metadata": {},
   "outputs": [
    {
     "data": {
      "text/plain": [
       "tuple"
      ]
     },
     "execution_count": 25,
     "metadata": {},
     "output_type": "execute_result"
    }
   ],
   "source": [
    "t1=()\n",
    "type(t1)"
   ]
  },
  {
   "cell_type": "code",
   "execution_count": 26,
   "id": "b57e00a0-75fe-455e-9eaa-a460aa551c79",
   "metadata": {},
   "outputs": [
    {
     "data": {
      "text/plain": [
       "tuple"
      ]
     },
     "execution_count": 26,
     "metadata": {},
     "output_type": "execute_result"
    }
   ],
   "source": [
    "t2=(\"a\",\"b\",True,12.55,100,[1,3])\n",
    "type(t2)"
   ]
  },
  {
   "cell_type": "code",
   "execution_count": 38,
   "id": "450c9b9e-735a-4bad-8d8c-b800830a95cc",
   "metadata": {},
   "outputs": [],
   "source": [
    "tup=(\"a\",\"b\",\"c\")"
   ]
  },
  {
   "cell_type": "markdown",
   "id": "60d78aee-9bb1-438b-b3a0-40ae5ef51413",
   "metadata": {},
   "source": [
    "### Tuple Indexing"
   ]
  },
  {
   "cell_type": "code",
   "execution_count": 31,
   "id": "250bd994-3706-4c5d-8c08-ad2363cf74ef",
   "metadata": {},
   "outputs": [
    {
     "data": {
      "text/plain": [
       "('a', 'b', 'c')"
      ]
     },
     "execution_count": 31,
     "metadata": {},
     "output_type": "execute_result"
    }
   ],
   "source": [
    "tup"
   ]
  },
  {
   "cell_type": "code",
   "execution_count": 28,
   "id": "57227ea3-ba93-4ace-bce6-c306fee9c237",
   "metadata": {},
   "outputs": [
    {
     "data": {
      "text/plain": [
       "'c'"
      ]
     },
     "execution_count": 28,
     "metadata": {},
     "output_type": "execute_result"
    }
   ],
   "source": [
    "tup[2]"
   ]
  },
  {
   "cell_type": "code",
   "execution_count": 29,
   "id": "0218f628-a2d4-4d3b-8772-75345d44eb0c",
   "metadata": {},
   "outputs": [
    {
     "data": {
      "text/plain": [
       "'b'"
      ]
     },
     "execution_count": 29,
     "metadata": {},
     "output_type": "execute_result"
    }
   ],
   "source": [
    "tup[-2]"
   ]
  },
  {
   "cell_type": "code",
   "execution_count": 30,
   "id": "e71dff65-bd75-443e-8f28-48c8a799ba1b",
   "metadata": {},
   "outputs": [
    {
     "data": {
      "text/plain": [
       "('a', 'c')"
      ]
     },
     "execution_count": 30,
     "metadata": {},
     "output_type": "execute_result"
    }
   ],
   "source": [
    "tup[::2]"
   ]
  },
  {
   "cell_type": "code",
   "execution_count": 32,
   "id": "a8def693-723b-4c54-9883-2e14755894e6",
   "metadata": {},
   "outputs": [
    {
     "ename": "TypeError",
     "evalue": "'tuple' object does not support item assignment",
     "output_type": "error",
     "traceback": [
      "\u001b[1;31m---------------------------------------------------------------------------\u001b[0m",
      "\u001b[1;31mTypeError\u001b[0m                                 Traceback (most recent call last)",
      "Cell \u001b[1;32mIn[32], line 1\u001b[0m\n\u001b[1;32m----> 1\u001b[0m tup[\u001b[38;5;241m1\u001b[39m]\u001b[38;5;241m=\u001b[39m\u001b[38;5;124m\"\u001b[39m\u001b[38;5;124msanjay\u001b[39m\u001b[38;5;124m\"\u001b[39m\n",
      "\u001b[1;31mTypeError\u001b[0m: 'tuple' object does not support item assignment"
     ]
    }
   ],
   "source": [
    "tup[1]=\"sanjay\""
   ]
  },
  {
   "cell_type": "markdown",
   "id": "250fe186-4b79-4ee6-8cc4-85229200ccd2",
   "metadata": {},
   "source": [
    "## Tuple Functions"
   ]
  },
  {
   "cell_type": "code",
   "execution_count": 39,
   "id": "6430ff07-ab7b-49c7-9aa7-9af59173e9b4",
   "metadata": {},
   "outputs": [
    {
     "data": {
      "text/plain": [
       "('a', 'b', 'c')"
      ]
     },
     "execution_count": 39,
     "metadata": {},
     "output_type": "execute_result"
    }
   ],
   "source": [
    "tup"
   ]
  },
  {
   "cell_type": "code",
   "execution_count": 33,
   "id": "d2a8bac0-00fe-40f4-bc9d-dd8018982be7",
   "metadata": {},
   "outputs": [
    {
     "data": {
      "text/plain": [
       "0"
      ]
     },
     "execution_count": 33,
     "metadata": {},
     "output_type": "execute_result"
    }
   ],
   "source": [
    "tup.index(\"a\")"
   ]
  },
  {
   "cell_type": "code",
   "execution_count": 34,
   "id": "55033314-32ee-4dd9-9e78-49911f00b995",
   "metadata": {},
   "outputs": [
    {
     "data": {
      "text/plain": [
       "1"
      ]
     },
     "execution_count": 34,
     "metadata": {},
     "output_type": "execute_result"
    }
   ],
   "source": [
    "tup.count(\"b\")"
   ]
  },
  {
   "cell_type": "code",
   "execution_count": 35,
   "id": "b5be5c4e-e7eb-4290-896b-b783f34d9397",
   "metadata": {},
   "outputs": [],
   "source": [
    "del tup"
   ]
  },
  {
   "cell_type": "code",
   "execution_count": 36,
   "id": "1f34e99c-478c-4a40-9192-a0c74ce2c406",
   "metadata": {},
   "outputs": [
    {
     "ename": "NameError",
     "evalue": "name 'tup' is not defined",
     "output_type": "error",
     "traceback": [
      "\u001b[1;31m---------------------------------------------------------------------------\u001b[0m",
      "\u001b[1;31mNameError\u001b[0m                                 Traceback (most recent call last)",
      "Cell \u001b[1;32mIn[36], line 1\u001b[0m\n\u001b[1;32m----> 1\u001b[0m tup\n",
      "\u001b[1;31mNameError\u001b[0m: name 'tup' is not defined"
     ]
    }
   ],
   "source": [
    "tup"
   ]
  },
  {
   "cell_type": "markdown",
   "id": "835dffba-696d-4dcd-8144-7709b7675666",
   "metadata": {},
   "source": [
    "## Set Data Structure"
   ]
  },
  {
   "cell_type": "code",
   "execution_count": 40,
   "id": "28172283-5fc0-416c-80b7-7e6f7f672c65",
   "metadata": {},
   "outputs": [],
   "source": [
    "s1={1,2,3,44,4,4,4,4,4,6,7,8,8,\"a\",0,12.55,155}"
   ]
  },
  {
   "cell_type": "code",
   "execution_count": 41,
   "id": "07e876f9-09f2-4659-b98e-87a9ebc6b139",
   "metadata": {},
   "outputs": [
    {
     "data": {
      "text/plain": [
       "set"
      ]
     },
     "execution_count": 41,
     "metadata": {},
     "output_type": "execute_result"
    }
   ],
   "source": [
    "type(s1)"
   ]
  },
  {
   "cell_type": "code",
   "execution_count": 42,
   "id": "9a2ab934-c411-474d-85f0-ceb9c5e5f3a9",
   "metadata": {},
   "outputs": [
    {
     "data": {
      "text/plain": [
       "{0, 1, 12.55, 155, 2, 3, 4, 44, 6, 7, 8, 'a'}"
      ]
     },
     "execution_count": 42,
     "metadata": {},
     "output_type": "execute_result"
    }
   ],
   "source": [
    "s1"
   ]
  },
  {
   "cell_type": "code",
   "execution_count": 43,
   "id": "722134c4-bc45-418e-b6a8-6c50ff7a176a",
   "metadata": {},
   "outputs": [
    {
     "data": {
      "text/plain": [
       "{1, 4, 10}"
      ]
     },
     "execution_count": 43,
     "metadata": {},
     "output_type": "execute_result"
    }
   ],
   "source": [
    "s2={10,10,10,1,4}\n",
    "s2"
   ]
  },
  {
   "cell_type": "markdown",
   "id": "ef49bcbc-fe47-4864-bfb8-3341eb4e1ca4",
   "metadata": {},
   "source": [
    "## Set Functions"
   ]
  },
  {
   "cell_type": "code",
   "execution_count": 44,
   "id": "d3760edc-8514-41e1-91df-e2f9ebaed3e9",
   "metadata": {},
   "outputs": [
    {
     "data": {
      "text/plain": [
       "{'a', 'b', 'c', 'd'}"
      ]
     },
     "execution_count": 44,
     "metadata": {},
     "output_type": "execute_result"
    }
   ],
   "source": [
    "myset={\"a\",\"b\",\"c\",\"d\"}\n",
    "myset"
   ]
  },
  {
   "cell_type": "code",
   "execution_count": 45,
   "id": "504586ca-938b-4fcf-a76b-23151d68bc0f",
   "metadata": {},
   "outputs": [
    {
     "data": {
      "text/plain": [
       "{'a', 'b', 'c', 'd', 'e'}"
      ]
     },
     "execution_count": 45,
     "metadata": {},
     "output_type": "execute_result"
    }
   ],
   "source": [
    "myset.add(\"e\")\n",
    "myset"
   ]
  },
  {
   "cell_type": "code",
   "execution_count": 46,
   "id": "ef6a1099-bee3-4446-98b8-5334ef20c9a5",
   "metadata": {},
   "outputs": [
    {
     "data": {
      "text/plain": [
       "{'a', 'b', 'c', 'd', 'e', 'f', 'g', 'h'}"
      ]
     },
     "execution_count": 46,
     "metadata": {},
     "output_type": "execute_result"
    }
   ],
   "source": [
    "myset.update([\"f\",\"g\",\"h\"])\n",
    "myset"
   ]
  },
  {
   "cell_type": "code",
   "execution_count": 47,
   "id": "7b03595c-a991-48b7-91a0-8ba068f6d275",
   "metadata": {},
   "outputs": [
    {
     "data": {
      "text/plain": [
       "{'b', 'c', 'd', 'e', 'f', 'g', 'h'}"
      ]
     },
     "execution_count": 47,
     "metadata": {},
     "output_type": "execute_result"
    }
   ],
   "source": [
    "myset.remove(\"a\")\n",
    "myset"
   ]
  },
  {
   "cell_type": "code",
   "execution_count": 51,
   "id": "06fc18b8-59fe-4404-aaaf-45792ee09093",
   "metadata": {},
   "outputs": [],
   "source": [
    "A={1,2,3,4,5}\n",
    "B={4,5,6,7,8}"
   ]
  },
  {
   "cell_type": "code",
   "execution_count": 52,
   "id": "65ce2d7d-bc14-434b-85b8-a03dff52071d",
   "metadata": {},
   "outputs": [
    {
     "data": {
      "text/plain": [
       "{1, 2, 3, 4, 5, 6, 7, 8}"
      ]
     },
     "execution_count": 52,
     "metadata": {},
     "output_type": "execute_result"
    }
   ],
   "source": [
    "A.union(B) # Combines both the set or it returns all the values in A and B set"
   ]
  },
  {
   "cell_type": "code",
   "execution_count": 53,
   "id": "f49e0b21-3c79-4203-a01a-b6648f197bf4",
   "metadata": {},
   "outputs": [
    {
     "data": {
      "text/plain": [
       "{4, 5}"
      ]
     },
     "execution_count": 53,
     "metadata": {},
     "output_type": "execute_result"
    }
   ],
   "source": [
    "A.intersection(B)  # returns common elements"
   ]
  },
  {
   "cell_type": "code",
   "execution_count": 54,
   "id": "cfcdcd0b-a9a4-41fa-a926-5b8917ba28ac",
   "metadata": {},
   "outputs": [
    {
     "data": {
      "text/plain": [
       "{1, 2, 3}"
      ]
     },
     "execution_count": 54,
     "metadata": {},
     "output_type": "execute_result"
    }
   ],
   "source": [
    "A.difference(B)"
   ]
  },
  {
   "cell_type": "code",
   "execution_count": 56,
   "id": "68148d34-a555-415d-a335-bb284bc01b7f",
   "metadata": {},
   "outputs": [
    {
     "data": {
      "text/plain": [
       "{6, 7, 8}"
      ]
     },
     "execution_count": 56,
     "metadata": {},
     "output_type": "execute_result"
    }
   ],
   "source": [
    "B.difference(A)"
   ]
  },
  {
   "cell_type": "code",
   "execution_count": 59,
   "id": "a19b105c-ee8a-48de-af74-68481c140c13",
   "metadata": {},
   "outputs": [],
   "source": [
    "B.clear()"
   ]
  },
  {
   "cell_type": "code",
   "execution_count": 60,
   "id": "5ff0a1c5-e219-453b-a98f-d85ead7738a6",
   "metadata": {},
   "outputs": [
    {
     "data": {
      "text/plain": [
       "set()"
      ]
     },
     "execution_count": 60,
     "metadata": {},
     "output_type": "execute_result"
    }
   ],
   "source": [
    "B"
   ]
  },
  {
   "cell_type": "code",
   "execution_count": 57,
   "id": "a7b1dea8-a929-4d43-ab39-9b50357afcae",
   "metadata": {},
   "outputs": [],
   "source": [
    "del A"
   ]
  },
  {
   "cell_type": "code",
   "execution_count": 58,
   "id": "46eadb7b-321f-4aa4-b383-aaec31d8b7ab",
   "metadata": {},
   "outputs": [
    {
     "ename": "NameError",
     "evalue": "name 'A' is not defined",
     "output_type": "error",
     "traceback": [
      "\u001b[1;31m---------------------------------------------------------------------------\u001b[0m",
      "\u001b[1;31mNameError\u001b[0m                                 Traceback (most recent call last)",
      "Cell \u001b[1;32mIn[58], line 1\u001b[0m\n\u001b[1;32m----> 1\u001b[0m A\n",
      "\u001b[1;31mNameError\u001b[0m: name 'A' is not defined"
     ]
    }
   ],
   "source": [
    "A"
   ]
  },
  {
   "cell_type": "markdown",
   "id": "a311e772-a8a9-4ce8-aefa-150f04cd98a2",
   "metadata": {},
   "source": [
    "# Dictionary"
   ]
  },
  {
   "cell_type": "code",
   "execution_count": 61,
   "id": "2a55a5c5-85c9-46fe-b97f-afafaa2e2c10",
   "metadata": {},
   "outputs": [
    {
     "data": {
      "text/plain": [
       "set"
      ]
     },
     "execution_count": 61,
     "metadata": {},
     "output_type": "execute_result"
    }
   ],
   "source": [
    "empty_set=set()\n",
    "type(empty_set)"
   ]
  },
  {
   "cell_type": "code",
   "execution_count": 62,
   "id": "6f225ac8-1bfe-4eba-952a-b2c8280024bd",
   "metadata": {},
   "outputs": [
    {
     "data": {
      "text/plain": [
       "dict"
      ]
     },
     "execution_count": 62,
     "metadata": {},
     "output_type": "execute_result"
    }
   ],
   "source": [
    "d1={}\n",
    "type(d1)"
   ]
  },
  {
   "cell_type": "code",
   "execution_count": 63,
   "id": "7e943289-4c95-49bc-a446-ae0c6b242681",
   "metadata": {},
   "outputs": [
    {
     "data": {
      "text/plain": [
       "{1: 'amit', 2: 'anushA', 'city': 'banagalore'}"
      ]
     },
     "execution_count": 63,
     "metadata": {},
     "output_type": "execute_result"
    }
   ],
   "source": [
    "d={1:\"amit\",2:\"anushA\",\"city\":\"banagalore\"}\n",
    "d"
   ]
  },
  {
   "cell_type": "code",
   "execution_count": 64,
   "id": "17fdf6d2-ec7f-440d-908c-58cb16225e2d",
   "metadata": {},
   "outputs": [
    {
     "data": {
      "text/plain": [
       "{'name': 'akshatha', 'age': 30, 'city': 'bangalore'}"
      ]
     },
     "execution_count": 64,
     "metadata": {},
     "output_type": "execute_result"
    }
   ],
   "source": [
    "s={\"name\":\"akshatha\",\"age\":30,\"city\":\"bangalore\"}\n",
    "s"
   ]
  },
  {
   "cell_type": "code",
   "execution_count": 65,
   "id": "17423cf7-a22c-425c-9f6b-3ed01a2b3713",
   "metadata": {},
   "outputs": [
    {
     "data": {
      "text/plain": [
       "'akshatha'"
      ]
     },
     "execution_count": 65,
     "metadata": {},
     "output_type": "execute_result"
    }
   ],
   "source": [
    "s[\"name\"]"
   ]
  },
  {
   "cell_type": "code",
   "execution_count": 66,
   "id": "d02d685c-4b14-490c-bb1a-0dc36e14de51",
   "metadata": {},
   "outputs": [
    {
     "data": {
      "text/plain": [
       "'bangalore'"
      ]
     },
     "execution_count": 66,
     "metadata": {},
     "output_type": "execute_result"
    }
   ],
   "source": [
    "s[\"city\"]"
   ]
  },
  {
   "cell_type": "code",
   "execution_count": 67,
   "id": "a683a8a7-7eec-4cb9-a919-911e525f4623",
   "metadata": {},
   "outputs": [
    {
     "data": {
      "text/plain": [
       "30"
      ]
     },
     "execution_count": 67,
     "metadata": {},
     "output_type": "execute_result"
    }
   ],
   "source": [
    "s[\"age\"]"
   ]
  },
  {
   "cell_type": "code",
   "execution_count": 68,
   "id": "29043051-19da-4762-b5f8-ed1eceda8357",
   "metadata": {},
   "outputs": [
    {
     "data": {
      "text/plain": [
       "set()"
      ]
     },
     "execution_count": 68,
     "metadata": {},
     "output_type": "execute_result"
    }
   ],
   "source": [
    "myset=set()\n",
    "myset"
   ]
  },
  {
   "cell_type": "code",
   "execution_count": 69,
   "id": "0a865399-cb24-4371-847f-9cd4dee8050b",
   "metadata": {},
   "outputs": [
    {
     "data": {
      "text/plain": [
       "{'name': 'akshatha', 'age': 30, 'city': 'bangalore', 'course': 'CDA'}"
      ]
     },
     "execution_count": 69,
     "metadata": {},
     "output_type": "execute_result"
    }
   ],
   "source": [
    "s[\"course\"]=\"CDA\"\n",
    "s"
   ]
  },
  {
   "cell_type": "code",
   "execution_count": 70,
   "id": "a29cc814-4dcb-4975-a865-4f298ab14d51",
   "metadata": {},
   "outputs": [
    {
     "data": {
      "text/plain": [
       "{'name': 'Ramya', 'age': 30, 'city': 'bangalore', 'course': 'CDA'}"
      ]
     },
     "execution_count": 70,
     "metadata": {},
     "output_type": "execute_result"
    }
   ],
   "source": [
    "s[\"name\"]=\"Ramya\"\n",
    "s"
   ]
  },
  {
   "cell_type": "code",
   "execution_count": null,
   "id": "27281fc9-e7c7-4f3b-bc73-9edf0cb5c441",
   "metadata": {},
   "outputs": [],
   "source": []
  }
 ],
 "metadata": {
  "kernelspec": {
   "display_name": "Python [conda env:base] *",
   "language": "python",
   "name": "conda-base-py"
  },
  "language_info": {
   "codemirror_mode": {
    "name": "ipython",
    "version": 3
   },
   "file_extension": ".py",
   "mimetype": "text/x-python",
   "name": "python",
   "nbconvert_exporter": "python",
   "pygments_lexer": "ipython3",
   "version": "3.12.7"
  }
 },
 "nbformat": 4,
 "nbformat_minor": 5
}
