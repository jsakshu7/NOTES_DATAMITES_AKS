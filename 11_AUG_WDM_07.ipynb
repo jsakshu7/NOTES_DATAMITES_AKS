{
 "cells": [
  {
   "cell_type": "markdown",
   "id": "adcd6c2b-8dcb-4580-83f3-1c947aeb9220",
   "metadata": {},
   "source": [
    "## List Functions"
   ]
  },
  {
   "cell_type": "code",
   "execution_count": 25,
   "id": "619f8468-f0c8-4c8a-b748-eddd50dc90de",
   "metadata": {},
   "outputs": [],
   "source": [
    "alpha=[\"A\",\"B\",\"C\",\"D\",\"E\",\"F\"]"
   ]
  },
  {
   "cell_type": "code",
   "execution_count": 26,
   "id": "0400a5c7-cae7-44f3-b6d8-4fb96ff123da",
   "metadata": {},
   "outputs": [
    {
     "data": {
      "text/plain": [
       "['A', 'B', 'C', 'D', 'E', 'F']"
      ]
     },
     "execution_count": 26,
     "metadata": {},
     "output_type": "execute_result"
    }
   ],
   "source": [
    "alpha"
   ]
  },
  {
   "cell_type": "code",
   "execution_count": 27,
   "id": "48442bf5-c7d9-4116-8b44-4a3cf08ae350",
   "metadata": {},
   "outputs": [
    {
     "data": {
      "text/plain": [
       "2"
      ]
     },
     "execution_count": 27,
     "metadata": {},
     "output_type": "execute_result"
    }
   ],
   "source": [
    "alpha.index(\"C\") # Return first index of value."
   ]
  },
  {
   "cell_type": "code",
   "execution_count": 28,
   "id": "8fb10dfb-4c7f-485f-bda9-73b3b3d2322c",
   "metadata": {},
   "outputs": [
    {
     "data": {
      "text/plain": [
       "1"
      ]
     },
     "execution_count": 28,
     "metadata": {},
     "output_type": "execute_result"
    }
   ],
   "source": [
    "alpha.count(\"E\") # Return number of occurrences of value."
   ]
  },
  {
   "cell_type": "code",
   "execution_count": 29,
   "id": "73d8e4d7-b05b-4bcf-a103-fba9881b8403",
   "metadata": {},
   "outputs": [],
   "source": [
    "alpha.append(\"G\") # Append THE NEW VALUE AT the end of the list."
   ]
  },
  {
   "cell_type": "code",
   "execution_count": 30,
   "id": "f6366842-1f69-4310-a85f-13afc182e31c",
   "metadata": {},
   "outputs": [
    {
     "data": {
      "text/plain": [
       "['A', 'B', 'C', 'D', 'E', 'F', 'G']"
      ]
     },
     "execution_count": 30,
     "metadata": {},
     "output_type": "execute_result"
    }
   ],
   "source": [
    "alpha"
   ]
  },
  {
   "cell_type": "code",
   "execution_count": 31,
   "id": "cacb036f-c45a-42a0-8394-f01ca6c1b6d9",
   "metadata": {},
   "outputs": [
    {
     "data": {
      "text/plain": [
       "['A', 'B', 'C', 'D', 'E', 'F', 'G', 'H', 'I', 'J', 'K']"
      ]
     },
     "execution_count": 31,
     "metadata": {},
     "output_type": "execute_result"
    }
   ],
   "source": [
    "alpha.extend([\"H\",\"I\",\"J\",\"K\"]) # Extend list by appending elements or adding multiple elements in the list\n",
    "alpha"
   ]
  },
  {
   "cell_type": "code",
   "execution_count": 32,
   "id": "7ffe50a1-bd47-4d21-ad23-f3a83e006e55",
   "metadata": {},
   "outputs": [],
   "source": [
    "alpha.insert(2,100) # Insert object before index."
   ]
  },
  {
   "cell_type": "code",
   "execution_count": 33,
   "id": "1b6804f5-37c2-424d-9c21-7f40f7684a26",
   "metadata": {},
   "outputs": [
    {
     "data": {
      "text/plain": [
       "['A', 'B', 100, 'C', 'D', 'E', 'F', 'G', 'H', 'I', 'J', 'K']"
      ]
     },
     "execution_count": 33,
     "metadata": {},
     "output_type": "execute_result"
    }
   ],
   "source": [
    "alpha"
   ]
  },
  {
   "cell_type": "code",
   "execution_count": 34,
   "id": "0285da74-01a4-402b-b4bf-4fc68d3d14b2",
   "metadata": {},
   "outputs": [],
   "source": [
    "alpha.insert(7,\"RAM\")"
   ]
  },
  {
   "cell_type": "code",
   "execution_count": 35,
   "id": "a0317939-8f97-4d7a-8d2e-7b1bd54dcca8",
   "metadata": {},
   "outputs": [
    {
     "data": {
      "text/plain": [
       "['A', 'B', 100, 'C', 'D', 'E', 'F', 'RAM', 'G', 'H', 'I', 'J', 'K']"
      ]
     },
     "execution_count": 35,
     "metadata": {},
     "output_type": "execute_result"
    }
   ],
   "source": [
    "alpha"
   ]
  },
  {
   "cell_type": "code",
   "execution_count": 40,
   "id": "25e487c3-b0b0-4d88-b731-8e4f641a40aa",
   "metadata": {},
   "outputs": [
    {
     "data": {
      "text/plain": [
       "['C', 'D', 'E', 'F', 'G', 'H', 'I', 'J', 'K', 'RAM', 'B', 'A']"
      ]
     },
     "execution_count": 40,
     "metadata": {},
     "output_type": "execute_result"
    }
   ],
   "source": [
    "alpha.remove(100)\n",
    "alpha"
   ]
  },
  {
   "cell_type": "code",
   "execution_count": 41,
   "id": "2fda6a84-e17a-47c8-b0e5-7f061f46ce70",
   "metadata": {},
   "outputs": [],
   "source": [
    "alpha.reverse()"
   ]
  },
  {
   "cell_type": "code",
   "execution_count": 42,
   "id": "9a7dd740-68d9-43ec-bc28-069bd2a782b6",
   "metadata": {},
   "outputs": [
    {
     "data": {
      "text/plain": [
       "['A', 'B', 'RAM', 'K', 'J', 'I', 'H', 'G', 'F', 'E', 'D', 'C']"
      ]
     },
     "execution_count": 42,
     "metadata": {},
     "output_type": "execute_result"
    }
   ],
   "source": [
    "alpha"
   ]
  },
  {
   "cell_type": "code",
   "execution_count": 43,
   "id": "a3f3ebfc-9097-4334-a807-ad2e154f4391",
   "metadata": {},
   "outputs": [
    {
     "data": {
      "text/plain": [
       "['A', 'B', 'RAM', 'K', 'J', 'I', 'H', 'G', 'F', 'E', 'D', 'C']"
      ]
     },
     "execution_count": 43,
     "metadata": {},
     "output_type": "execute_result"
    }
   ],
   "source": [
    "alpha"
   ]
  },
  {
   "cell_type": "code",
   "execution_count": 44,
   "id": "33bb81c5-c51d-48cd-9b53-26cf6f25415d",
   "metadata": {},
   "outputs": [],
   "source": [
    "alpha.sort()"
   ]
  },
  {
   "cell_type": "code",
   "execution_count": 18,
   "id": "dc37bda3-0cb1-4a07-9799-3b19bcbeeee8",
   "metadata": {},
   "outputs": [
    {
     "data": {
      "text/plain": [
       "['A', 'B', 'C', 'D', 'E', 'F', 'G', 'H', 'I', 'J', 'K', 'RAM']"
      ]
     },
     "execution_count": 18,
     "metadata": {},
     "output_type": "execute_result"
    }
   ],
   "source": [
    "alpha"
   ]
  },
  {
   "cell_type": "code",
   "execution_count": 24,
   "id": "b9bc421b-3a2a-4ff3-86b7-b89e349839d6",
   "metadata": {},
   "outputs": [
    {
     "data": {
      "text/plain": [
       "['1', '2', '3', 'j', 'vivo']"
      ]
     },
     "execution_count": 24,
     "metadata": {},
     "output_type": "execute_result"
    }
   ],
   "source": [
    "l=['j','vivo','1','2','3']\n",
    "l.sort()\n",
    "l\n"
   ]
  },
  {
   "cell_type": "code",
   "execution_count": 21,
   "id": "b2d849ce-e8c6-4d01-a19f-3af6298f7f06",
   "metadata": {},
   "outputs": [
    {
     "data": {
      "text/plain": [
       "['A', 'B', 'C', 'D', 'E', 'F', 'G', 'H', 'I', 'J', 'K', 'RAM']"
      ]
     },
     "execution_count": 21,
     "metadata": {},
     "output_type": "execute_result"
    }
   ],
   "source": [
    "alpha"
   ]
  },
  {
   "cell_type": "code",
   "execution_count": 45,
   "id": "cc23d667-1c50-4f47-9a42-48a20de690eb",
   "metadata": {},
   "outputs": [
    {
     "data": {
      "text/plain": [
       "['RAM', 'K', 'J', 'I', 'H', 'G', 'F', 'E', 'D', 'C', 'B', 'A']"
      ]
     },
     "execution_count": 45,
     "metadata": {},
     "output_type": "execute_result"
    }
   ],
   "source": [
    "alpha.sort(reverse=True) # desending order\n",
    "alpha"
   ]
  },
  {
   "cell_type": "code",
   "execution_count": 46,
   "id": "9954be48-0145-4a57-b842-dd011089dc63",
   "metadata": {},
   "outputs": [
    {
     "data": {
      "text/plain": [
       "[]"
      ]
     },
     "execution_count": 46,
     "metadata": {},
     "output_type": "execute_result"
    }
   ],
   "source": [
    "alpha.clear()\n",
    "alpha"
   ]
  },
  {
   "cell_type": "code",
   "execution_count": 47,
   "id": "a727893c-8318-4b62-9d23-65f8ed38de04",
   "metadata": {},
   "outputs": [
    {
     "data": {
      "text/plain": [
       "[1, 2]"
      ]
     },
     "execution_count": 47,
     "metadata": {},
     "output_type": "execute_result"
    }
   ],
   "source": [
    "l=[1,2,3]\n",
    "del l[2]\n",
    "l"
   ]
  },
  {
   "cell_type": "code",
   "execution_count": 48,
   "id": "d5018285-ed3c-4a03-9b26-82b4c60e9858",
   "metadata": {},
   "outputs": [],
   "source": [
    "del alpha"
   ]
  },
  {
   "cell_type": "code",
   "execution_count": 49,
   "id": "bde6cc19-db4f-4dde-925c-eef3921f8bc7",
   "metadata": {},
   "outputs": [
    {
     "ename": "NameError",
     "evalue": "name 'alpha' is not defined",
     "output_type": "error",
     "traceback": [
      "\u001b[1;31m---------------------------------------------------------------------------\u001b[0m",
      "\u001b[1;31mNameError\u001b[0m                                 Traceback (most recent call last)",
      "Cell \u001b[1;32mIn[49], line 1\u001b[0m\n\u001b[1;32m----> 1\u001b[0m alpha\n",
      "\u001b[1;31mNameError\u001b[0m: name 'alpha' is not defined"
     ]
    }
   ],
   "source": [
    "alpha"
   ]
  },
  {
   "cell_type": "markdown",
   "id": "2a78d2ae-3840-4e1f-9dce-c7e2c880e718",
   "metadata": {},
   "source": [
    "# Tuple-Data Structure"
   ]
  },
  {
   "cell_type": "code",
   "execution_count": 50,
   "id": "8dd9fb44-9021-40ab-8ea1-45b43565ee14",
   "metadata": {},
   "outputs": [
    {
     "data": {
      "text/plain": [
       "tuple"
      ]
     },
     "execution_count": 50,
     "metadata": {},
     "output_type": "execute_result"
    }
   ],
   "source": [
    "empty_tup=()\n",
    "type(empty_tup)"
   ]
  },
  {
   "cell_type": "code",
   "execution_count": 70,
   "id": "3981135f-1079-47c1-b0ca-d9dd16c9ce13",
   "metadata": {},
   "outputs": [
    {
     "data": {
      "text/plain": [
       "tuple"
      ]
     },
     "execution_count": 70,
     "metadata": {},
     "output_type": "execute_result"
    }
   ],
   "source": [
    "alpha_tup=(\"A\",\"B\",\"C\",\"D\",\"E\",\"F\")\n",
    "type(alpha_tup)"
   ]
  },
  {
   "cell_type": "code",
   "execution_count": 52,
   "id": "28046a15-5950-4825-bb06-3d0e607d011d",
   "metadata": {},
   "outputs": [
    {
     "data": {
      "text/plain": [
       "tuple"
      ]
     },
     "execution_count": 52,
     "metadata": {},
     "output_type": "execute_result"
    }
   ],
   "source": [
    "t1=(\"a\",12,15.33,[1,\"l\"],(\"r\",125))\n",
    "type(t1)"
   ]
  },
  {
   "cell_type": "code",
   "execution_count": 53,
   "id": "a2aae01b-bbcc-4a7c-82f1-8c2fb878af0e",
   "metadata": {},
   "outputs": [
    {
     "data": {
      "text/plain": [
       "('a', 12, 15.33, [1, 'l'], ('r', 125))"
      ]
     },
     "execution_count": 53,
     "metadata": {},
     "output_type": "execute_result"
    }
   ],
   "source": [
    "t1"
   ]
  },
  {
   "cell_type": "markdown",
   "id": "a696f2a8-1130-44aa-834a-effe6a029505",
   "metadata": {},
   "source": [
    "## Slicing and indexing"
   ]
  },
  {
   "cell_type": "code",
   "execution_count": 54,
   "id": "68f413c8-efda-4c67-a437-a23426b49227",
   "metadata": {},
   "outputs": [
    {
     "data": {
      "text/plain": [
       "('A', 'B', 'C', 'D', 'E', 'F')"
      ]
     },
     "execution_count": 54,
     "metadata": {},
     "output_type": "execute_result"
    }
   ],
   "source": [
    "alpha_tup"
   ]
  },
  {
   "cell_type": "code",
   "execution_count": 55,
   "id": "758ff955-9681-4bd7-901a-81284fb38385",
   "metadata": {},
   "outputs": [
    {
     "data": {
      "text/plain": [
       "'C'"
      ]
     },
     "execution_count": 55,
     "metadata": {},
     "output_type": "execute_result"
    }
   ],
   "source": [
    "alpha_tup[2]"
   ]
  },
  {
   "cell_type": "code",
   "execution_count": 56,
   "id": "500350ca-a629-474b-9dd9-f94d1fe09bba",
   "metadata": {},
   "outputs": [
    {
     "data": {
      "text/plain": [
       "'D'"
      ]
     },
     "execution_count": 56,
     "metadata": {},
     "output_type": "execute_result"
    }
   ],
   "source": [
    "alpha_tup[-3]"
   ]
  },
  {
   "cell_type": "code",
   "execution_count": 57,
   "id": "a59c5eab-0f8d-4077-8bc5-8d1344aa43b1",
   "metadata": {},
   "outputs": [
    {
     "data": {
      "text/plain": [
       "('A', 'C', 'E')"
      ]
     },
     "execution_count": 57,
     "metadata": {},
     "output_type": "execute_result"
    }
   ],
   "source": [
    "alpha_tup[0:6:2]"
   ]
  },
  {
   "cell_type": "markdown",
   "id": "cb9099b0-7767-45dd-8dd7-b06f6e737d13",
   "metadata": {},
   "source": [
    "## Tuple is mutable or immutable??"
   ]
  },
  {
   "cell_type": "code",
   "execution_count": 59,
   "id": "3d4b3023-eb8e-4883-8618-c2115e85cba5",
   "metadata": {},
   "outputs": [
    {
     "data": {
      "text/plain": [
       "('A', 'B', 'C', 'D', 'E', 'F')"
      ]
     },
     "execution_count": 59,
     "metadata": {},
     "output_type": "execute_result"
    }
   ],
   "source": [
    "alpha_tup"
   ]
  },
  {
   "cell_type": "code",
   "execution_count": 61,
   "id": "fe89c89d-0bbd-458f-a0f5-f796bf15ea67",
   "metadata": {},
   "outputs": [
    {
     "ename": "TypeError",
     "evalue": "'tuple' object does not support item assignment",
     "output_type": "error",
     "traceback": [
      "\u001b[1;31m---------------------------------------------------------------------------\u001b[0m",
      "\u001b[1;31mTypeError\u001b[0m                                 Traceback (most recent call last)",
      "Cell \u001b[1;32mIn[61], line 1\u001b[0m\n\u001b[1;32m----> 1\u001b[0m alpha_tup[\u001b[38;5;241m3\u001b[39m]\u001b[38;5;241m=\u001b[39m\u001b[38;5;124m\"\u001b[39m\u001b[38;5;124makshatha\u001b[39m\u001b[38;5;124m\"\u001b[39m \u001b[38;5;66;03m# Tuple objects are immutable\u001b[39;00m\n\u001b[0;32m      2\u001b[0m alpha_tup\n",
      "\u001b[1;31mTypeError\u001b[0m: 'tuple' object does not support item assignment"
     ]
    }
   ],
   "source": [
    "alpha_tup[3]=\"akshatha\" # Tuple objects are immutable\n",
    "alpha_tup"
   ]
  },
  {
   "cell_type": "markdown",
   "id": "68934b90-e8c7-4267-95d5-52334b93e505",
   "metadata": {},
   "source": [
    "## Tuple functions"
   ]
  },
  {
   "cell_type": "code",
   "execution_count": 62,
   "id": "aa2a8084-2cc6-423a-bf32-ae03cb3854d4",
   "metadata": {},
   "outputs": [
    {
     "data": {
      "text/plain": [
       "('A', 'B', 'C', 'D', 'E', 'F')"
      ]
     },
     "execution_count": 62,
     "metadata": {},
     "output_type": "execute_result"
    }
   ],
   "source": [
    "alpha_tup"
   ]
  },
  {
   "cell_type": "code",
   "execution_count": 63,
   "id": "741d51d5-6135-4749-b456-ff3e08ae3c69",
   "metadata": {},
   "outputs": [
    {
     "ename": "AttributeError",
     "evalue": "'tuple' object has no attribute 'append'",
     "output_type": "error",
     "traceback": [
      "\u001b[1;31m---------------------------------------------------------------------------\u001b[0m",
      "\u001b[1;31mAttributeError\u001b[0m                            Traceback (most recent call last)",
      "Cell \u001b[1;32mIn[63], line 1\u001b[0m\n\u001b[1;32m----> 1\u001b[0m alpha_tup\u001b[38;5;241m.\u001b[39mappend(\u001b[38;5;124m\"\u001b[39m\u001b[38;5;124mG\u001b[39m\u001b[38;5;124m\"\u001b[39m)\n",
      "\u001b[1;31mAttributeError\u001b[0m: 'tuple' object has no attribute 'append'"
     ]
    }
   ],
   "source": [
    "alpha_tup.append(\"G\")"
   ]
  },
  {
   "cell_type": "code",
   "execution_count": 64,
   "id": "7dcf1c4b-33a4-44e6-84c6-4f7d0faf828a",
   "metadata": {},
   "outputs": [
    {
     "data": {
      "text/plain": [
       "1"
      ]
     },
     "execution_count": 64,
     "metadata": {},
     "output_type": "execute_result"
    }
   ],
   "source": [
    "alpha_tup.index(\"B\")"
   ]
  },
  {
   "cell_type": "code",
   "execution_count": 71,
   "id": "04df28ae-ccb7-439a-b88f-efd7ffdf5dfe",
   "metadata": {},
   "outputs": [
    {
     "data": {
      "text/plain": [
       "1"
      ]
     },
     "execution_count": 71,
     "metadata": {},
     "output_type": "execute_result"
    }
   ],
   "source": [
    "alpha_tup.count(\"E\")"
   ]
  },
  {
   "cell_type": "code",
   "execution_count": 66,
   "id": "92ad629a-9324-4abc-8559-d5c7fa89cfd4",
   "metadata": {},
   "outputs": [
    {
     "ename": "TypeError",
     "evalue": "'tuple' object doesn't support item deletion",
     "output_type": "error",
     "traceback": [
      "\u001b[1;31m---------------------------------------------------------------------------\u001b[0m",
      "\u001b[1;31mTypeError\u001b[0m                                 Traceback (most recent call last)",
      "Cell \u001b[1;32mIn[66], line 1\u001b[0m\n\u001b[1;32m----> 1\u001b[0m \u001b[38;5;28;01mdel\u001b[39;00m alpha_tup[\u001b[38;5;241m1\u001b[39m]\n",
      "\u001b[1;31mTypeError\u001b[0m: 'tuple' object doesn't support item deletion"
     ]
    }
   ],
   "source": [
    "del alpha_tup[1]"
   ]
  },
  {
   "cell_type": "code",
   "execution_count": 67,
   "id": "afd4d2b5-a5db-4f9d-8042-81e10d17a6ca",
   "metadata": {},
   "outputs": [],
   "source": [
    "del alpha_tup"
   ]
  },
  {
   "cell_type": "code",
   "execution_count": 68,
   "id": "174519f7-066b-46da-90f3-bec73543cd3a",
   "metadata": {},
   "outputs": [
    {
     "ename": "NameError",
     "evalue": "name 'alpha_tup' is not defined",
     "output_type": "error",
     "traceback": [
      "\u001b[1;31m---------------------------------------------------------------------------\u001b[0m",
      "\u001b[1;31mNameError\u001b[0m                                 Traceback (most recent call last)",
      "Cell \u001b[1;32mIn[68], line 1\u001b[0m\n\u001b[1;32m----> 1\u001b[0m alpha_tup\n",
      "\u001b[1;31mNameError\u001b[0m: name 'alpha_tup' is not defined"
     ]
    }
   ],
   "source": [
    "alpha_tup"
   ]
  },
  {
   "cell_type": "markdown",
   "id": "33c3fc27-952d-4e43-8439-56c30a2e9ffb",
   "metadata": {},
   "source": [
    "# Set"
   ]
  },
  {
   "cell_type": "code",
   "execution_count": 72,
   "id": "92c69879-adc6-4839-b38d-5e07b6b41cac",
   "metadata": {},
   "outputs": [
    {
     "data": {
      "text/plain": [
       "set"
      ]
     },
     "execution_count": 72,
     "metadata": {},
     "output_type": "execute_result"
    }
   ],
   "source": [
    "empty_set=set()\n",
    "type(empty_set)\n"
   ]
  },
  {
   "cell_type": "code",
   "execution_count": 73,
   "id": "24b1df07-abd1-41ed-9036-17210ad02365",
   "metadata": {},
   "outputs": [
    {
     "data": {
      "text/plain": [
       "{1, 12.66, 4, 5, 6, 7, 'a', 'anu'}"
      ]
     },
     "execution_count": 73,
     "metadata": {},
     "output_type": "execute_result"
    }
   ],
   "source": [
    "myset={1,4,6,\"a\",5,6,7,7,7,7,7,\"anu\",12.66}\n",
    "myset"
   ]
  },
  {
   "cell_type": "code",
   "execution_count": 74,
   "id": "274a4336-158e-41ce-96ec-0db8b4255b91",
   "metadata": {},
   "outputs": [
    {
     "data": {
      "text/plain": [
       "set"
      ]
     },
     "execution_count": 74,
     "metadata": {},
     "output_type": "execute_result"
    }
   ],
   "source": [
    "type(myset)"
   ]
  },
  {
   "cell_type": "markdown",
   "id": "83538937-aad8-4e1e-9272-396a59637d9f",
   "metadata": {},
   "source": [
    "## Set Functions"
   ]
  },
  {
   "cell_type": "code",
   "execution_count": 76,
   "id": "fd3222c9-a49a-433a-bf27-ac5d6b1a5b42",
   "metadata": {},
   "outputs": [
    {
     "data": {
      "text/plain": [
       "{1, 4, 5, 6, 7, 8, 'a'}"
      ]
     },
     "execution_count": 76,
     "metadata": {},
     "output_type": "execute_result"
    }
   ],
   "source": [
    "set_var={1,4,6,7,8,\"a\",8,8,8,5}\n",
    "set_var"
   ]
  },
  {
   "cell_type": "code",
   "execution_count": 77,
   "id": "16eb2508-944e-4a59-b29e-2cea5cc2eb6c",
   "metadata": {},
   "outputs": [],
   "source": [
    "set_var.add(\"new\")"
   ]
  },
  {
   "cell_type": "code",
   "execution_count": 78,
   "id": "48ef9063-2fe2-4826-b993-d94599164766",
   "metadata": {},
   "outputs": [
    {
     "data": {
      "text/plain": [
       "{1, 4, 5, 6, 7, 8, 'a', 'new'}"
      ]
     },
     "execution_count": 78,
     "metadata": {},
     "output_type": "execute_result"
    }
   ],
   "source": [
    "set_var"
   ]
  },
  {
   "cell_type": "code",
   "execution_count": 79,
   "id": "9a62b71a-4207-4d3c-a3f5-04254b999c95",
   "metadata": {},
   "outputs": [
    {
     "data": {
      "text/plain": [
       "{1, 22, 4, 5, 6, 7, 8, 'a', 'j', 'new'}"
      ]
     },
     "execution_count": 79,
     "metadata": {},
     "output_type": "execute_result"
    }
   ],
   "source": [
    "set_var.update({22,5,\"j\"})\n",
    "set_var"
   ]
  },
  {
   "cell_type": "code",
   "execution_count": 80,
   "id": "b7483940-1ef9-43b2-878d-adbfe3f0c24f",
   "metadata": {},
   "outputs": [
    {
     "data": {
      "text/plain": [
       "{1, 22, 4, 5, 6, 7, 8, 'a', 'new'}"
      ]
     },
     "execution_count": 80,
     "metadata": {},
     "output_type": "execute_result"
    }
   ],
   "source": [
    "set_var.remove(\"j\")\n",
    "set_var"
   ]
  },
  {
   "cell_type": "markdown",
   "id": "f2c6471d-f116-4b5a-96f2-94677ebd90f4",
   "metadata": {},
   "source": [
    "## Set Operations using functions"
   ]
  },
  {
   "cell_type": "code",
   "execution_count": 84,
   "id": "134dbe59-fb96-4dd3-8247-768f55e655b1",
   "metadata": {},
   "outputs": [],
   "source": [
    "A={1,2,3,4,5}\n",
    "B={4,5,6,7,8}"
   ]
  },
  {
   "cell_type": "code",
   "execution_count": 85,
   "id": "b8c3a37d-f652-4837-b267-dc523ae6b102",
   "metadata": {},
   "outputs": [
    {
     "data": {
      "text/plain": [
       "{1, 2, 3, 4, 5, 6, 7, 8}"
      ]
     },
     "execution_count": 85,
     "metadata": {},
     "output_type": "execute_result"
    }
   ],
   "source": [
    "A.union(B) # All elements that are in either set."
   ]
  },
  {
   "cell_type": "code",
   "execution_count": 86,
   "id": "db28903d-7a2b-4e53-a51c-9b68c70d1985",
   "metadata": {},
   "outputs": [
    {
     "data": {
      "text/plain": [
       "{4, 5}"
      ]
     },
     "execution_count": 86,
     "metadata": {},
     "output_type": "execute_result"
    }
   ],
   "source": [
    "A.intersection(B) # all elements that are in both sets"
   ]
  },
  {
   "cell_type": "code",
   "execution_count": 87,
   "id": "58146692-43ab-4c04-bdb3-63e7a28e1129",
   "metadata": {},
   "outputs": [
    {
     "data": {
      "text/plain": [
       "{1, 2, 3}"
      ]
     },
     "execution_count": 87,
     "metadata": {},
     "output_type": "execute_result"
    }
   ],
   "source": [
    "A.difference(B) # The elements that are only present in A"
   ]
  },
  {
   "cell_type": "code",
   "execution_count": 88,
   "id": "9f619f7d-0e8e-4fcf-af65-643463aa1788",
   "metadata": {},
   "outputs": [
    {
     "data": {
      "text/plain": [
       "{6, 7, 8}"
      ]
     },
     "execution_count": 88,
     "metadata": {},
     "output_type": "execute_result"
    }
   ],
   "source": [
    "B.difference(A)"
   ]
  },
  {
   "cell_type": "code",
   "execution_count": 89,
   "id": "5def46ad-fa0e-4952-890c-5e903496ad06",
   "metadata": {},
   "outputs": [],
   "source": [
    "del myset"
   ]
  },
  {
   "cell_type": "markdown",
   "id": "3aa0e357-e3dd-4434-8143-75630ad80187",
   "metadata": {},
   "source": [
    "## Dictionary"
   ]
  },
  {
   "cell_type": "code",
   "execution_count": 91,
   "id": "512aa50d-7306-4176-b35f-524399b9f29b",
   "metadata": {},
   "outputs": [
    {
     "data": {
      "text/plain": [
       "dict"
      ]
     },
     "execution_count": 91,
     "metadata": {},
     "output_type": "execute_result"
    }
   ],
   "source": [
    "empty_dict={}\n",
    "type(empty_dict)"
   ]
  },
  {
   "cell_type": "code",
   "execution_count": 94,
   "id": "bae2f57d-d151-4bda-873d-8663a3e7062e",
   "metadata": {},
   "outputs": [
    {
     "data": {
      "text/plain": [
       "{1: 'Amit', 2: 'Bhanu', 'name': 'Revathi', 'city': 'bangalore'}"
      ]
     },
     "execution_count": 94,
     "metadata": {},
     "output_type": "execute_result"
    }
   ],
   "source": [
    "d={1:\"Amit\",2:\"Bhanu\",\"name\":\"Revathi\",\"city\":\"bangalore\"}\n",
    "d"
   ]
  },
  {
   "cell_type": "code",
   "execution_count": 93,
   "id": "3d926dbb-4bed-4bfd-a9a0-19dfdc9ff731",
   "metadata": {},
   "outputs": [
    {
     "data": {
      "text/plain": [
       "'Bhanu'"
      ]
     },
     "execution_count": 93,
     "metadata": {},
     "output_type": "execute_result"
    }
   ],
   "source": [
    "d[2]"
   ]
  },
  {
   "cell_type": "code",
   "execution_count": 95,
   "id": "41da09c7-77dd-4e3c-8643-333116d3a9f1",
   "metadata": {},
   "outputs": [
    {
     "data": {
      "text/plain": [
       "'Revathi'"
      ]
     },
     "execution_count": 95,
     "metadata": {},
     "output_type": "execute_result"
    }
   ],
   "source": [
    "d[\"name\"]"
   ]
  },
  {
   "cell_type": "code",
   "execution_count": 96,
   "id": "0d01a64e-58e7-454b-a696-3804cb039eaa",
   "metadata": {},
   "outputs": [
    {
     "data": {
      "text/plain": [
       "'bangalore'"
      ]
     },
     "execution_count": 96,
     "metadata": {},
     "output_type": "execute_result"
    }
   ],
   "source": [
    "d[\"city\"]"
   ]
  },
  {
   "cell_type": "code",
   "execution_count": 22,
   "id": "a9f10d12-8e50-4db1-b970-82f104ea9e60",
   "metadata": {},
   "outputs": [],
   "source": [
    "s={\"name\":\"praveen\",\"age\":30,\"city\":\"pune\"}"
   ]
  },
  {
   "cell_type": "code",
   "execution_count": 23,
   "id": "13d658f2-a9c0-4735-a9b0-26ce9e1c4490",
   "metadata": {},
   "outputs": [
    {
     "data": {
      "text/plain": [
       "{'name': 'praveen', 'age': 30, 'city': 'pune'}"
      ]
     },
     "execution_count": 23,
     "metadata": {},
     "output_type": "execute_result"
    }
   ],
   "source": [
    "s"
   ]
  },
  {
   "cell_type": "code",
   "execution_count": 24,
   "id": "4443fafd-4ae9-4710-baeb-a991d3f30fd4",
   "metadata": {},
   "outputs": [
    {
     "data": {
      "text/plain": [
       "{'name': 'THAKUR', 'age': 30, 'city': 'pune'}"
      ]
     },
     "execution_count": 24,
     "metadata": {},
     "output_type": "execute_result"
    }
   ],
   "source": [
    "s[\"name\"]=\"THAKUR\"\n",
    "s"
   ]
  },
  {
   "cell_type": "code",
   "execution_count": 25,
   "id": "f4a8dc87-94e6-42a1-8bba-3a6b457493da",
   "metadata": {},
   "outputs": [
    {
     "data": {
      "text/plain": [
       "{'name': 'THAKUR', 'age': 30, 'city': 'pune', 'job': 'Manger'}"
      ]
     },
     "execution_count": 25,
     "metadata": {},
     "output_type": "execute_result"
    }
   ],
   "source": [
    "s[\"job\"]=\"Manger\" # ADDING NEW KEY VALUE--S[NEW_KEY]=\"NEW_VALUE\"\n",
    "s"
   ]
  },
  {
   "cell_type": "markdown",
   "id": "b11d7c75-d36a-4b32-817b-405847a20a4d",
   "metadata": {},
   "source": [
    "# DICTIONARY FUNCTIONS"
   ]
  },
  {
   "cell_type": "code",
   "execution_count": 26,
   "id": "f5ac5fe0-3f58-4131-9090-bbdfcec9d653",
   "metadata": {},
   "outputs": [
    {
     "data": {
      "text/plain": [
       "dict_keys(['name', 'age', 'city', 'job'])"
      ]
     },
     "execution_count": 26,
     "metadata": {},
     "output_type": "execute_result"
    }
   ],
   "source": [
    "s.keys()"
   ]
  },
  {
   "cell_type": "code",
   "execution_count": 27,
   "id": "6c55aa2b-cd87-449c-816f-192d0e196c1c",
   "metadata": {},
   "outputs": [
    {
     "data": {
      "text/plain": [
       "dict_values(['THAKUR', 30, 'pune', 'Manger'])"
      ]
     },
     "execution_count": 27,
     "metadata": {},
     "output_type": "execute_result"
    }
   ],
   "source": [
    "s.values()"
   ]
  },
  {
   "cell_type": "code",
   "execution_count": 28,
   "id": "99c84c09-6414-45fd-bb04-227fa0caa969",
   "metadata": {},
   "outputs": [
    {
     "data": {
      "text/plain": [
       "dict_items([('name', 'THAKUR'), ('age', 30), ('city', 'pune'), ('job', 'Manger')])"
      ]
     },
     "execution_count": 28,
     "metadata": {},
     "output_type": "execute_result"
    }
   ],
   "source": [
    "s.items()"
   ]
  },
  {
   "cell_type": "code",
   "execution_count": 29,
   "id": "3f84fa89-df60-4bca-883e-abfa4252a21e",
   "metadata": {},
   "outputs": [
    {
     "data": {
      "text/plain": [
       "{'name': 'THAKUR',\n",
       " 'age': 30,\n",
       " 'city': 'pune',\n",
       " 'job': 'Manger',\n",
       " 'marks': [10, 20, 30, 40]}"
      ]
     },
     "execution_count": 29,
     "metadata": {},
     "output_type": "execute_result"
    }
   ],
   "source": [
    "s.update({\"marks\":[10,20,30,40]})\n",
    "s"
   ]
  },
  {
   "cell_type": "code",
   "execution_count": 30,
   "id": "0b41ecf4-bc17-4282-90b2-388fd16bed91",
   "metadata": {},
   "outputs": [
    {
     "data": {
      "text/plain": [
       "{'name': 'THAKUR',\n",
       " 'age': 30,\n",
       " 'city': 'pune',\n",
       " 'job': 'Manger',\n",
       " 'marks': [10, 20, 30, 40],\n",
       " 'course': 'CDA',\n",
       " 'PHONE': 99225552}"
      ]
     },
     "execution_count": 30,
     "metadata": {},
     "output_type": "execute_result"
    }
   ],
   "source": [
    "s.update({\"course\":\"CDA\",\"PHONE\":99225552})\n",
    "s"
   ]
  },
  {
   "cell_type": "code",
   "execution_count": 32,
   "id": "735ec863-3d8d-47f3-bec3-03f1a855a750",
   "metadata": {},
   "outputs": [
    {
     "data": {
      "text/plain": [
       "{'name': 'THAKUR',\n",
       " 'age': 30,\n",
       " 'city': 'pune',\n",
       " 'marks': [10, 20, 30, 40],\n",
       " 'course': 'CDA',\n",
       " 'PHONE': 99225552}"
      ]
     },
     "execution_count": 32,
     "metadata": {},
     "output_type": "execute_result"
    }
   ],
   "source": [
    "del s[\"job\"]\n",
    "s"
   ]
  },
  {
   "cell_type": "code",
   "execution_count": 20,
   "id": "05b6c483-bf2e-4937-b592-58cfbc68e58a",
   "metadata": {},
   "outputs": [
    {
     "data": {
      "text/plain": [
       "{}"
      ]
     },
     "execution_count": 20,
     "metadata": {},
     "output_type": "execute_result"
    }
   ],
   "source": [
    "s.clear()\n",
    "s"
   ]
  },
  {
   "cell_type": "code",
   "execution_count": 21,
   "id": "7c6b4f05-bf24-47a0-b0da-274bd7d0b761",
   "metadata": {},
   "outputs": [
    {
     "ename": "SyntaxError",
     "evalue": "invalid syntax (1376856797.py, line 1)",
     "output_type": "error",
     "traceback": [
      "\u001b[1;36m  Cell \u001b[1;32mIn[21], line 1\u001b[1;36m\u001b[0m\n\u001b[1;33m    del\u001b[0m\n\u001b[1;37m        ^\u001b[0m\n\u001b[1;31mSyntaxError\u001b[0m\u001b[1;31m:\u001b[0m invalid syntax\n"
     ]
    }
   ],
   "source": [
    "del "
   ]
  },
  {
   "cell_type": "markdown",
   "id": "d9714266-3e0f-4e2d-b0d0-a07c5a4ad649",
   "metadata": {},
   "source": [
    "# While Loop"
   ]
  },
  {
   "cell_type": "code",
   "execution_count": 34,
   "id": "4179c69c-85a7-4d58-9afd-0ad112bdf306",
   "metadata": {},
   "outputs": [
    {
     "name": "stdout",
     "output_type": "stream",
     "text": [
      "Revathi..Good Morning..!!\n",
      "Revathi..Good Morning..!!\n",
      "Revathi..Good Morning..!!\n",
      "Revathi..Good Morning..!!\n",
      "Revathi..Good Morning..!!\n"
     ]
    }
   ],
   "source": [
    "i=0 # Initialize the counter variable\n",
    "while i<5:\n",
    "    print(\"Revathi..Good Morning..!!\")\n",
    "    i=i+1"
   ]
  },
  {
   "cell_type": "code",
   "execution_count": 35,
   "id": "6c9eee0f-d6cf-4066-aaec-3ca06863e925",
   "metadata": {},
   "outputs": [
    {
     "name": "stdout",
     "output_type": "stream",
     "text": [
      " print values from 1 to 10 using while loop\n",
      "The value of i is 1\n",
      "The value of i is 2\n",
      "The value of i is 3\n",
      "The value of i is 4\n",
      "The value of i is 5\n",
      "The value of i is 6\n",
      "The value of i is 7\n",
      "The value of i is 8\n",
      "The value of i is 9\n",
      "The value of i is 10\n"
     ]
    }
   ],
   "source": [
    "print(\" print values from 1 to 10 using while loop\")\n",
    "i=1\n",
    "while i<11:\n",
    "    print(\"The value of i is\",i)\n",
    "    i+=1  # i=i+1"
   ]
  },
  {
   "cell_type": "code",
   "execution_count": 38,
   "id": "2b9f5648-5ecf-424f-accd-01959c3155ec",
   "metadata": {},
   "outputs": [
    {
     "name": "stdout",
     "output_type": "stream",
     "text": [
      " print values from 1 to 10 using while loop\n",
      "1\n",
      "2\n",
      "3\n",
      "4\n",
      "outside the while loop\n"
     ]
    }
   ],
   "source": [
    "print(\" print values from 1 to 10 using while loop\")\n",
    "\n",
    "i=1\n",
    "while i<11:\n",
    "    print(i)\n",
    "    if i == 4:\n",
    "        break\n",
    "    i+=1  # i=i+1\n",
    "print(\"outside the while loop\")"
   ]
  },
  {
   "cell_type": "code",
   "execution_count": 43,
   "id": "0961196f-d0a2-4a93-9f1e-76672ea7fcdc",
   "metadata": {},
   "outputs": [
    {
     "name": "stdout",
     "output_type": "stream",
     "text": [
      " print squares of number from 0 to 10\n",
      "1\n",
      "4\n",
      "skip the iteration\n",
      "16\n",
      "25\n",
      "36\n",
      "49\n",
      "64\n",
      "81\n",
      "outside the while loop\n"
     ]
    }
   ],
   "source": [
    "print(\" print squares of number from 0 to 10\")\n",
    "\n",
    "i=1\n",
    "while i<10:\n",
    "    sq=i*i\n",
    "    if sq==9:\n",
    "        print(\"skip the iteration\")\n",
    "        i=i+1\n",
    "        continue    \n",
    "    print(sq)\n",
    "    i+=1  # i=i+1\n",
    "print(\"outside the while loop\")"
   ]
  },
  {
   "cell_type": "markdown",
   "id": "4549d3f0-ecfb-49eb-9895-eb48612784e6",
   "metadata": {},
   "source": [
    "# For Loop"
   ]
  },
  {
   "cell_type": "code",
   "execution_count": 44,
   "id": "2d7c33c0-5957-4f86-9877-4ab97ffa6961",
   "metadata": {},
   "outputs": [],
   "source": [
    "list_var=[\"ankit\",\"meena\",\"rohit\",\"praveen\"]"
   ]
  },
  {
   "cell_type": "code",
   "execution_count": 45,
   "id": "0eeac090-70ea-4eda-9751-5581814c612d",
   "metadata": {},
   "outputs": [
    {
     "name": "stdout",
     "output_type": "stream",
     "text": [
      "ankit\n",
      "meena\n",
      "rohit\n",
      "praveen\n"
     ]
    }
   ],
   "source": [
    "for n in list_var:\n",
    "    print(n)"
   ]
  },
  {
   "cell_type": "code",
   "execution_count": 46,
   "id": "e65532fe-45b5-4314-87c0-04411a507ccf",
   "metadata": {},
   "outputs": [
    {
     "name": "stdout",
     "output_type": "stream",
     "text": [
      "H\n",
      "i\n",
      " \n",
      "H\n",
      "e\n",
      "l\n",
      "l\n",
      "o\n",
      ".\n",
      ".\n",
      ".\n",
      " \n",
      "G\n",
      "o\n",
      "o\n",
      "d\n",
      " \n",
      "M\n",
      "o\n",
      "r\n",
      "n\n",
      "i\n",
      "n\n",
      "g\n"
     ]
    }
   ],
   "source": [
    "str_var=\"Hi Hello... Good Morning\"\n",
    "for s in str_var:\n",
    "    print(s)"
   ]
  },
  {
   "cell_type": "code",
   "execution_count": 47,
   "id": "2df3677a-2a55-445c-9636-05a4801f9424",
   "metadata": {},
   "outputs": [
    {
     "name": "stdout",
     "output_type": "stream",
     "text": [
      "0\n",
      "1\n",
      "2\n",
      "3\n",
      "4\n",
      "5\n",
      "6\n",
      "7\n",
      "8\n",
      "9\n"
     ]
    }
   ],
   "source": [
    "for r in range(10):\n",
    "    print(r)"
   ]
  },
  {
   "cell_type": "code",
   "execution_count": 48,
   "id": "98484f80-1738-444e-afb3-e7287ca0e627",
   "metadata": {},
   "outputs": [
    {
     "name": "stdout",
     "output_type": "stream",
     "text": [
      "2\n",
      "3\n",
      "4\n",
      "5\n",
      "6\n",
      "7\n",
      "8\n",
      "9\n",
      "10\n"
     ]
    }
   ],
   "source": [
    "for j in range(2,11):\n",
    "    print(j)"
   ]
  },
  {
   "cell_type": "code",
   "execution_count": 49,
   "id": "4117b500-54bd-4f7f-bb44-05bb727190bb",
   "metadata": {},
   "outputs": [
    {
     "name": "stdout",
     "output_type": "stream",
     "text": [
      "0\n",
      "2\n",
      "4\n",
      "6\n",
      "8\n",
      "10\n"
     ]
    }
   ],
   "source": [
    "for z in range(0,11,2):\n",
    "    print(z)"
   ]
  },
  {
   "cell_type": "code",
   "execution_count": 51,
   "id": "f15e76a6-9957-41c1-a68a-9ed90ecdd619",
   "metadata": {},
   "outputs": [
    {
     "name": "stdout",
     "output_type": "stream",
     "text": [
      "0\n",
      "1\n",
      "2\n",
      "3\n",
      "4\n",
      "5\n"
     ]
    }
   ],
   "source": [
    "for i in range(6):\n",
    "    print(i)\n"
   ]
  },
  {
   "cell_type": "code",
   "execution_count": 52,
   "id": "06ce3f98-7d95-444c-802b-7be702096a59",
   "metadata": {},
   "outputs": [
    {
     "name": "stdout",
     "output_type": "stream",
     "text": [
      "0\n",
      "1\n",
      "2\n",
      "3\n",
      "4\n",
      "5\n",
      "end of for loop\n"
     ]
    }
   ],
   "source": [
    "for a in range(10):\n",
    "    print(a)\n",
    "    if a==5:\n",
    "        break\n",
    "print(\"end of for loop\")"
   ]
  },
  {
   "cell_type": "code",
   "execution_count": 54,
   "id": "d08be43c-7ea2-49fa-ae53-02bb7ce1f9ce",
   "metadata": {},
   "outputs": [
    {
     "name": "stdout",
     "output_type": "stream",
     "text": [
      "0\n",
      "1\n",
      "2\n",
      "3\n",
      "4\n",
      "6\n",
      "7\n",
      "8\n",
      "9\n",
      "end of for loop\n"
     ]
    }
   ],
   "source": [
    "for a in range(10):\n",
    "    \n",
    "    if a==5:\n",
    "        #print(\"skip the iteration\")\n",
    "        continue\n",
    "    print(a)\n",
    "print(\"end of for loop\")"
   ]
  },
  {
   "cell_type": "code",
   "execution_count": 55,
   "id": "1f21f19f-8460-451e-beae-312728b9e0a8",
   "metadata": {},
   "outputs": [
    {
     "name": "stdout",
     "output_type": "stream",
     "text": [
      "1 A\n",
      "1 B\n",
      "1 C\n",
      "2 A\n",
      "2 B\n",
      "2 C\n",
      "3 A\n",
      "3 B\n",
      "3 C\n"
     ]
    }
   ],
   "source": [
    "for x in [1,2,3]:\n",
    "    for y in [\"A\",\"B\",\"C\"]:\n",
    "        print(x,y)"
   ]
  },
  {
   "cell_type": "markdown",
   "id": "bbcda606-1d58-4f49-8e7e-ce889244e691",
   "metadata": {},
   "source": [
    "# Functions"
   ]
  },
  {
   "cell_type": "code",
   "execution_count": 1,
   "id": "bb9974b3-520e-4f6b-97f2-686ddf0a7f28",
   "metadata": {},
   "outputs": [
    {
     "ename": "NameError",
     "evalue": "name 'hello' is not defined",
     "output_type": "error",
     "traceback": [
      "\u001b[1;31m---------------------------------------------------------------------------\u001b[0m",
      "\u001b[1;31mNameError\u001b[0m                                 Traceback (most recent call last)",
      "Cell \u001b[1;32mIn[1], line 1\u001b[0m\n\u001b[1;32m----> 1\u001b[0m hello()\n",
      "\u001b[1;31mNameError\u001b[0m: name 'hello' is not defined"
     ]
    }
   ],
   "source": [
    "len()"
   ]
  },
  {
   "cell_type": "code",
   "execution_count": null,
   "id": "6d639b7e-641b-42e4-b6a9-10dc992ed09e",
   "metadata": {},
   "outputs": [],
   "source": [
    "def function_name(parameter1,parameter2,par3.....):\n",
    "    \"\"\"this is doc string---describe the function block\"\"\"\n",
    "    statement1\n",
    "    statement2\n",
    "    .\n",
    "    .\n",
    "    .\n",
    "    return var/exp/value\n",
    "\n",
    "\n",
    "function_name(arg1,arg2,agr3.....)\n"
   ]
  },
  {
   "cell_type": "code",
   "execution_count": 2,
   "id": "71761711-c224-454d-93b9-32eaeb0c8dba",
   "metadata": {},
   "outputs": [],
   "source": [
    "def hello_function():\n",
    "    print(\"Good Morning\")"
   ]
  },
  {
   "cell_type": "code",
   "execution_count": 3,
   "id": "2a71322f-9d09-4126-a92c-a8628d414bf5",
   "metadata": {},
   "outputs": [
    {
     "name": "stdout",
     "output_type": "stream",
     "text": [
      "Good Morning\n"
     ]
    }
   ],
   "source": [
    "hello_function()"
   ]
  },
  {
   "cell_type": "code",
   "execution_count": 4,
   "id": "56cebac5-e4b9-461c-8c18-4c851a881bdc",
   "metadata": {},
   "outputs": [
    {
     "name": "stdout",
     "output_type": "stream",
     "text": [
      "Good Morning\n"
     ]
    }
   ],
   "source": [
    "hello_function()"
   ]
  },
  {
   "cell_type": "code",
   "execution_count": 5,
   "id": "391ad82b-3b83-437f-9ff5-7da462fa498a",
   "metadata": {},
   "outputs": [
    {
     "name": "stdout",
     "output_type": "stream",
     "text": [
      "Good Morning\n"
     ]
    }
   ],
   "source": [
    "hello_function()"
   ]
  },
  {
   "cell_type": "code",
   "execution_count": 6,
   "id": "9b98d7d9-4772-45ee-a78d-671452b7145f",
   "metadata": {},
   "outputs": [],
   "source": [
    "def add_numbers(a,b): # a and b are the parameters\n",
    "    c=a+b\n",
    "    print(c)"
   ]
  },
  {
   "cell_type": "code",
   "execution_count": 7,
   "id": "71d9171a-185c-4e98-ab27-12c8ea68b5e5",
   "metadata": {},
   "outputs": [
    {
     "name": "stdout",
     "output_type": "stream",
     "text": [
      "7\n"
     ]
    }
   ],
   "source": [
    "add_numbers(3,4) # 3 and 4 are arguments"
   ]
  },
  {
   "cell_type": "code",
   "execution_count": 33,
   "id": "dcb821ba-5db9-4395-bc8f-7359d717648a",
   "metadata": {},
   "outputs": [],
   "source": [
    "def sum_two_numbers(a,b): # a and b are the parameters\n",
    "    c=a+b\n",
    "    print(c)\n",
    "    return c"
   ]
  },
  {
   "cell_type": "code",
   "execution_count": 34,
   "id": "1e86e65c-48a2-4476-8782-79b5f9610881",
   "metadata": {},
   "outputs": [
    {
     "name": "stdout",
     "output_type": "stream",
     "text": [
      "12\n",
      "the value of result is 12\n"
     ]
    }
   ],
   "source": [
    "result=sum_two_numbers(7,5)\n",
    "print(\"the value of result is\",result)"
   ]
  },
  {
   "cell_type": "code",
   "execution_count": 28,
   "id": "e71d7d53-98dd-4fd6-aa25-92741c762444",
   "metadata": {},
   "outputs": [],
   "source": [
    "# Write a function that calculates the area of a circle.\n",
    "def calculate_area(radius):\n",
    "    return 3.14 * radius ** 2\n",
    "\n",
    "\n"
   ]
  },
  {
   "cell_type": "code",
   "execution_count": 29,
   "id": "d56c7b8f-093e-4d02-960b-83b85c971c7b",
   "metadata": {},
   "outputs": [
    {
     "name": "stdout",
     "output_type": "stream",
     "text": [
      "78.5\n"
     ]
    }
   ],
   "source": [
    "x=calculate_area(5)\n",
    "print(x)"
   ]
  },
  {
   "cell_type": "code",
   "execution_count": 17,
   "id": "c89be1b3-f990-4032-813a-6549c96993dd",
   "metadata": {},
   "outputs": [],
   "source": [
    "calculate_area(5)"
   ]
  },
  {
   "cell_type": "markdown",
   "id": "6affeba1-2af6-4337-baee-5c230e26dd7b",
   "metadata": {},
   "source": [
    "## Lambda"
   ]
  },
  {
   "cell_type": "code",
   "execution_count": null,
   "id": "f39da005-ec61-498e-8b9e-8a42195dfcee",
   "metadata": {},
   "outputs": [],
   "source": [
    "func_name=lambda para1,para2: expression"
   ]
  },
  {
   "cell_type": "code",
   "execution_count": 22,
   "id": "45d26f7d-1cb3-4dae-8bda-5734b052b342",
   "metadata": {},
   "outputs": [],
   "source": [
    "multiply_function=lambda a,b: a*b"
   ]
  },
  {
   "cell_type": "code",
   "execution_count": 23,
   "id": "4344fc39-215c-4bbd-9055-b0e0ba6f813a",
   "metadata": {},
   "outputs": [
    {
     "data": {
      "text/plain": [
       "15"
      ]
     },
     "execution_count": 23,
     "metadata": {},
     "output_type": "execute_result"
    }
   ],
   "source": [
    "multiply_function(5,3)"
   ]
  },
  {
   "cell_type": "code",
   "execution_count": 24,
   "id": "cc336692-b916-4a97-9c93-25ef13be8ed8",
   "metadata": {},
   "outputs": [
    {
     "name": "stdout",
     "output_type": "stream",
     "text": [
      "20\n"
     ]
    }
   ],
   "source": [
    "res=multiply_function(10,2)\n",
    "print(res)"
   ]
  },
  {
   "cell_type": "code",
   "execution_count": 39,
   "id": "5803827c-4e62-4884-926b-8697abf91829",
   "metadata": {},
   "outputs": [
    {
     "name": "stdout",
     "output_type": "stream",
     "text": [
      "hello,John good morning\n"
     ]
    }
   ],
   "source": [
    "greet = lambda name: print(f\"hello,{name} good morning\")\n",
    "greet(\"John\")\n"
   ]
  },
  {
   "cell_type": "code",
   "execution_count": 40,
   "id": "878458a8-af24-45f2-b3c3-5f51fa57686b",
   "metadata": {},
   "outputs": [
    {
     "name": "stdout",
     "output_type": "stream",
     "text": [
      "hello,praveen good morning\n"
     ]
    }
   ],
   "source": [
    "greet(\"praveen\")"
   ]
  },
  {
   "cell_type": "code",
   "execution_count": 41,
   "id": "0c4adafc-1b66-440b-bf63-8b8da80372df",
   "metadata": {},
   "outputs": [
    {
     "name": "stdout",
     "output_type": "stream",
     "text": [
      "hello,manjula good morning\n"
     ]
    }
   ],
   "source": [
    "greet(\"manjula\")"
   ]
  },
  {
   "cell_type": "markdown",
   "id": "a7480893-60c3-4451-9bc5-0346adc63ea8",
   "metadata": {},
   "source": [
    "# Filter Function"
   ]
  },
  {
   "cell_type": "code",
   "execution_count": 43,
   "id": "36bb414d-319d-4b0f-a163-be17cb56db5e",
   "metadata": {},
   "outputs": [
    {
     "data": {
      "text/plain": [
       "[12, 14, 4]"
      ]
     },
     "execution_count": 43,
     "metadata": {},
     "output_type": "execute_result"
    }
   ],
   "source": [
    "list_var=[12,11,14,15,4]\n",
    "\n",
    "even_filter=lambda x: x%2==0\n",
    "\n",
    "result=filter(even_filter,list_var)\n",
    "list(result)"
   ]
  },
  {
   "cell_type": "markdown",
   "id": "ae20fe1b-05b0-4e9b-869a-7bc25b7409c5",
   "metadata": {},
   "source": [
    "# Map Function"
   ]
  },
  {
   "cell_type": "code",
   "execution_count": 45,
   "id": "037792eb-798b-45e5-848f-998e3cdf4248",
   "metadata": {},
   "outputs": [
    {
     "data": {
      "text/plain": [
       "[1, 25, 64, 36]"
      ]
     },
     "execution_count": 45,
     "metadata": {},
     "output_type": "execute_result"
    }
   ],
   "source": [
    "num_list=[1,5,8,6]\n",
    "\n",
    "sq_num=lambda i : i*i\n",
    "\n",
    "res=map(sq_num,num_list)\n",
    "list(res)"
   ]
  },
  {
   "cell_type": "code",
   "execution_count": 46,
   "id": "0d8856d2-4680-45f9-aa15-a1582d3199ba",
   "metadata": {},
   "outputs": [
    {
     "data": {
      "text/plain": [
       "['john Thomas', 'deeksha Patil', 'gautam Roa']"
      ]
     },
     "execution_count": 46,
     "metadata": {},
     "output_type": "execute_result"
    }
   ],
   "source": [
    "fname=[\"john \",\"deeksha \",\"gautam \"]\n",
    "lname=[\"Thomas\",\"Patil\",\"Roa\"]\n",
    "\n",
    "concat=lambda x,y:x+y\n",
    "res=map(concat,fname,lname)\n",
    "list(res)"
   ]
  },
  {
   "cell_type": "code",
   "execution_count": 47,
   "id": "1dee9d40-a69e-42b9-b45d-0566fb05a8cd",
   "metadata": {},
   "outputs": [
    {
     "data": {
      "text/plain": [
       "[['j', 'o', 'h', 'n', ' '],\n",
       " ['d', 'e', 'e', 'k', 's', 'h', 'a', ' '],\n",
       " ['g', 'a', 'u', 't', 'a', 'm', ' ']]"
      ]
     },
     "execution_count": 47,
     "metadata": {},
     "output_type": "execute_result"
    }
   ],
   "source": [
    "fname=[\"john \",\"deeksha \",\"gautam \"]\n",
    "res=map(list,fname) # function name can be built in as well\n",
    "list(res)"
   ]
  },
  {
   "cell_type": "code",
   "execution_count": null,
   "id": "14886c2f-41ae-464a-b6cc-645b419a1c1f",
   "metadata": {},
   "outputs": [],
   "source": []
  }
 ],
 "metadata": {
  "kernelspec": {
   "display_name": "Python [conda env:base] *",
   "language": "python",
   "name": "conda-base-py"
  },
  "language_info": {
   "codemirror_mode": {
    "name": "ipython",
    "version": 3
   },
   "file_extension": ".py",
   "mimetype": "text/x-python",
   "name": "python",
   "nbconvert_exporter": "python",
   "pygments_lexer": "ipython3",
   "version": "3.12.7"
  }
 },
 "nbformat": 4,
 "nbformat_minor": 5
}
