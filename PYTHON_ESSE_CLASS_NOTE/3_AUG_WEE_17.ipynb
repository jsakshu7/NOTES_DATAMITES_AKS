{
 "cells": [
  {
   "cell_type": "markdown",
   "id": "57fc7080-fccb-4104-a9c9-8e3c092e03a9",
   "metadata": {},
   "source": [
    "print(\"good evening\")"
   ]
  },
  {
   "cell_type": "code",
   "execution_count": 2,
   "id": "8bef3f23-e6eb-472f-9087-6edb9c711d2a",
   "metadata": {},
   "outputs": [
    {
     "name": "stdout",
     "output_type": "stream",
     "text": [
      "hi..\n"
     ]
    }
   ],
   "source": [
    "print(\"hi..\")"
   ]
  },
  {
   "cell_type": "code",
   "execution_count": 3,
   "id": "76604a42-b8b7-4169-a5bb-f34a1e79e8ee",
   "metadata": {},
   "outputs": [
    {
     "data": {
      "text/plain": [
       "11"
      ]
     },
     "execution_count": 3,
     "metadata": {},
     "output_type": "execute_result"
    }
   ],
   "source": [
    "a=5\n",
    "b=6\n",
    "a+b"
   ]
  },
  {
   "cell_type": "markdown",
   "id": "8aca2287-7074-4831-bf2e-8dff1ca2c051",
   "metadata": {},
   "source": [
    "# Heading"
   ]
  },
  {
   "cell_type": "markdown",
   "id": "4de82009-e3a5-424d-88b3-be057bf70778",
   "metadata": {},
   "source": [
    "### heading 2"
   ]
  },
  {
   "cell_type": "markdown",
   "id": "2fbd7660-646c-4ddf-8ac5-65bcf1f3daa9",
   "metadata": {},
   "source": [
    "# Data Types"
   ]
  },
  {
   "cell_type": "code",
   "execution_count": 4,
   "id": "76bc8809-4f83-49a9-b86b-8b392705e2d6",
   "metadata": {},
   "outputs": [
    {
     "data": {
      "text/plain": [
       "int"
      ]
     },
     "execution_count": 4,
     "metadata": {},
     "output_type": "execute_result"
    }
   ],
   "source": [
    "a=15\n",
    "type(a)"
   ]
  },
  {
   "cell_type": "code",
   "execution_count": 5,
   "id": "a05a353f-c225-4a0e-9ce1-e870ed506b99",
   "metadata": {},
   "outputs": [
    {
     "data": {
      "text/plain": [
       "float"
      ]
     },
     "execution_count": 5,
     "metadata": {},
     "output_type": "execute_result"
    }
   ],
   "source": [
    "b=12.22\n",
    "type(b)"
   ]
  },
  {
   "cell_type": "code",
   "execution_count": 6,
   "id": "06aa2c94-76db-4415-b273-d26f96dcb75f",
   "metadata": {},
   "outputs": [
    {
     "data": {
      "text/plain": [
       "float"
      ]
     },
     "execution_count": 6,
     "metadata": {},
     "output_type": "execute_result"
    }
   ],
   "source": [
    "c=-15.55\n",
    "type(c)"
   ]
  },
  {
   "cell_type": "code",
   "execution_count": 7,
   "id": "1f904649-0105-4d17-98eb-dbe9851ccd36",
   "metadata": {},
   "outputs": [
    {
     "data": {
      "text/plain": [
       "str"
      ]
     },
     "execution_count": 7,
     "metadata": {},
     "output_type": "execute_result"
    }
   ],
   "source": [
    "name=\"Akshatha S\"\n",
    "type(name)"
   ]
  },
  {
   "cell_type": "code",
   "execution_count": 8,
   "id": "3b194bbd-f0f4-4f17-a74f-9b257f54b191",
   "metadata": {},
   "outputs": [
    {
     "data": {
      "text/plain": [
       "bool"
      ]
     },
     "execution_count": 8,
     "metadata": {},
     "output_type": "execute_result"
    }
   ],
   "source": [
    "x=True\n",
    "type(x)"
   ]
  },
  {
   "cell_type": "markdown",
   "id": "f1221f80-b34f-4ced-8c32-828055d3b3c4",
   "metadata": {},
   "source": [
    "# Keywords"
   ]
  },
  {
   "cell_type": "code",
   "execution_count": 10,
   "id": "d0a741d8-d825-4e36-9f62-acf6fb99367e",
   "metadata": {},
   "outputs": [
    {
     "name": "stdout",
     "output_type": "stream",
     "text": [
      "\n",
      "Here is a list of the Python keywords.  Enter any keyword to get more help.\n",
      "\n",
      "False               class               from                or\n",
      "None                continue            global              pass\n",
      "True                def                 if                  raise\n",
      "and                 del                 import              return\n",
      "as                  elif                in                  try\n",
      "assert              else                is                  while\n",
      "async               except              lambda              with\n",
      "await               finally             nonlocal            yield\n",
      "break               for                 not                 \n",
      "\n"
     ]
    }
   ],
   "source": [
    "help(\"keywords\")"
   ]
  },
  {
   "cell_type": "markdown",
   "id": "b6e0f451-5b87-4dee-ab6d-b65b11f61191",
   "metadata": {},
   "source": [
    "## Syntax"
   ]
  },
  {
   "cell_type": "code",
   "execution_count": 11,
   "id": "4eef40de-8c8c-4cdf-9766-e5d46fe2407e",
   "metadata": {},
   "outputs": [
    {
     "ename": "NameError",
     "evalue": "name 'u' is not defined",
     "output_type": "error",
     "traceback": [
      "\u001b[1;31m---------------------------------------------------------------------------\u001b[0m",
      "\u001b[1;31mNameError\u001b[0m                                 Traceback (most recent call last)",
      "Cell \u001b[1;32mIn[11], line 1\u001b[0m\n\u001b[1;32m----> 1\u001b[0m u\u001b[38;5;241m%\u001b[39m\u001b[38;5;241m8\u001b[39m\n",
      "\u001b[1;31mNameError\u001b[0m: name 'u' is not defined"
     ]
    }
   ],
   "source": [
    "u%8"
   ]
  },
  {
   "cell_type": "code",
   "execution_count": 13,
   "id": "72fdc563-343f-4b1c-b4f0-4c872d2d8531",
   "metadata": {},
   "outputs": [
    {
     "data": {
      "text/plain": [
       "int"
      ]
     },
     "execution_count": 13,
     "metadata": {},
     "output_type": "execute_result"
    }
   ],
   "source": [
    "z=200\n",
    "type(z)"
   ]
  },
  {
   "cell_type": "markdown",
   "id": "2df0e397-a4ff-404b-bcac-af3162e2d4eb",
   "metadata": {},
   "source": [
    "# Variable"
   ]
  },
  {
   "cell_type": "code",
   "execution_count": 14,
   "id": "fa0916ad-0eb5-4864-b54a-faaf36eb3abb",
   "metadata": {},
   "outputs": [],
   "source": [
    "user_name=\"peter\""
   ]
  },
  {
   "cell_type": "code",
   "execution_count": 15,
   "id": "1e91a761-ee28-4372-b456-c6580ace4603",
   "metadata": {},
   "outputs": [
    {
     "ename": "SyntaxError",
     "evalue": "invalid decimal literal (4237691251.py, line 1)",
     "output_type": "error",
     "traceback": [
      "\u001b[1;36m  Cell \u001b[1;32mIn[15], line 1\u001b[1;36m\u001b[0m\n\u001b[1;33m    5user_name=\"Girish\"\u001b[0m\n\u001b[1;37m    ^\u001b[0m\n\u001b[1;31mSyntaxError\u001b[0m\u001b[1;31m:\u001b[0m invalid decimal literal\n"
     ]
    }
   ],
   "source": [
    "5user_name=\"Girish\""
   ]
  },
  {
   "cell_type": "raw",
   "id": "c0404870-ea0c-47b2-92e4-e06a70f5d5a4",
   "metadata": {},
   "source": [
    "user$$=55"
   ]
  },
  {
   "cell_type": "code",
   "execution_count": 19,
   "id": "8372649f-ba8c-4559-aa14-a81c9943194a",
   "metadata": {},
   "outputs": [
    {
     "ename": "NameError",
     "evalue": "name 'user' is not defined",
     "output_type": "error",
     "traceback": [
      "\u001b[1;31m---------------------------------------------------------------------------\u001b[0m",
      "\u001b[1;31mNameError\u001b[0m                                 Traceback (most recent call last)",
      "Cell \u001b[1;32mIn[19], line 1\u001b[0m\n\u001b[1;32m----> 1\u001b[0m user\u001b[38;5;241m.\u001b[39mname\u001b[38;5;241m=\u001b[39m\u001b[38;5;124m\"\u001b[39m\u001b[38;5;124maksh\u001b[39m\u001b[38;5;124m\"\u001b[39m\n",
      "\u001b[1;31mNameError\u001b[0m: name 'user' is not defined"
     ]
    }
   ],
   "source": [
    "user.name=\"aksh\""
   ]
  },
  {
   "cell_type": "markdown",
   "id": "1e4c6e89-c117-40eb-9c43-b95bc0de18f2",
   "metadata": {},
   "source": [
    "# print function"
   ]
  },
  {
   "cell_type": "code",
   "execution_count": 20,
   "id": "2ae306df-f533-40c6-aa27-8ff399dcb8af",
   "metadata": {},
   "outputs": [
    {
     "name": "stdout",
     "output_type": "stream",
     "text": [
      "this is pyf class\n"
     ]
    }
   ],
   "source": [
    "print(\"this is pyf class\")"
   ]
  },
  {
   "cell_type": "code",
   "execution_count": 21,
   "id": "3062fa39-36be-4e4b-9442-a08733e945cc",
   "metadata": {},
   "outputs": [
    {
     "name": "stdout",
     "output_type": "stream",
     "text": [
      "sfgutue ete8o5e39p5 w6162757395839p`0qe9fhjf\n"
     ]
    }
   ],
   "source": [
    "print(\"sfgutue ete8o5e39p5 w6162757395839p`0qe9fhjf\")"
   ]
  },
  {
   "cell_type": "code",
   "execution_count": 23,
   "id": "1abc242f-eb46-4c1b-9759-eb125a58b425",
   "metadata": {},
   "outputs": [
    {
     "name": "stdout",
     "output_type": "stream",
     "text": [
      "hello good morning\n"
     ]
    }
   ],
   "source": [
    "print(\"hello good morning\")"
   ]
  },
  {
   "cell_type": "code",
   "execution_count": 26,
   "id": "a69c0d11-1b2d-4d39-86f5-8edaeb94694a",
   "metadata": {},
   "outputs": [
    {
     "name": "stdout",
     "output_type": "stream",
     "text": [
      "result 22\n"
     ]
    }
   ],
   "source": [
    "num1=12\n",
    "num2=10\n",
    "result=num1+num2\n",
    "print(\"result\",result)"
   ]
  },
  {
   "cell_type": "code",
   "execution_count": 27,
   "id": "233237dd-e30f-41eb-b273-36784979bb60",
   "metadata": {},
   "outputs": [
    {
     "name": "stdout",
     "output_type": "stream",
     "text": [
      "p\n"
     ]
    }
   ],
   "source": [
    "print(\"p\")"
   ]
  },
  {
   "cell_type": "code",
   "execution_count": 28,
   "id": "067c8f31-980b-4600-8820-c2268ac8210f",
   "metadata": {},
   "outputs": [
    {
     "ename": "NameError",
     "evalue": "name 'p' is not defined",
     "output_type": "error",
     "traceback": [
      "\u001b[1;31m---------------------------------------------------------------------------\u001b[0m",
      "\u001b[1;31mNameError\u001b[0m                                 Traceback (most recent call last)",
      "Cell \u001b[1;32mIn[28], line 1\u001b[0m\n\u001b[1;32m----> 1\u001b[0m \u001b[38;5;28mprint\u001b[39m(p)\n",
      "\u001b[1;31mNameError\u001b[0m: name 'p' is not defined"
     ]
    }
   ],
   "source": [
    "print(p)"
   ]
  },
  {
   "cell_type": "code",
   "execution_count": 29,
   "id": "f0beba71-159e-4d06-b705-d267fe0ccd5d",
   "metadata": {},
   "outputs": [
    {
     "name": "stdout",
     "output_type": "stream",
     "text": [
      "200\n"
     ]
    }
   ],
   "source": [
    "print(z)"
   ]
  },
  {
   "cell_type": "code",
   "execution_count": 30,
   "id": "dfd54036-02d0-460d-b917-05fb1074e880",
   "metadata": {},
   "outputs": [
    {
     "name": "stdout",
     "output_type": "stream",
     "text": [
      "Akshatha S\n"
     ]
    }
   ],
   "source": [
    "print(name)"
   ]
  },
  {
   "cell_type": "code",
   "execution_count": 31,
   "id": "f95e1967-cdb5-4a67-bf6c-83e1473b2209",
   "metadata": {},
   "outputs": [
    {
     "name": "stdout",
     "output_type": "stream",
     "text": [
      "15\n"
     ]
    }
   ],
   "source": [
    "print(a)"
   ]
  },
  {
   "cell_type": "code",
   "execution_count": 32,
   "id": "a776583d-ceef-402c-8f94-6c5475dba709",
   "metadata": {},
   "outputs": [
    {
     "ename": "NameError",
     "evalue": "name 'fname' is not defined",
     "output_type": "error",
     "traceback": [
      "\u001b[1;31m---------------------------------------------------------------------------\u001b[0m",
      "\u001b[1;31mNameError\u001b[0m                                 Traceback (most recent call last)",
      "Cell \u001b[1;32mIn[32], line 1\u001b[0m\n\u001b[1;32m----> 1\u001b[0m \u001b[38;5;28mprint\u001b[39m(fname)\n",
      "\u001b[1;31mNameError\u001b[0m: name 'fname' is not defined"
     ]
    }
   ],
   "source": [
    "print(fname)"
   ]
  },
  {
   "cell_type": "code",
   "execution_count": 33,
   "id": "e2052f5c-930d-4544-9996-121a9909e7fc",
   "metadata": {},
   "outputs": [
    {
     "name": "stdout",
     "output_type": "stream",
     "text": [
      "Gracy\n"
     ]
    }
   ],
   "source": [
    "name=\"Gracy\"\n",
    "print(name)"
   ]
  },
  {
   "cell_type": "code",
   "execution_count": 34,
   "id": "a1c3fbce-4a6c-468d-b858-7071b68e3b50",
   "metadata": {},
   "outputs": [
    {
     "name": "stdout",
     "output_type": "stream",
     "text": [
      "my name is  Gracy\n"
     ]
    }
   ],
   "source": [
    "print(\"my name is \",name)"
   ]
  },
  {
   "cell_type": "code",
   "execution_count": 37,
   "id": "4eccd3f9-00ab-4004-b216-35c9cc31fbb3",
   "metadata": {},
   "outputs": [],
   "source": [
    "course=\"CDS\""
   ]
  },
  {
   "cell_type": "code",
   "execution_count": 35,
   "id": "35e6a82f-8860-4666-b072-5290f458ecfd",
   "metadata": {},
   "outputs": [],
   "source": [
    "course=\"CDA\""
   ]
  },
  {
   "cell_type": "code",
   "execution_count": 36,
   "id": "6a611e75-9db0-45f6-9184-8d12232ef8e2",
   "metadata": {},
   "outputs": [
    {
     "name": "stdout",
     "output_type": "stream",
     "text": [
      "CDA\n"
     ]
    }
   ],
   "source": [
    "print(course)"
   ]
  },
  {
   "cell_type": "code",
   "execution_count": 38,
   "id": "613f991f-380a-44cf-8e5e-a8881b2422bf",
   "metadata": {},
   "outputs": [
    {
     "name": "stdout",
     "output_type": "stream",
     "text": [
      "CDS\n"
     ]
    }
   ],
   "source": [
    "print(course)"
   ]
  },
  {
   "cell_type": "markdown",
   "id": "e02e7a5b-24f9-43b0-936d-96133fcb04a6",
   "metadata": {},
   "source": [
    "## print statement"
   ]
  },
  {
   "cell_type": "code",
   "execution_count": 42,
   "id": "ccf3f539-0056-4b89-b64c-e635dd54c90e",
   "metadata": {},
   "outputs": [
    {
     "name": "stdout",
     "output_type": "stream",
     "text": [
      "my name is  peter and i'm from Austraila\n"
     ]
    }
   ],
   "source": [
    "fname=\"peter\"\n",
    "city=\"Austraila\"\n",
    "print(\"my name is \",fname,\"and i'm from\",city)"
   ]
  },
  {
   "cell_type": "code",
   "execution_count": 41,
   "id": "a754443e-398b-492f-b2dc-2779ac45441e",
   "metadata": {},
   "outputs": [
    {
     "name": "stdout",
     "output_type": "stream",
     "text": [
      "my name is peter and im from Austraila\n"
     ]
    }
   ],
   "source": [
    "print(f'my name is {fname} and im from {city}')"
   ]
  },
  {
   "cell_type": "markdown",
   "id": "0d9f86cb-77c1-4d56-912a-31eb46f8d106",
   "metadata": {},
   "source": [
    "## Input function"
   ]
  },
  {
   "cell_type": "code",
   "execution_count": 43,
   "id": "dd831015-2f8d-4d36-886c-a94cd88d119c",
   "metadata": {},
   "outputs": [
    {
     "name": "stdin",
     "output_type": "stream",
     "text": [
      "enter the value of a 100\n",
      "enter the value of b 200\n"
     ]
    },
    {
     "name": "stdout",
     "output_type": "stream",
     "text": [
      "100 <class 'str'>\n",
      "200 <class 'str'>\n"
     ]
    }
   ],
   "source": [
    "a=input(\"enter the value of a\")\n",
    "b=input(\"enter the value of b\")\n",
    "print(a,type(a))\n",
    "print(b,type(b))"
   ]
  },
  {
   "cell_type": "code",
   "execution_count": 44,
   "id": "4185259c-cbed-4495-b0f3-3ff5c79ac022",
   "metadata": {},
   "outputs": [
    {
     "name": "stdin",
     "output_type": "stream",
     "text": [
      "enter the user name rohit\n",
      "enter the password 123$\n"
     ]
    },
    {
     "name": "stdout",
     "output_type": "stream",
     "text": [
      "rohit <class 'str'>\n",
      "123$ <class 'str'>\n"
     ]
    }
   ],
   "source": [
    "user_name=input(\"enter the user name\")\n",
    "password=input(\"enter the password\")\n",
    "print(user_name,type(user_name))\n",
    "print(password,type(password))"
   ]
  },
  {
   "cell_type": "markdown",
   "id": "eba9f848-e83d-42d6-a01f-7b10063c24cd",
   "metadata": {},
   "source": [
    "## Comments"
   ]
  },
  {
   "cell_type": "markdown",
   "id": "efb8d502-1893-4c1f-a0e1-b88e9f20f73d",
   "metadata": {},
   "source": [
    "- comments are non excuteable code.\n",
    "- To Explain a codes"
   ]
  },
  {
   "cell_type": "markdown",
   "id": "11362318-06de-428c-91b5-885dac69a6a6",
   "metadata": {},
   "source": [
    "### Single line comments"
   ]
  },
  {
   "cell_type": "code",
   "execution_count": 47,
   "id": "f3f0c4f0-7485-450e-9a98-06f5cd796cc8",
   "metadata": {},
   "outputs": [],
   "source": [
    "# fruit and animals are  variables\n",
    "# apple and elephant are the value\n",
    "# 99999999999999999999999999999999999999999999999999999\n",
    "fruit,animal=\"apple\",\"elephant\""
   ]
  },
  {
   "cell_type": "code",
   "execution_count": 48,
   "id": "96b74fc2-294f-4fbc-9946-8ed0c436c497",
   "metadata": {},
   "outputs": [
    {
     "data": {
      "text/plain": [
       "False"
      ]
     },
     "execution_count": 48,
     "metadata": {},
     "output_type": "execute_result"
    }
   ],
   "source": [
    "\"BANGALORE\".endswith(\"B\") # \"bangalore\" is data and endwith is function"
   ]
  },
  {
   "cell_type": "markdown",
   "id": "84768301-70d0-43c8-945e-8a6053292456",
   "metadata": {},
   "source": [
    "### Multiline comments"
   ]
  },
  {
   "cell_type": "code",
   "execution_count": 50,
   "id": "9fff5eb0-6154-4ded-a22d-3d1b73e1e536",
   "metadata": {},
   "outputs": [
    {
     "name": "stdout",
     "output_type": "stream",
     "text": [
      "hello\n"
     ]
    }
   ],
   "source": [
    "\"\"\" line 1\n",
    "line 2\n",
    "line 3\n",
    "line 4\"\"\"\n",
    "print(\"hello\")\n",
    "\n"
   ]
  },
  {
   "cell_type": "markdown",
   "id": "6abafb53-d752-4e78-a6db-3e31b5c964c7",
   "metadata": {},
   "source": [
    "# Assignments"
   ]
  },
  {
   "cell_type": "code",
   "execution_count": 51,
   "id": "668cf38c-fd67-4109-a368-c7f923ee19df",
   "metadata": {},
   "outputs": [
    {
     "name": "stdout",
     "output_type": "stream",
     "text": [
      "the value of fruit apple\n",
      "the value of animal elephant\n"
     ]
    }
   ],
   "source": [
    "fruit,animal=\"apple\",\"elephant\"\n",
    "print(\"the value of fruit\",fruit)\n",
    "print(\"the value of animal\",animal)"
   ]
  },
  {
   "cell_type": "code",
   "execution_count": 52,
   "id": "ebb16d53-7fbb-45ec-9885-19ee216a3443",
   "metadata": {},
   "outputs": [
    {
     "name": "stdout",
     "output_type": "stream",
     "text": [
      "100 100 100\n"
     ]
    }
   ],
   "source": [
    "x=y=z=100\n",
    "print(x,y,z)"
   ]
  },
  {
   "cell_type": "markdown",
   "id": "44bd544d-ef78-41ff-b6aa-084d4bb5c7fe",
   "metadata": {},
   "source": [
    "## 1.Boolean"
   ]
  },
  {
   "cell_type": "code",
   "execution_count": 53,
   "id": "85c36766-ca29-418f-b183-88e8910bcef6",
   "metadata": {},
   "outputs": [
    {
     "name": "stdout",
     "output_type": "stream",
     "text": [
      "<class 'bool'> <class 'bool'>\n"
     ]
    }
   ],
   "source": [
    "i=True\n",
    "j=False\n",
    "print(type(i),type(j))"
   ]
  },
  {
   "cell_type": "code",
   "execution_count": 54,
   "id": "ab41cc97-2890-4227-92b7-d05ce805bc98",
   "metadata": {},
   "outputs": [
    {
     "data": {
      "text/plain": [
       "False"
      ]
     },
     "execution_count": 54,
     "metadata": {},
     "output_type": "execute_result"
    }
   ],
   "source": [
    "bool(0) # bool(0)--always returns false"
   ]
  },
  {
   "cell_type": "code",
   "execution_count": 55,
   "id": "b0c5b83a-dad7-43b6-8435-213be9548ea5",
   "metadata": {},
   "outputs": [
    {
     "data": {
      "text/plain": [
       "True"
      ]
     },
     "execution_count": 55,
     "metadata": {},
     "output_type": "execute_result"
    }
   ],
   "source": [
    "bool(1) # bool(int)-- true."
   ]
  },
  {
   "cell_type": "code",
   "execution_count": 56,
   "id": "cd0e1f4a-2219-48fe-9b8d-edcdedabdb5b",
   "metadata": {},
   "outputs": [
    {
     "data": {
      "text/plain": [
       "True"
      ]
     },
     "execution_count": 56,
     "metadata": {},
     "output_type": "execute_result"
    }
   ],
   "source": [
    "bool(-20)"
   ]
  },
  {
   "cell_type": "code",
   "execution_count": 57,
   "id": "f27e5818-b648-4991-b386-0f623c887160",
   "metadata": {},
   "outputs": [
    {
     "data": {
      "text/plain": [
       "True"
      ]
     },
     "execution_count": 57,
     "metadata": {},
     "output_type": "execute_result"
    }
   ],
   "source": [
    "bool(50)"
   ]
  },
  {
   "cell_type": "code",
   "execution_count": 58,
   "id": "47aa0c9a-7253-4a14-a0ec-b777bb8cbbb2",
   "metadata": {},
   "outputs": [
    {
     "data": {
      "text/plain": [
       "False"
      ]
     },
     "execution_count": 58,
     "metadata": {},
     "output_type": "execute_result"
    }
   ],
   "source": [
    "bool(0.0)"
   ]
  },
  {
   "cell_type": "code",
   "execution_count": 59,
   "id": "6374a657-647e-4c32-925e-6adf5f6cfa9f",
   "metadata": {},
   "outputs": [
    {
     "data": {
      "text/plain": [
       "True"
      ]
     },
     "execution_count": 59,
     "metadata": {},
     "output_type": "execute_result"
    }
   ],
   "source": [
    "bool(12.5)"
   ]
  },
  {
   "cell_type": "code",
   "execution_count": 60,
   "id": "2df4fb1f-2016-4067-8b84-e180f48e441d",
   "metadata": {},
   "outputs": [
    {
     "data": {
      "text/plain": [
       "False"
      ]
     },
     "execution_count": 60,
     "metadata": {},
     "output_type": "execute_result"
    }
   ],
   "source": [
    "bool(\"\") # empty string always returns false"
   ]
  },
  {
   "cell_type": "code",
   "execution_count": 61,
   "id": "6beaaf07-2f40-41d1-9a7f-175a58321ce2",
   "metadata": {},
   "outputs": [
    {
     "data": {
      "text/plain": [
       "True"
      ]
     },
     "execution_count": 61,
     "metadata": {},
     "output_type": "execute_result"
    }
   ],
   "source": [
    "bool(\"thomas\")"
   ]
  },
  {
   "cell_type": "code",
   "execution_count": 62,
   "id": "4152a26a-6263-481e-81e7-b14cba33853e",
   "metadata": {},
   "outputs": [
    {
     "data": {
      "text/plain": [
       "True"
      ]
     },
     "execution_count": 62,
     "metadata": {},
     "output_type": "execute_result"
    }
   ],
   "source": [
    "bool(True)"
   ]
  },
  {
   "cell_type": "code",
   "execution_count": 63,
   "id": "8f362020-b139-4671-ab5c-4d80099a9e14",
   "metadata": {},
   "outputs": [
    {
     "data": {
      "text/plain": [
       "False"
      ]
     },
     "execution_count": 63,
     "metadata": {},
     "output_type": "execute_result"
    }
   ],
   "source": [
    "bool(False)"
   ]
  },
  {
   "cell_type": "code",
   "execution_count": 71,
   "id": "fc11bd52-fe60-46e1-a7f6-268e10244550",
   "metadata": {},
   "outputs": [],
   "source": [
    "# Calling a var or function"
   ]
  },
  {
   "cell_type": "code",
   "execution_count": 81,
   "id": "81473bbc-fefc-4ba6-b69a-9a653ee7364d",
   "metadata": {},
   "outputs": [
    {
     "name": "stdout",
     "output_type": "stream",
     "text": [
      "25\n",
      "F\n"
     ]
    },
    {
     "data": {
      "text/plain": [
       "int"
      ]
     },
     "execution_count": 81,
     "metadata": {},
     "output_type": "execute_result"
    }
   ],
   "source": [
    "num1=25\n",
    "gender=\"F\"\n",
    "print(num1)\n",
    "print(gender)\n",
    "type(num1)"
   ]
  },
  {
   "cell_type": "code",
   "execution_count": 79,
   "id": "46576bee-1846-4fa8-be08-25bbd93d6a32",
   "metadata": {},
   "outputs": [
    {
     "data": {
      "text/plain": [
       "str"
      ]
     },
     "execution_count": 79,
     "metadata": {},
     "output_type": "execute_result"
    }
   ],
   "source": [
    "type(gender)"
   ]
  },
  {
   "cell_type": "code",
   "execution_count": 77,
   "id": "69cf6219-2298-4354-9a06-bea6872defa9",
   "metadata": {},
   "outputs": [
    {
     "data": {
      "text/plain": [
       "25"
      ]
     },
     "execution_count": 77,
     "metadata": {},
     "output_type": "execute_result"
    }
   ],
   "source": [
    "num1"
   ]
  },
  {
   "cell_type": "code",
   "execution_count": 75,
   "id": "2a181b8a-ed60-4784-9267-1e815e82f0f6",
   "metadata": {},
   "outputs": [
    {
     "data": {
      "text/plain": [
       "25"
      ]
     },
     "execution_count": 75,
     "metadata": {},
     "output_type": "execute_result"
    }
   ],
   "source": [
    "num1"
   ]
  },
  {
   "cell_type": "code",
   "execution_count": null,
   "id": "e4f92928-7b44-4e44-9ffa-2d9299c7d174",
   "metadata": {},
   "outputs": [],
   "source": []
  },
  {
   "cell_type": "markdown",
   "id": "837c3089-83f4-49d8-b6b5-5949203f1325",
   "metadata": {},
   "source": [
    "# Strings"
   ]
  },
  {
   "cell_type": "code",
   "execution_count": 1,
   "id": "53eb6563-51fc-4094-a600-cef347be7fc5",
   "metadata": {},
   "outputs": [],
   "source": [
    "str_var1=\"laptop\"\n",
    "str_var2='mobile'"
   ]
  },
  {
   "cell_type": "code",
   "execution_count": 2,
   "id": "38dd4fc5-2f78-44a1-b3e0-7597d5d11543",
   "metadata": {},
   "outputs": [
    {
     "data": {
      "text/plain": [
       "str"
      ]
     },
     "execution_count": 2,
     "metadata": {},
     "output_type": "execute_result"
    }
   ],
   "source": [
    "type(str_var1)"
   ]
  },
  {
   "cell_type": "code",
   "execution_count": 3,
   "id": "a3fa9c13-dd07-4515-a40b-88332bb80783",
   "metadata": {},
   "outputs": [
    {
     "data": {
      "text/plain": [
       "str"
      ]
     },
     "execution_count": 3,
     "metadata": {},
     "output_type": "execute_result"
    }
   ],
   "source": [
    "type(str_var2)"
   ]
  },
  {
   "cell_type": "markdown",
   "id": "9ea5fff8-81a2-49d7-b92b-561bc5eb5e76",
   "metadata": {},
   "source": [
    "### String Operations"
   ]
  },
  {
   "cell_type": "markdown",
   "id": "2815ac03-5e21-4f3c-ac87-085bd090bd1a",
   "metadata": {},
   "source": [
    "### Conactination"
   ]
  },
  {
   "cell_type": "code",
   "execution_count": 70,
   "id": "767b7752-8c12-4dff-9cd9-b6a319d2c36b",
   "metadata": {},
   "outputs": [
    {
     "name": "stdout",
     "output_type": "stream",
     "text": [
      "Peter k\n"
     ]
    }
   ],
   "source": [
    "fname=\"Peter \"\n",
    "lname=\"k\"\n",
    "print(fname+lname) # joining of two strings--concatinations"
   ]
  },
  {
   "cell_type": "markdown",
   "id": "19d52540-759b-4f00-8fbd-8f57872fd564",
   "metadata": {},
   "source": [
    "### Repeaters"
   ]
  },
  {
   "cell_type": "code",
   "execution_count": 87,
   "id": "f2c9d234-949b-435c-8901-58243bf50a73",
   "metadata": {},
   "outputs": [
    {
     "data": {
      "text/plain": [
       "'Peter Peter Peter Peter Peter Peter Peter Peter Peter Peter '"
      ]
     },
     "execution_count": 87,
     "metadata": {},
     "output_type": "execute_result"
    }
   ],
   "source": [
    "fname*10"
   ]
  },
  {
   "cell_type": "markdown",
   "id": "f15e1c2a-6266-497f-8c61-ad2a2c27ad3a",
   "metadata": {},
   "source": [
    "### Membership operator"
   ]
  },
  {
   "cell_type": "code",
   "execution_count": 89,
   "id": "486a3c0b-7bc8-4613-bd20-015d76624bff",
   "metadata": {},
   "outputs": [
    {
     "data": {
      "text/plain": [
       "False"
      ]
     },
     "execution_count": 89,
     "metadata": {},
     "output_type": "execute_result"
    }
   ],
   "source": [
    "\"p\" in fname"
   ]
  },
  {
   "cell_type": "code",
   "execution_count": 90,
   "id": "7c7de811-7c00-44b4-ac91-6cb1ec7a00ad",
   "metadata": {},
   "outputs": [
    {
     "data": {
      "text/plain": [
       "True"
      ]
     },
     "execution_count": 90,
     "metadata": {},
     "output_type": "execute_result"
    }
   ],
   "source": [
    "\"P\" in fname"
   ]
  },
  {
   "cell_type": "code",
   "execution_count": 91,
   "id": "a1f32906-53f7-48e6-b5a1-5b18043cd93c",
   "metadata": {},
   "outputs": [
    {
     "data": {
      "text/plain": [
       "False"
      ]
     },
     "execution_count": 91,
     "metadata": {},
     "output_type": "execute_result"
    }
   ],
   "source": [
    "\"z\" in fname"
   ]
  },
  {
   "cell_type": "code",
   "execution_count": 93,
   "id": "1431de6f-834f-43ee-ba1d-78816a038d13",
   "metadata": {},
   "outputs": [
    {
     "data": {
      "text/plain": [
       "False"
      ]
     },
     "execution_count": 93,
     "metadata": {},
     "output_type": "execute_result"
    }
   ],
   "source": [
    "\"tr\" in fname # sequence of char"
   ]
  },
  {
   "cell_type": "code",
   "execution_count": 94,
   "id": "7820f7aa-081d-412c-bba4-41ed1deab408",
   "metadata": {},
   "outputs": [
    {
     "data": {
      "text/plain": [
       "True"
      ]
     },
     "execution_count": 94,
     "metadata": {},
     "output_type": "execute_result"
    }
   ],
   "source": [
    "\"f\" not in fname"
   ]
  },
  {
   "cell_type": "markdown",
   "id": "2092a8c3-ce22-45b2-9aa6-3f213d054656",
   "metadata": {},
   "source": [
    "#### Indexing"
   ]
  },
  {
   "cell_type": "code",
   "execution_count": 98,
   "id": "54942c52-345e-4f17-bfe2-7fe7841a701b",
   "metadata": {},
   "outputs": [],
   "source": [
    "name=\"AKSHATHA S\""
   ]
  },
  {
   "cell_type": "code",
   "execution_count": 99,
   "id": "da411cc0-f353-439f-a9e9-4cce451269b9",
   "metadata": {},
   "outputs": [
    {
     "data": {
      "text/plain": [
       "'A'"
      ]
     },
     "execution_count": 99,
     "metadata": {},
     "output_type": "execute_result"
    }
   ],
   "source": [
    "name[0]"
   ]
  },
  {
   "cell_type": "code",
   "execution_count": 100,
   "id": "391d94ab-d509-4d4e-9500-7d34a814426b",
   "metadata": {},
   "outputs": [
    {
     "data": {
      "text/plain": [
       "'S'"
      ]
     },
     "execution_count": 100,
     "metadata": {},
     "output_type": "execute_result"
    }
   ],
   "source": [
    "name[2]"
   ]
  },
  {
   "cell_type": "code",
   "execution_count": 101,
   "id": "f8d5643a-dbf3-463d-a7eb-1baa5028cbd8",
   "metadata": {},
   "outputs": [
    {
     "ename": "IndexError",
     "evalue": "string index out of range",
     "output_type": "error",
     "traceback": [
      "\u001b[1;31m---------------------------------------------------------------------------\u001b[0m",
      "\u001b[1;31mIndexError\u001b[0m                                Traceback (most recent call last)",
      "Cell \u001b[1;32mIn[101], line 1\u001b[0m\n\u001b[1;32m----> 1\u001b[0m name[\u001b[38;5;241m15\u001b[39m]\n",
      "\u001b[1;31mIndexError\u001b[0m: string index out of range"
     ]
    }
   ],
   "source": [
    "name[15]"
   ]
  },
  {
   "cell_type": "markdown",
   "id": "53a01065-0e11-41bc-a811-885b909a5d0b",
   "metadata": {},
   "source": [
    "## String Indexing"
   ]
  },
  {
   "cell_type": "code",
   "execution_count": 4,
   "id": "5e050cfc-218f-4a52-af83-e556a7358a9f",
   "metadata": {},
   "outputs": [],
   "source": [
    "str1=\"HELLO PYTHON\""
   ]
  },
  {
   "cell_type": "code",
   "execution_count": 5,
   "id": "e0ee4317-832a-4381-9f36-c5463a96cfb8",
   "metadata": {},
   "outputs": [
    {
     "data": {
      "text/plain": [
       "' '"
      ]
     },
     "execution_count": 5,
     "metadata": {},
     "output_type": "execute_result"
    }
   ],
   "source": [
    "str1[5] # Accessing an element having an index value 5"
   ]
  },
  {
   "cell_type": "code",
   "execution_count": 6,
   "id": "e9b55f5b-1520-4a79-851d-ba74f2dd7831",
   "metadata": {},
   "outputs": [
    {
     "data": {
      "text/plain": [
       "'P'"
      ]
     },
     "execution_count": 6,
     "metadata": {},
     "output_type": "execute_result"
    }
   ],
   "source": [
    "str1[6]"
   ]
  },
  {
   "cell_type": "code",
   "execution_count": 8,
   "id": "3bb51e94-f9cc-4fcd-b18e-df5302e81b98",
   "metadata": {},
   "outputs": [
    {
     "data": {
      "text/plain": [
       "'H'"
      ]
     },
     "execution_count": 8,
     "metadata": {},
     "output_type": "execute_result"
    }
   ],
   "source": [
    "str1[-3] # Accessing last third character"
   ]
  },
  {
   "cell_type": "code",
   "execution_count": 9,
   "id": "1d323409-0e9d-4c3b-829d-40572a76485e",
   "metadata": {},
   "outputs": [
    {
     "data": {
      "text/plain": [
       "'Y'"
      ]
     },
     "execution_count": 9,
     "metadata": {},
     "output_type": "execute_result"
    }
   ],
   "source": [
    "str1[-5]"
   ]
  },
  {
   "cell_type": "code",
   "execution_count": 10,
   "id": "676a8804-da2a-46ff-b1ab-4abaaff5ee70",
   "metadata": {},
   "outputs": [
    {
     "ename": "IndexError",
     "evalue": "string index out of range",
     "output_type": "error",
     "traceback": [
      "\u001b[1;31m---------------------------------------------------------------------------\u001b[0m",
      "\u001b[1;31mIndexError\u001b[0m                                Traceback (most recent call last)",
      "Cell \u001b[1;32mIn[10], line 1\u001b[0m\n\u001b[1;32m----> 1\u001b[0m str1[\u001b[38;5;241m15\u001b[39m]\n",
      "\u001b[1;31mIndexError\u001b[0m: string index out of range"
     ]
    }
   ],
   "source": [
    "str1"
   ]
  },
  {
   "cell_type": "markdown",
   "id": "35ad8c90-eaef-49f6-9c80-85956fcada51",
   "metadata": {},
   "source": [
    "### String Slicing"
   ]
  },
  {
   "cell_type": "code",
   "execution_count": 19,
   "id": "dc04a420-d851-427e-a394-22724824ce5a",
   "metadata": {},
   "outputs": [],
   "source": [
    "str1=\"HELLO PYTHON\""
   ]
  },
  {
   "cell_type": "code",
   "execution_count": 13,
   "id": "42f47d82-7cfc-471a-8aec-083d0ac869e6",
   "metadata": {},
   "outputs": [
    {
     "data": {
      "text/plain": [
       "'HELLO PYHTON'"
      ]
     },
     "execution_count": 13,
     "metadata": {},
     "output_type": "execute_result"
    }
   ],
   "source": [
    "str1[::]# default values start value is zero and stop :upto end of the string"
   ]
  },
  {
   "cell_type": "code",
   "execution_count": 14,
   "id": "83d2a41f-8821-4b2a-87c5-64be8a537e80",
   "metadata": {},
   "outputs": [
    {
     "data": {
      "text/plain": [
       "'HELLO PY'"
      ]
     },
     "execution_count": 14,
     "metadata": {},
     "output_type": "execute_result"
    }
   ],
   "source": [
    "str1[:8] # starts fro 0 index value and ends at 7th index(because 8 index is excluded)"
   ]
  },
  {
   "cell_type": "code",
   "execution_count": 15,
   "id": "eaa7130a-25a6-48f9-ab92-6a385b522f37",
   "metadata": {},
   "outputs": [
    {
     "data": {
      "text/plain": [
       "'HELL'"
      ]
     },
     "execution_count": 15,
     "metadata": {},
     "output_type": "execute_result"
    }
   ],
   "source": [
    "str1[0:4]"
   ]
  },
  {
   "cell_type": "code",
   "execution_count": 16,
   "id": "0506d8e2-e44a-48b2-8bf3-3ebce49918c7",
   "metadata": {},
   "outputs": [
    {
     "data": {
      "text/plain": [
       "'ELLO '"
      ]
     },
     "execution_count": 16,
     "metadata": {},
     "output_type": "execute_result"
    }
   ],
   "source": [
    "str1[1:6]"
   ]
  },
  {
   "cell_type": "code",
   "execution_count": 21,
   "id": "87c4003b-a125-4a59-9f12-d56efd07eadb",
   "metadata": {},
   "outputs": [
    {
     "data": {
      "text/plain": [
       "'YTH'"
      ]
     },
     "execution_count": 21,
     "metadata": {},
     "output_type": "execute_result"
    }
   ],
   "source": [
    "str1[-5:-2] # -5 TO -3 ,AND -2 IS EXCLUDED"
   ]
  },
  {
   "cell_type": "code",
   "execution_count": 22,
   "id": "0b20d179-443e-48dd-a774-74a923daeec4",
   "metadata": {},
   "outputs": [
    {
     "data": {
      "text/plain": [
       "'HELLO PYTH'"
      ]
     },
     "execution_count": 22,
     "metadata": {},
     "output_type": "execute_result"
    }
   ],
   "source": [
    "str1[0:10:1]"
   ]
  },
  {
   "cell_type": "code",
   "execution_count": 23,
   "id": "12d8d244-6b5f-4727-b176-957dfeb81958",
   "metadata": {},
   "outputs": [
    {
     "data": {
      "text/plain": [
       "'HLOPT'"
      ]
     },
     "execution_count": 23,
     "metadata": {},
     "output_type": "execute_result"
    }
   ],
   "source": [
    "str1[0:10:2]"
   ]
  },
  {
   "cell_type": "code",
   "execution_count": 24,
   "id": "7b1eb3cc-72d4-4cff-beeb-272ac5b2043b",
   "metadata": {},
   "outputs": [
    {
     "data": {
      "text/plain": [
       "'HLPH'"
      ]
     },
     "execution_count": 24,
     "metadata": {},
     "output_type": "execute_result"
    }
   ],
   "source": [
    "str1[0:12:3]"
   ]
  },
  {
   "cell_type": "code",
   "execution_count": 26,
   "id": "953ec42d-1de5-4cde-ab63-cfbb5423e5e3",
   "metadata": {},
   "outputs": [
    {
     "data": {
      "text/plain": [
       "'NOHTYP OLLEH'"
      ]
     },
     "execution_count": 26,
     "metadata": {},
     "output_type": "execute_result"
    }
   ],
   "source": [
    "str1[::-1] # reverse order"
   ]
  },
  {
   "cell_type": "code",
   "execution_count": 28,
   "id": "83ff1b37-14c9-4916-b94c-1e807f0dadc8",
   "metadata": {},
   "outputs": [
    {
     "data": {
      "text/plain": [
       "' OLL'"
      ]
     },
     "execution_count": 28,
     "metadata": {},
     "output_type": "execute_result"
    }
   ],
   "source": [
    "str1[5:1:-1]"
   ]
  },
  {
   "cell_type": "code",
   "execution_count": 36,
   "id": "b9fe375a-ecfa-4d65-83b1-db209cb75368",
   "metadata": {},
   "outputs": [
    {
     "ename": "TypeError",
     "evalue": "'str' object does not support item assignment",
     "output_type": "error",
     "traceback": [
      "\u001b[1;31m---------------------------------------------------------------------------\u001b[0m",
      "\u001b[1;31mTypeError\u001b[0m                                 Traceback (most recent call last)",
      "Cell \u001b[1;32mIn[36], line 1\u001b[0m\n\u001b[1;32m----> 1\u001b[0m str1[\u001b[38;5;241m1\u001b[39m]\u001b[38;5;241m=\u001b[39m\u001b[38;5;124m\"\u001b[39m\u001b[38;5;124mA\u001b[39m\u001b[38;5;124m\"\u001b[39m\n",
      "\u001b[1;31mTypeError\u001b[0m: 'str' object does not support item assignment"
     ]
    }
   ],
   "source": [
    "str1[1]=\"A\" # string is immutable "
   ]
  },
  {
   "cell_type": "markdown",
   "id": "51a174cb-700e-4e50-8131-fbba6f4dc22c",
   "metadata": {},
   "source": [
    "## String Functions"
   ]
  },
  {
   "cell_type": "code",
   "execution_count": 29,
   "id": "553eb3e8-a7c7-4841-88ac-d81cd546d059",
   "metadata": {},
   "outputs": [
    {
     "data": {
      "text/plain": [
       "'HELLO PYTHON'"
      ]
     },
     "execution_count": 29,
     "metadata": {},
     "output_type": "execute_result"
    }
   ],
   "source": [
    "str1"
   ]
  },
  {
   "cell_type": "code",
   "execution_count": 40,
   "id": "69609d14-8a1f-4ce8-b71d-9600c9eea31f",
   "metadata": {},
   "outputs": [],
   "source": [
    "str_lower=str1.lower() # Return a copy of the string converted to lowercase.---instance"
   ]
  },
  {
   "cell_type": "code",
   "execution_count": 41,
   "id": "9e11f496-f039-4e7b-a170-1fd404dc80e5",
   "metadata": {},
   "outputs": [
    {
     "data": {
      "text/plain": [
       "'HELLO PYTHON'"
      ]
     },
     "execution_count": 41,
     "metadata": {},
     "output_type": "execute_result"
    }
   ],
   "source": [
    "str1"
   ]
  },
  {
   "cell_type": "code",
   "execution_count": 42,
   "id": "c7920a0a-0e8b-4c4e-9c41-4b89be23d1c5",
   "metadata": {},
   "outputs": [
    {
     "data": {
      "text/plain": [
       "'hello python'"
      ]
     },
     "execution_count": 42,
     "metadata": {},
     "output_type": "execute_result"
    }
   ],
   "source": [
    "str_lower"
   ]
  },
  {
   "cell_type": "code",
   "execution_count": 43,
   "id": "cc3ab693-96fe-45e3-ba98-cb9e250a324f",
   "metadata": {},
   "outputs": [
    {
     "data": {
      "text/plain": [
       "'Hello python'"
      ]
     },
     "execution_count": 43,
     "metadata": {},
     "output_type": "execute_result"
    }
   ],
   "source": [
    "str1.capitalize() # make the first character have upper case and the rest lower"
   ]
  },
  {
   "cell_type": "code",
   "execution_count": 44,
   "id": "2cd0ef56-d23c-43e7-bfbc-a917f35de81b",
   "metadata": {},
   "outputs": [
    {
     "data": {
      "text/plain": [
       "'HELLO PYTHON'"
      ]
     },
     "execution_count": 44,
     "metadata": {},
     "output_type": "execute_result"
    }
   ],
   "source": [
    "str1.upper()"
   ]
  },
  {
   "cell_type": "code",
   "execution_count": 45,
   "id": "c895e9d5-f252-4619-b783-755059eb4803",
   "metadata": {},
   "outputs": [
    {
     "data": {
      "text/plain": [
       "True"
      ]
     },
     "execution_count": 45,
     "metadata": {},
     "output_type": "execute_result"
    }
   ],
   "source": [
    "str1.startswith(\"H\") #Return True if str1 starts with the \"H\", False otherwise."
   ]
  },
  {
   "cell_type": "code",
   "execution_count": 46,
   "id": "568891df-3cbf-4477-9c90-dd39a6a85d3a",
   "metadata": {},
   "outputs": [
    {
     "data": {
      "text/plain": [
       "False"
      ]
     },
     "execution_count": 46,
     "metadata": {},
     "output_type": "execute_result"
    }
   ],
   "source": [
    "str1.startswith(\"T\")"
   ]
  },
  {
   "cell_type": "code",
   "execution_count": 50,
   "id": "3e9510c6-07ea-4b8c-873c-802c5ca286b4",
   "metadata": {},
   "outputs": [
    {
     "data": {
      "text/plain": [
       "'         Ronik         '"
      ]
     },
     "execution_count": 50,
     "metadata": {},
     "output_type": "execute_result"
    }
   ],
   "source": [
    "str2=\"         Ronik         \"\n",
    "str2"
   ]
  },
  {
   "cell_type": "code",
   "execution_count": 51,
   "id": "5a6392b5-0743-4abd-964a-fd952d2791a5",
   "metadata": {},
   "outputs": [
    {
     "data": {
      "text/plain": [
       "'Ronik'"
      ]
     },
     "execution_count": 51,
     "metadata": {},
     "output_type": "execute_result"
    }
   ],
   "source": [
    "str2.strip() # by default Return a copy of the string with leading and trailing whitespace removed."
   ]
  },
  {
   "cell_type": "code",
   "execution_count": 52,
   "id": "81ae9c6a-d909-4f2c-8d85-1b97e57b898e",
   "metadata": {},
   "outputs": [
    {
     "data": {
      "text/plain": [
       "'Ronik         '"
      ]
     },
     "execution_count": 52,
     "metadata": {},
     "output_type": "execute_result"
    }
   ],
   "source": [
    "str2.lstrip()"
   ]
  },
  {
   "cell_type": "code",
   "execution_count": 53,
   "id": "abdaa759-f06a-4de9-b64e-80bdf883d76b",
   "metadata": {},
   "outputs": [],
   "source": [
    "str3=\"@@@@@@@@@@@@Thomas@@@@@@@@@@@@@@\""
   ]
  },
  {
   "cell_type": "code",
   "execution_count": 54,
   "id": "b8ab3e3f-242d-4062-a7d2-fb53436cf049",
   "metadata": {},
   "outputs": [
    {
     "data": {
      "text/plain": [
       "'Thomas'"
      ]
     },
     "execution_count": 54,
     "metadata": {},
     "output_type": "execute_result"
    }
   ],
   "source": [
    "str3.strip(\"@\")"
   ]
  },
  {
   "cell_type": "code",
   "execution_count": 55,
   "id": "91b59857-acc7-4f4a-96d6-7b0a4b8e7404",
   "metadata": {},
   "outputs": [],
   "source": [
    "str4=\"one two three four\""
   ]
  },
  {
   "cell_type": "code",
   "execution_count": 57,
   "id": "11647287-b0bd-4934-a8e5-840cd6ff1869",
   "metadata": {},
   "outputs": [
    {
     "data": {
      "text/plain": [
       "['one', 'two', 'three', 'four']"
      ]
     },
     "execution_count": 57,
     "metadata": {},
     "output_type": "execute_result"
    }
   ],
   "source": [
    "str4.split() # by default space,\n",
    "#Return a list of the substrings in the string, using sep as the separator string."
   ]
  },
  {
   "cell_type": "code",
   "execution_count": 58,
   "id": "0beda8e9-fe98-4c94-ba9c-c25a41f58504",
   "metadata": {},
   "outputs": [],
   "source": [
    "str5=\"thomas:gracy:peter:girish:ronik\""
   ]
  },
  {
   "cell_type": "code",
   "execution_count": 60,
   "id": "d40bd705-c418-40bf-a723-bb60d14780a9",
   "metadata": {},
   "outputs": [
    {
     "data": {
      "text/plain": [
       "['thomas', 'gracy', 'peter', 'girish', 'ronik']"
      ]
     },
     "execution_count": 60,
     "metadata": {},
     "output_type": "execute_result"
    }
   ],
   "source": [
    "str5.split(\":\")"
   ]
  },
  {
   "cell_type": "code",
   "execution_count": 61,
   "id": "9ce1f64d-d566-46a4-9ce9-618d0b392929",
   "metadata": {},
   "outputs": [],
   "source": [
    "str6=\"My name is akshatha\""
   ]
  },
  {
   "cell_type": "code",
   "execution_count": 63,
   "id": "ac489b3f-ba9b-4d28-a60a-6f025bba684d",
   "metadata": {},
   "outputs": [
    {
     "data": {
      "text/plain": [
       "('My name ', 'is', ' akshatha')"
      ]
     },
     "execution_count": 63,
     "metadata": {},
     "output_type": "execute_result"
    }
   ],
   "source": [
    "str6.partition(\"is\") # Partition the string into three parts using the given separator."
   ]
  },
  {
   "cell_type": "code",
   "execution_count": 64,
   "id": "3f810e11-2350-48bd-b09b-3793419ca7c3",
   "metadata": {},
   "outputs": [],
   "source": [
    "str7=\"hello everyone...!!! Good evening \""
   ]
  },
  {
   "cell_type": "code",
   "execution_count": 65,
   "id": "c5df6d28-438b-4f01-b27f-46aeb8374676",
   "metadata": {},
   "outputs": [
    {
     "data": {
      "text/plain": [
       "('hello everyone...', '!!!', ' Good evening ')"
      ]
     },
     "execution_count": 65,
     "metadata": {},
     "output_type": "execute_result"
    }
   ],
   "source": [
    "str7.partition(\"!!!\")"
   ]
  },
  {
   "cell_type": "code",
   "execution_count": 71,
   "id": "fda89617-f423-4143-ad82-3e00a3eaa1d3",
   "metadata": {},
   "outputs": [
    {
     "data": {
      "text/plain": [
       "'the sum of 10 and 15 is 25'"
      ]
     },
     "execution_count": 71,
     "metadata": {},
     "output_type": "execute_result"
    }
   ],
   "source": [
    "a=10\n",
    "b=15\n",
    "sum =a+b\n",
    "\"the sum of {} and {} is {}\".format(a,b,sum) # lastline"
   ]
  },
  {
   "cell_type": "code",
   "execution_count": 72,
   "id": "b96538ed-10f0-4667-ab30-524281be2518",
   "metadata": {},
   "outputs": [
    {
     "data": {
      "text/plain": [
       "'SAHANA'"
      ]
     },
     "execution_count": 72,
     "metadata": {},
     "output_type": "execute_result"
    }
   ],
   "source": [
    "\"sahana\".upper() # str_value.functio()"
   ]
  },
  {
   "cell_type": "code",
   "execution_count": 73,
   "id": "3f711475-2a84-4438-a914-a10b04c89ee5",
   "metadata": {},
   "outputs": [
    {
     "name": "stdout",
     "output_type": "stream",
     "text": [
      "the sum of 10 and 15 is 25\n"
     ]
    }
   ],
   "source": [
    "print(\"the sum of {} and {} is {}\".format(a,b,sum))"
   ]
  },
  {
   "cell_type": "markdown",
   "id": "dc24f6f0-d062-4d9c-aaa5-5bc003f2573d",
   "metadata": {},
   "source": [
    "## Type Casting"
   ]
  },
  {
   "cell_type": "code",
   "execution_count": 74,
   "id": "d843233f-532c-4c5f-b079-5c4b0b2b3e23",
   "metadata": {},
   "outputs": [
    {
     "data": {
      "text/plain": [
       "73.66"
      ]
     },
     "execution_count": 74,
     "metadata": {},
     "output_type": "execute_result"
    }
   ],
   "source": [
    "12+16+45.66"
   ]
  },
  {
   "cell_type": "code",
   "execution_count": 75,
   "id": "d40adf22-987b-49d4-b57f-9d78ed3595c6",
   "metadata": {},
   "outputs": [
    {
     "data": {
      "text/plain": [
       "74.66"
      ]
     },
     "execution_count": 75,
     "metadata": {},
     "output_type": "execute_result"
    }
   ],
   "source": [
    "12+16+45.66+True"
   ]
  },
  {
   "cell_type": "code",
   "execution_count": 76,
   "id": "8469cac1-e24b-4354-8427-2d3a86ccfd1b",
   "metadata": {},
   "outputs": [
    {
     "data": {
      "text/plain": [
       "74.66"
      ]
     },
     "execution_count": 76,
     "metadata": {},
     "output_type": "execute_result"
    }
   ],
   "source": [
    "12+16+45.66+True+False"
   ]
  },
  {
   "cell_type": "code",
   "execution_count": 77,
   "id": "f55217a9-7d4e-4012-8a80-000eaeb5386c",
   "metadata": {},
   "outputs": [
    {
     "data": {
      "text/plain": [
       "75.66"
      ]
     },
     "execution_count": 77,
     "metadata": {},
     "output_type": "execute_result"
    }
   ],
   "source": [
    "12+16+45.66+bool(78)+bool(\"u\")"
   ]
  },
  {
   "cell_type": "markdown",
   "id": "69673316-5cc8-4766-a0c9-f2c57499b8e6",
   "metadata": {},
   "source": [
    "#### Forced Type Casting"
   ]
  },
  {
   "cell_type": "code",
   "execution_count": 79,
   "id": "cd102a3a-ef14-4a80-a256-8c1e09f3de64",
   "metadata": {},
   "outputs": [
    {
     "data": {
      "text/plain": [
       "int"
      ]
     },
     "execution_count": 79,
     "metadata": {},
     "output_type": "execute_result"
    }
   ],
   "source": [
    "int_var=5\n",
    "type(int_var)"
   ]
  },
  {
   "cell_type": "code",
   "execution_count": 85,
   "id": "5065aedb-f4a0-4237-b804-cbad19c31c76",
   "metadata": {},
   "outputs": [
    {
     "data": {
      "text/plain": [
       "float"
      ]
     },
     "execution_count": 85,
     "metadata": {},
     "output_type": "execute_result"
    }
   ],
   "source": [
    "c=float(int_var) # converting int value to float\n",
    "type(c)"
   ]
  },
  {
   "cell_type": "code",
   "execution_count": 86,
   "id": "b888d7e2-7007-4ee6-a683-c8da6fbf91ed",
   "metadata": {},
   "outputs": [
    {
     "data": {
      "text/plain": [
       "5.0"
      ]
     },
     "execution_count": 86,
     "metadata": {},
     "output_type": "execute_result"
    }
   ],
   "source": [
    "c"
   ]
  },
  {
   "cell_type": "code",
   "execution_count": 87,
   "id": "fc6458b4-1ed2-4f17-bb33-a67e372c3cbc",
   "metadata": {},
   "outputs": [
    {
     "data": {
      "text/plain": [
       "'5'"
      ]
     },
     "execution_count": 87,
     "metadata": {},
     "output_type": "execute_result"
    }
   ],
   "source": [
    "d= str(int_var) # converting int value to string\n",
    "d"
   ]
  },
  {
   "cell_type": "code",
   "execution_count": 89,
   "id": "a72c3556-0ea4-4a9e-813c-b06bfb4da37c",
   "metadata": {},
   "outputs": [
    {
     "data": {
      "text/plain": [
       "True"
      ]
     },
     "execution_count": 89,
     "metadata": {},
     "output_type": "execute_result"
    }
   ],
   "source": [
    "e=bool(int_var) # converting int value to boolean\n",
    "e"
   ]
  },
  {
   "cell_type": "code",
   "execution_count": 90,
   "id": "416fa205-ccaf-451f-b4f1-b9e60ca15a70",
   "metadata": {},
   "outputs": [],
   "source": [
    "float_var=7.53"
   ]
  },
  {
   "cell_type": "code",
   "execution_count": 91,
   "id": "6222d305-38a1-488a-9451-67056732c28a",
   "metadata": {},
   "outputs": [
    {
     "data": {
      "text/plain": [
       "7"
      ]
     },
     "execution_count": 91,
     "metadata": {},
     "output_type": "execute_result"
    }
   ],
   "source": [
    "int(float_var)"
   ]
  },
  {
   "cell_type": "code",
   "execution_count": 92,
   "id": "987d8470-658e-4c6d-b89f-18cdbad53d9a",
   "metadata": {},
   "outputs": [
    {
     "data": {
      "text/plain": [
       "'7.53'"
      ]
     },
     "execution_count": 92,
     "metadata": {},
     "output_type": "execute_result"
    }
   ],
   "source": [
    "str(float_var)"
   ]
  },
  {
   "cell_type": "code",
   "execution_count": 93,
   "id": "de6fba6a-5b3c-438f-afac-e75708504b87",
   "metadata": {},
   "outputs": [
    {
     "data": {
      "text/plain": [
       "True"
      ]
     },
     "execution_count": 93,
     "metadata": {},
     "output_type": "execute_result"
    }
   ],
   "source": [
    "bool(float_var)"
   ]
  },
  {
   "cell_type": "code",
   "execution_count": 94,
   "id": "e14985e6-1b62-4d04-bfba-8044a3dff796",
   "metadata": {},
   "outputs": [],
   "source": [
    "str_var=\"sun\""
   ]
  },
  {
   "cell_type": "code",
   "execution_count": 95,
   "id": "6fab3149-90bb-4092-8043-98ede6e23216",
   "metadata": {},
   "outputs": [
    {
     "ename": "ValueError",
     "evalue": "invalid literal for int() with base 10: 'sun'",
     "output_type": "error",
     "traceback": [
      "\u001b[1;31m---------------------------------------------------------------------------\u001b[0m",
      "\u001b[1;31mValueError\u001b[0m                                Traceback (most recent call last)",
      "Cell \u001b[1;32mIn[95], line 1\u001b[0m\n\u001b[1;32m----> 1\u001b[0m \u001b[38;5;28mint\u001b[39m(str_var)\n",
      "\u001b[1;31mValueError\u001b[0m: invalid literal for int() with base 10: 'sun'"
     ]
    }
   ],
   "source": [
    "int(str_var)"
   ]
  },
  {
   "cell_type": "code",
   "execution_count": 96,
   "id": "d714845c-b193-4c6a-9828-608bac602c3a",
   "metadata": {},
   "outputs": [
    {
     "ename": "ValueError",
     "evalue": "could not convert string to float: 'sun'",
     "output_type": "error",
     "traceback": [
      "\u001b[1;31m---------------------------------------------------------------------------\u001b[0m",
      "\u001b[1;31mValueError\u001b[0m                                Traceback (most recent call last)",
      "Cell \u001b[1;32mIn[96], line 1\u001b[0m\n\u001b[1;32m----> 1\u001b[0m \u001b[38;5;28mfloat\u001b[39m(str_var)\n",
      "\u001b[1;31mValueError\u001b[0m: could not convert string to float: 'sun'"
     ]
    }
   ],
   "source": [
    "float(str_var)"
   ]
  },
  {
   "cell_type": "code",
   "execution_count": 97,
   "id": "df950203-9f7a-4a6f-a174-c9160911fd80",
   "metadata": {},
   "outputs": [
    {
     "data": {
      "text/plain": [
       "True"
      ]
     },
     "execution_count": 97,
     "metadata": {},
     "output_type": "execute_result"
    }
   ],
   "source": [
    "bool(str_var)"
   ]
  },
  {
   "cell_type": "code",
   "execution_count": 100,
   "id": "d7729f30-e651-499f-87b7-5fc762ec6930",
   "metadata": {},
   "outputs": [
    {
     "data": {
      "text/plain": [
       "5"
      ]
     },
     "execution_count": 100,
     "metadata": {},
     "output_type": "execute_result"
    }
   ],
   "source": [
    "int(\"5\")"
   ]
  },
  {
   "cell_type": "code",
   "execution_count": 99,
   "id": "4bd4ea97-ca75-4409-b6c1-edde56d4d291",
   "metadata": {},
   "outputs": [
    {
     "name": "stdin",
     "output_type": "stream",
     "text": [
      "enter the value of a 12\n",
      "enter the value of b 15\n"
     ]
    },
    {
     "name": "stdout",
     "output_type": "stream",
     "text": [
      "12 <class 'int'>\n",
      "15 <class 'int'>\n"
     ]
    },
    {
     "data": {
      "text/plain": [
       "27"
      ]
     },
     "execution_count": 99,
     "metadata": {},
     "output_type": "execute_result"
    }
   ],
   "source": [
    "a=int(input(\"enter the value of a\"))\n",
    "b=int(input(\"enter the value of b\"))\n",
    "print(a,type(a))\n",
    "print(b,type(b))\n",
    "a+b"
   ]
  },
  {
   "cell_type": "markdown",
   "id": "44b0d711-e8cd-464f-a3ab-b3359940d8a5",
   "metadata": {},
   "source": [
    "# Operators"
   ]
  },
  {
   "cell_type": "markdown",
   "id": "5082463d-3129-4dbd-ad8c-36606bf11e26",
   "metadata": {},
   "source": [
    "## Arithematic Operators"
   ]
  },
  {
   "cell_type": "code",
   "execution_count": 103,
   "id": "323f4954-9ed2-4c70-bd5d-711733ec31de",
   "metadata": {},
   "outputs": [
    {
     "name": "stdout",
     "output_type": "stream",
     "text": [
      "addition 7\n",
      "subtraction 3\n",
      "multiplication 10\n",
      "division 2.5\n",
      "modulas--remainder 1\n",
      "a power b 25\n",
      "a floor b 2\n"
     ]
    }
   ],
   "source": [
    "a=5\n",
    "b=2\n",
    "print(\"addition\",a+b)\n",
    "print(\"subtraction\",a-b)\n",
    "print(\"multiplication\",a*b)\n",
    "print(\"division\",a/b)\n",
    "\n",
    "print(\"modulas--remainder\",a%b) # a mod of b\n",
    "print(\"a power b\",a**b)\n",
    "print(\"a floor b\",a//b) # returns integer value"
   ]
  },
  {
   "cell_type": "markdown",
   "id": "7abdafa6-5c47-43a3-8a5d-4ffd642f2237",
   "metadata": {},
   "source": [
    "## Logical Operators"
   ]
  },
  {
   "cell_type": "code",
   "execution_count": 108,
   "id": "753c9575-8b6b-402f-9b30-b1024d27de44",
   "metadata": {},
   "outputs": [
    {
     "name": "stdout",
     "output_type": "stream",
     "text": [
      "a and b --- False\n",
      "a or b----- True\n",
      "not a---- False\n"
     ]
    }
   ],
   "source": [
    "a=True\n",
    "b=False\n",
    "print(\"a and b ---\",a and b)\n",
    "print(\"a or b-----\",a or b)\n",
    "print(\"not a----\",not a)"
   ]
  },
  {
   "cell_type": "markdown",
   "id": "8e72b5e8-37e8-4d50-a97a-7d557dbd7265",
   "metadata": {},
   "source": [
    "## Comparison Operator"
   ]
  },
  {
   "cell_type": "code",
   "execution_count": 109,
   "id": "13b3730a-fd76-473d-9cb4-f98b5eaeaa89",
   "metadata": {},
   "outputs": [
    {
     "name": "stdout",
     "output_type": "stream",
     "text": [
      "x is greater than y False\n",
      "x is less than y True\n",
      "x equal to y False\n",
      "x is not equal True\n",
      "x is greater than or equal y False\n",
      "x is less than  or equal to y  True\n"
     ]
    }
   ],
   "source": [
    "x=10\n",
    "y=25\n",
    "print(\"x is greater than y\",x>y)\n",
    "print(\"x is less than y\",x<y)\n",
    "print(\"x equal to y\",x==y)\n",
    "print(\"x is not equal\",x!=y)\n",
    "print(\"x is greater than or equal y\",x>=y)\n",
    "print(\"x is less than  or equal to y \",x<=y)"
   ]
  },
  {
   "cell_type": "markdown",
   "id": "0402e501-86ea-4a76-b3dd-3cf24e39452d",
   "metadata": {},
   "source": [
    "## Membership Operator"
   ]
  },
  {
   "cell_type": "code",
   "execution_count": 110,
   "id": "0f821d21-ac22-44b2-ab09-178158781e3d",
   "metadata": {},
   "outputs": [],
   "source": [
    "fruit=\"apple\""
   ]
  },
  {
   "cell_type": "code",
   "execution_count": 111,
   "id": "e6417709-f22e-4358-9711-39b3fc646442",
   "metadata": {},
   "outputs": [
    {
     "data": {
      "text/plain": [
       "True"
      ]
     },
     "execution_count": 111,
     "metadata": {},
     "output_type": "execute_result"
    }
   ],
   "source": [
    "\"a\" in fruit"
   ]
  },
  {
   "cell_type": "code",
   "execution_count": 112,
   "id": "086358e4-cde9-4038-a80a-49a56d27e4d4",
   "metadata": {},
   "outputs": [
    {
     "data": {
      "text/plain": [
       "True"
      ]
     },
     "execution_count": 112,
     "metadata": {},
     "output_type": "execute_result"
    }
   ],
   "source": [
    "\"z\" not in fruit"
   ]
  },
  {
   "cell_type": "markdown",
   "id": "27273d1f-f8c5-46dd-844f-3d9978c3cafa",
   "metadata": {},
   "source": [
    "## Assignment operator"
   ]
  },
  {
   "cell_type": "code",
   "execution_count": 117,
   "id": "885b3e80-3828-4db8-96e9-3712d2175a42",
   "metadata": {},
   "outputs": [
    {
     "name": "stdout",
     "output_type": "stream",
     "text": [
      "i+=1 the value of i is  1\n",
      "j+=1 is as j=j+1 and j value is 1\n"
     ]
    }
   ],
   "source": [
    "i=0\n",
    "i+=1 # i value is changed to 0+1=1\n",
    "j=0\n",
    "print(\"i+=1 the value of i is \",i)\n",
    "print(\"j+=1 is as j=j+1 and j value is\",j+1) # j value is changed to 0+1=1"
   ]
  },
  {
   "cell_type": "markdown",
   "id": "e8790fc2-834e-4c4a-baa0-6811d40cbd1f",
   "metadata": {},
   "source": [
    "---"
   ]
  },
  {
   "cell_type": "markdown",
   "id": "5a379af8-aa2e-426c-9683-2f779c367756",
   "metadata": {},
   "source": [
    "# Conditional Statements"
   ]
  },
  {
   "cell_type": "code",
   "execution_count": 119,
   "id": "e73f506a-a56a-49dd-99ca-271d9a23be96",
   "metadata": {},
   "outputs": [
    {
     "name": "stdout",
     "output_type": "stream",
     "text": [
      "example on if statement\n",
      "executing if block...!!!\n",
      "The condition is true\n",
      "marks > 35\n",
      "outside if block\n"
     ]
    }
   ],
   "source": [
    "print(\"example on if statement\")\n",
    "marks=125\n",
    "if marks>35:\n",
    "    print(\"executing if block...!!!\")\n",
    "    print(\"The condition is true\")\n",
    "    print(\"marks > 35\")\n",
    "print(\"outside if block\")"
   ]
  },
  {
   "cell_type": "code",
   "execution_count": 122,
   "id": "37ae4dd3-7d1b-466a-beda-0d5947e7af8b",
   "metadata": {},
   "outputs": [],
   "source": [
    "name=\"Akshatha\"\n",
    "if \"c\" in name:\n",
    "    print(\"c is present\")"
   ]
  },
  {
   "cell_type": "markdown",
   "id": "9639c046-6d2b-4a04-a32e-da4a9dbc3b72",
   "metadata": {},
   "source": [
    "## if-else block"
   ]
  },
  {
   "cell_type": "raw",
   "id": "31e35973-3fb8-49a3-bdf9-60bc6ae4f49d",
   "metadata": {},
   "source": [
    "syntax for if -else\n",
    "\n",
    "\n",
    "if condition:\n",
    "    # statement executes only if condition is true\n",
    "else:\n",
    "    # statement executes only if condition is false\n",
    "    "
   ]
  },
  {
   "cell_type": "code",
   "execution_count": 124,
   "id": "518abb63-b79c-4896-9bca-35266c2bc4fa",
   "metadata": {},
   "outputs": [
    {
     "name": "stdout",
     "output_type": "stream",
     "text": [
      "c is not present\n"
     ]
    }
   ],
   "source": [
    "name=\"Akshatha\"\n",
    "if \"c\" in name:\n",
    "    print(\"c is present\")\n",
    "else:\n",
    "    print(\"c is not present\")"
   ]
  },
  {
   "cell_type": "code",
   "execution_count": 126,
   "id": "f182695c-b32f-42fd-abce-550d10a5bf2c",
   "metadata": {},
   "outputs": [
    {
     "name": "stdout",
     "output_type": "stream",
     "text": [
      "check the number is positive or negative value\n",
      "executing if block...!!!\n",
      "x is positive\n",
      "outside if-else block--Independent Statement\n"
     ]
    }
   ],
   "source": [
    "print(\"check the number is positive or negative value\")\n",
    "x=5\n",
    "if x>0:\n",
    "    print(\"executing if block...!!!\")\n",
    "    print(\"x is positive\")\n",
    "else:\n",
    "    print(\"executing else block...!!!\")\n",
    "    print(\"x is negative\")\n",
    "\n",
    "print(\"outside if-else block--Independent Statement\")"
   ]
  },
  {
   "cell_type": "code",
   "execution_count": 128,
   "id": "f8d8f146-1b71-48c5-aa97-716de08f6127",
   "metadata": {},
   "outputs": [
    {
     "name": "stdout",
     "output_type": "stream",
     "text": [
      "eligible to vote when you are 18 or above 18\n"
     ]
    },
    {
     "name": "stdin",
     "output_type": "stream",
     "text": [
      "enter your age 15\n"
     ]
    },
    {
     "name": "stdout",
     "output_type": "stream",
     "text": [
      "you are not eligible to vote\n"
     ]
    }
   ],
   "source": [
    "print(\"eligible to vote when you are 18 or above 18\")\n",
    "age=int(input(\"enter your age\")) # conv str-int \n",
    "if age>=18:\n",
    "    print(\"Congrats! you are eligible to vote\")\n",
    "else:\n",
    "    print(\"you are not eligible to vote\")\n"
   ]
  },
  {
   "cell_type": "code",
   "execution_count": 129,
   "id": "1ed79291-b5d1-4f46-a528-5ef93a30f869",
   "metadata": {},
   "outputs": [
    {
     "name": "stdout",
     "output_type": "stream",
     "text": [
      "To check even or odd number\n"
     ]
    },
    {
     "name": "stdin",
     "output_type": "stream",
     "text": [
      "enter the number 12\n"
     ]
    },
    {
     "name": "stdout",
     "output_type": "stream",
     "text": [
      "Number is even....!!\n"
     ]
    }
   ],
   "source": [
    "print(\"To check even or odd number\")\n",
    "number=int(input(\"enter the number\"))\n",
    "if number%2==0:\n",
    "    print(\"Number is even....!!\")\n",
    "else:\n",
    "    print(\"Number is odd...!! \")"
   ]
  },
  {
   "cell_type": "code",
   "execution_count": 130,
   "id": "ddc6c4ff-90a1-440c-86d5-1f4dda0299c1",
   "metadata": {},
   "outputs": [
    {
     "name": "stdout",
     "output_type": "stream",
     "text": [
      "To check correct username and password\n"
     ]
    },
    {
     "name": "stdin",
     "output_type": "stream",
     "text": [
      "enter the user name gracy\n",
      "enter the password 123$\n"
     ]
    },
    {
     "name": "stdout",
     "output_type": "stream",
     "text": [
      "Incorrect Username or password\n"
     ]
    }
   ],
   "source": [
    "print(\"To check correct username and password\")\n",
    "user_name=input(\"enter the user name\")\n",
    "password=input(\"enter the password\")\n",
    "if user_name==\"akshatha\" and password==\"123$\":\n",
    "    print(\"correct Username and Password\")\n",
    "else:\n",
    "    print(\"Incorrect Username or password\")"
   ]
  },
  {
   "cell_type": "code",
   "execution_count": 133,
   "id": "07a1d213-114e-4358-b129-acf8acc46b4d",
   "metadata": {},
   "outputs": [
    {
     "name": "stdin",
     "output_type": "stream",
     "text": [
      "enter username akshatha\n",
      "enter password 123$\n"
     ]
    },
    {
     "name": "stdout",
     "output_type": "stream",
     "text": [
      "incorrect entry\n"
     ]
    }
   ],
   "source": [
    "verify_username=\"khemis\"\n",
    "verify_password=\"aksh\"\n",
    "\n",
    "username=input(\"enter username\")\n",
    "password=input(\"enter password\")\n",
    "if username==verify_username and password==verify_password:\n",
    "    print(\"correct entry\")\n",
    "else:\n",
    "    print(\"incorrect entry\")\n"
   ]
  },
  {
   "cell_type": "code",
   "execution_count": 134,
   "id": "eda25644-0197-4dc9-8f94-80d389e2654a",
   "metadata": {},
   "outputs": [
    {
     "name": "stdin",
     "output_type": "stream",
     "text": [
      "Enter username : aksh\n",
      "Enter password:  123\n"
     ]
    },
    {
     "name": "stdout",
     "output_type": "stream",
     "text": [
      "incorrect password\n"
     ]
    }
   ],
   "source": [
    "usname = input(\"Enter username :\")\n",
    "psword = input(\"Enter password: \")\n",
    "if usname== \"Dotun\" and psword==\"123\":\n",
    "    print(\"correct password\")\n",
    "else:\n",
    "    print(\"incorrect password\")\n"
   ]
  },
  {
   "cell_type": "code",
   "execution_count": 135,
   "id": "943482da-2837-439e-b00a-48d5d6b515e9",
   "metadata": {},
   "outputs": [
    {
     "name": "stdout",
     "output_type": "stream",
     "text": [
      "please verify you credentials\n"
     ]
    },
    {
     "name": "stdin",
     "output_type": "stream",
     "text": [
      "enter your username aksh\n",
      "enter your password 12\n"
     ]
    },
    {
     "name": "stdout",
     "output_type": "stream",
     "text": [
      "sorry! incorrect credentials\n"
     ]
    }
   ],
   "source": [
    "print(\"please verify you credentials\")\n",
    "username=input(\"enter your username\")\n",
    "password=input(\"enter your password\")\n",
    "\n",
    "if username==\"Gracy\" and password==\"123\":\n",
    "    print(\"Congrats! you are in\")\n",
    "else:\n",
    "    print (\"sorry! incorrect credentials\")\n"
   ]
  },
  {
   "cell_type": "markdown",
   "id": "0effe06d-f1e8-4ff2-976a-c00d281f25f1",
   "metadata": {},
   "source": [
    "## If elif-else"
   ]
  },
  {
   "cell_type": "code",
   "execution_count": 138,
   "id": "02d5fdd2-c346-481b-8f75-5b55e11ea6d7",
   "metadata": {},
   "outputs": [
    {
     "name": "stdout",
     "output_type": "stream",
     "text": [
      "check the number is positive or negative  or zero value\n",
      "executing else block...!!!\n",
      "x is negative\n",
      "outside if-elif-else block--Independent Statement\n"
     ]
    }
   ],
   "source": [
    "print(\"check the number is positive or negative  or zero value\")\n",
    "x=-5\n",
    "if x>0:\n",
    "    print(\"executing if block...!!!\")\n",
    "    print(\"x is positive\")\n",
    "elif x==0:\n",
    "    print(\"x is zer0\")\n",
    "else:\n",
    "    print(\"executing else block...!!!\")\n",
    "    print(\"x is negative\")\n",
    "\n",
    "print(\"outside if-elif-else block--Independent Statement\")"
   ]
  },
  {
   "cell_type": "code",
   "execution_count": 143,
   "id": "e19ed8e0-05ee-49ae-8359-57e6062ccee2",
   "metadata": {},
   "outputs": [
    {
     "name": "stdin",
     "output_type": "stream",
     "text": [
      "enter your username AksHygjrbeawTTTT\n"
     ]
    },
    {
     "name": "stdout",
     "output_type": "stream",
     "text": [
      "mixed letters\n"
     ]
    }
   ],
   "source": [
    "username=input(\"enter your username\")\n",
    "if username==username.upper():\n",
    "    print(\"all letters are capital  \")\n",
    "elif username==username.lower():\n",
    "    print(\"all letters are lower\")\n",
    "elif username==username.capitalize():\n",
    "    print(\"starting letter is captial\")\n",
    "else:\n",
    "    print(\"mixed letters\")"
   ]
  },
  {
   "cell_type": "markdown",
   "id": "5f2fe8ac-284d-45b0-ab61-7826b4eab5d5",
   "metadata": {},
   "source": [
    "# Data Structure"
   ]
  },
  {
   "cell_type": "markdown",
   "id": "e957e324-fab4-467a-9b94-01d51b064312",
   "metadata": {},
   "source": [
    "### List"
   ]
  },
  {
   "cell_type": "markdown",
   "id": "387a2846-2af5-4cbf-a0dc-9b5e6bdd1a21",
   "metadata": {},
   "source": [
    "### Creation of List"
   ]
  },
  {
   "cell_type": "code",
   "execution_count": 1,
   "id": "de18602d-3635-48d7-9b39-274b2ee5a8d6",
   "metadata": {},
   "outputs": [
    {
     "data": {
      "text/plain": [
       "list"
      ]
     },
     "execution_count": 1,
     "metadata": {},
     "output_type": "execute_result"
    }
   ],
   "source": [
    "list_empty=[]   # empty list\n",
    "type(list_empty)"
   ]
  },
  {
   "cell_type": "code",
   "execution_count": 2,
   "id": "1f33cd37-e0b8-444f-8e5f-2efa00e1f883",
   "metadata": {},
   "outputs": [
    {
     "data": {
      "text/plain": [
       "list"
      ]
     },
     "execution_count": 2,
     "metadata": {},
     "output_type": "execute_result"
    }
   ],
   "source": [
    "name_list=[\"gracy\",\"john\",\"thomas\",\"amit\"]\n",
    "type(name_list)"
   ]
  },
  {
   "cell_type": "code",
   "execution_count": 3,
   "id": "aed613c9-7b3f-41a5-a034-4c8260376727",
   "metadata": {},
   "outputs": [
    {
     "data": {
      "text/plain": [
       "list"
      ]
     },
     "execution_count": 3,
     "metadata": {},
     "output_type": "execute_result"
    }
   ],
   "source": [
    "mixed_list=[1,3,5.55,True,[2,5],\"abc\"]\n",
    "type(mixed_list)"
   ]
  },
  {
   "cell_type": "markdown",
   "id": "38eb26ba-0d95-4cc5-a671-62fdbe3fda5e",
   "metadata": {},
   "source": [
    "### Indexing"
   ]
  },
  {
   "cell_type": "code",
   "execution_count": 4,
   "id": "ea1b29d0-8ca7-4204-889f-0c1c53016502",
   "metadata": {},
   "outputs": [
    {
     "data": {
      "text/plain": [
       "['gracy', 'john', 'thomas', 'amit']"
      ]
     },
     "execution_count": 4,
     "metadata": {},
     "output_type": "execute_result"
    }
   ],
   "source": [
    "name_list"
   ]
  },
  {
   "cell_type": "code",
   "execution_count": 5,
   "id": "7544ed43-f4c9-44a0-a121-727c8723b22e",
   "metadata": {},
   "outputs": [
    {
     "data": {
      "text/plain": [
       "'thomas'"
      ]
     },
     "execution_count": 5,
     "metadata": {},
     "output_type": "execute_result"
    }
   ],
   "source": [
    "name_list[2]"
   ]
  },
  {
   "cell_type": "code",
   "execution_count": 6,
   "id": "1cb54082-461b-451d-817f-b76e50e175cd",
   "metadata": {},
   "outputs": [
    {
     "data": {
      "text/plain": [
       "'john'"
      ]
     },
     "execution_count": 6,
     "metadata": {},
     "output_type": "execute_result"
    }
   ],
   "source": [
    "name_list[-3]"
   ]
  },
  {
   "cell_type": "code",
   "execution_count": 7,
   "id": "ffb38046-18ca-4809-8077-c99ff1cce61e",
   "metadata": {},
   "outputs": [
    {
     "data": {
      "text/plain": [
       "['gracy', 'thomas']"
      ]
     },
     "execution_count": 7,
     "metadata": {},
     "output_type": "execute_result"
    }
   ],
   "source": [
    "name_list[0:5:2]"
   ]
  },
  {
   "cell_type": "code",
   "execution_count": 8,
   "id": "f0ecbc2d-7686-4ef6-b643-6e112fe5c896",
   "metadata": {},
   "outputs": [
    {
     "data": {
      "text/plain": [
       "['amit', 'thomas', 'john', 'gracy']"
      ]
     },
     "execution_count": 8,
     "metadata": {},
     "output_type": "execute_result"
    }
   ],
   "source": [
    "name_list[::-1] # Reverse order"
   ]
  },
  {
   "cell_type": "code",
   "execution_count": 9,
   "id": "0d6f190b-7900-4e85-b092-2cbd659c51f3",
   "metadata": {},
   "outputs": [
    {
     "data": {
      "text/plain": [
       "['gracy', 'john', 'thomas', 'amit']"
      ]
     },
     "execution_count": 9,
     "metadata": {},
     "output_type": "execute_result"
    }
   ],
   "source": [
    "name_list"
   ]
  },
  {
   "cell_type": "code",
   "execution_count": 11,
   "id": "c5d1f3ea-5113-48e4-98dc-72a808c02acb",
   "metadata": {},
   "outputs": [
    {
     "data": {
      "text/plain": [
       "['gracy', 'john']"
      ]
     },
     "execution_count": 11,
     "metadata": {},
     "output_type": "execute_result"
    }
   ],
   "source": [
    "name_list[:2] # By default start value is zero .i,e 0:4"
   ]
  },
  {
   "cell_type": "code",
   "execution_count": 12,
   "id": "f87eb59e-0be8-45c1-9a20-be9b935e6314",
   "metadata": {},
   "outputs": [
    {
     "data": {
      "text/plain": [
       "['thomas', 'amit']"
      ]
     },
     "execution_count": 12,
     "metadata": {},
     "output_type": "execute_result"
    }
   ],
   "source": [
    "name_list[2:]"
   ]
  },
  {
   "cell_type": "code",
   "execution_count": 13,
   "id": "30fffd28-f00a-4ca9-989c-713f6edfe9f6",
   "metadata": {},
   "outputs": [
    {
     "data": {
      "text/plain": [
       "['john', 'thomas']"
      ]
     },
     "execution_count": 13,
     "metadata": {},
     "output_type": "execute_result"
    }
   ],
   "source": [
    "name_list[-3:-1]"
   ]
  },
  {
   "cell_type": "code",
   "execution_count": 21,
   "id": "a013df19-eb3c-40fa-befc-f39ac92cf64e",
   "metadata": {},
   "outputs": [],
   "source": [
    "letters=[\"A\",\"B\",[\"XX\",\"YY\"],\"C\",[11,22]]"
   ]
  },
  {
   "cell_type": "code",
   "execution_count": 22,
   "id": "e573b2e2-ab2b-4c95-8596-f2664de80d65",
   "metadata": {},
   "outputs": [
    {
     "data": {
      "text/plain": [
       "5"
      ]
     },
     "execution_count": 22,
     "metadata": {},
     "output_type": "execute_result"
    }
   ],
   "source": [
    "len(letters)"
   ]
  },
  {
   "cell_type": "code",
   "execution_count": 24,
   "id": "87faae1a-20a9-4f3b-8724-1587e8437930",
   "metadata": {},
   "outputs": [
    {
     "data": {
      "text/plain": [
       "'YY'"
      ]
     },
     "execution_count": 24,
     "metadata": {},
     "output_type": "execute_result"
    }
   ],
   "source": [
    "letters[2][1]"
   ]
  },
  {
   "cell_type": "markdown",
   "id": "a76aad4f-4d34-4938-a19c-d1eed7a28ead",
   "metadata": {},
   "source": [
    "### membership operator in list Type"
   ]
  },
  {
   "cell_type": "code",
   "execution_count": 25,
   "id": "705dc17a-cdc4-4c83-adbd-e1551f2b4e03",
   "metadata": {},
   "outputs": [
    {
     "data": {
      "text/plain": [
       "['gracy', 'john', 'thomas', 'amit']"
      ]
     },
     "execution_count": 25,
     "metadata": {},
     "output_type": "execute_result"
    }
   ],
   "source": [
    "name_list"
   ]
  },
  {
   "cell_type": "code",
   "execution_count": 26,
   "id": "55ecdaf0-dfb2-4fae-97fe-9ed0061dde10",
   "metadata": {},
   "outputs": [
    {
     "data": {
      "text/plain": [
       "False"
      ]
     },
     "execution_count": 26,
     "metadata": {},
     "output_type": "execute_result"
    }
   ],
   "source": [
    "\"Thomas\" in name_list"
   ]
  },
  {
   "cell_type": "code",
   "execution_count": 27,
   "id": "79d5f7e3-8a7b-4681-b55c-365d8254a776",
   "metadata": {},
   "outputs": [
    {
     "data": {
      "text/plain": [
       "True"
      ]
     },
     "execution_count": 27,
     "metadata": {},
     "output_type": "execute_result"
    }
   ],
   "source": [
    "\"gracy\" in name_list"
   ]
  },
  {
   "cell_type": "code",
   "execution_count": 28,
   "id": "983e976b-32f7-42f4-bab8-c7181cd81bc8",
   "metadata": {},
   "outputs": [
    {
     "data": {
      "text/plain": [
       "False"
      ]
     },
     "execution_count": 28,
     "metadata": {},
     "output_type": "execute_result"
    }
   ],
   "source": [
    "\"peter\" in name_list"
   ]
  },
  {
   "cell_type": "code",
   "execution_count": 29,
   "id": "e722ba1f-f2e9-422e-aa04-8ba7036eea7b",
   "metadata": {},
   "outputs": [
    {
     "data": {
      "text/plain": [
       "True"
      ]
     },
     "execution_count": 29,
     "metadata": {},
     "output_type": "execute_result"
    }
   ],
   "source": [
    "\"peter\" not in name_list"
   ]
  },
  {
   "cell_type": "markdown",
   "id": "45dfab70-e03a-48e1-9e30-8d52357cce85",
   "metadata": {},
   "source": [
    "#### Checking string & List is Mutable or Immutable"
   ]
  },
  {
   "cell_type": "code",
   "execution_count": 30,
   "id": "4a91ba5c-fa1e-46a7-8d10-f68c02aaaca4",
   "metadata": {},
   "outputs": [],
   "source": [
    "str_var=\"laptop\""
   ]
  },
  {
   "cell_type": "code",
   "execution_count": 33,
   "id": "580d8396-01f6-48bc-9ff5-ee201d2fed23",
   "metadata": {},
   "outputs": [
    {
     "ename": "TypeError",
     "evalue": "'str' object does not support item assignment",
     "output_type": "error",
     "traceback": [
      "\u001b[1;31m---------------------------------------------------------------------------\u001b[0m",
      "\u001b[1;31mTypeError\u001b[0m                                 Traceback (most recent call last)",
      "Cell \u001b[1;32mIn[33], line 1\u001b[0m\n\u001b[1;32m----> 1\u001b[0m str_var[\u001b[38;5;241m2\u001b[39m]\u001b[38;5;241m=\u001b[39m\u001b[38;5;124m\"\u001b[39m\u001b[38;5;124mz\u001b[39m\u001b[38;5;124m\"\u001b[39m\n",
      "\u001b[1;31mTypeError\u001b[0m: 'str' object does not support item assignment"
     ]
    }
   ],
   "source": [
    "str_var[2]=\"z\" # string is immutable"
   ]
  },
  {
   "cell_type": "code",
   "execution_count": 34,
   "id": "1fc95507-ae38-4108-a170-827346604ff8",
   "metadata": {},
   "outputs": [
    {
     "data": {
      "text/plain": [
       "['gracy', 'john', 'thomas', 'amit']"
      ]
     },
     "execution_count": 34,
     "metadata": {},
     "output_type": "execute_result"
    }
   ],
   "source": [
    "name_list"
   ]
  },
  {
   "cell_type": "code",
   "execution_count": 39,
   "id": "71c6d4c0-a1b2-4514-845d-4f2e538d6707",
   "metadata": {},
   "outputs": [],
   "source": [
    "name_list[2]=\"peter\" # List mutable"
   ]
  },
  {
   "cell_type": "code",
   "execution_count": 37,
   "id": "92d73e55-868f-443c-8015-8a35a508b4e9",
   "metadata": {},
   "outputs": [
    {
     "data": {
      "text/plain": [
       "['gracy', 'john', 'peter', 'amit']"
      ]
     },
     "execution_count": 37,
     "metadata": {},
     "output_type": "execute_result"
    }
   ],
   "source": [
    "name_list"
   ]
  },
  {
   "cell_type": "markdown",
   "id": "c7a27139-15c8-4d93-b971-96657afe5775",
   "metadata": {},
   "source": [
    "### List Functions"
   ]
  },
  {
   "cell_type": "code",
   "execution_count": 41,
   "id": "fe8939d0-2675-4cc7-b606-70939748c5f1",
   "metadata": {},
   "outputs": [],
   "source": [
    "alpha=[\"a\",\"b\",\"c\",\"d\",\"e\"]"
   ]
  },
  {
   "cell_type": "code",
   "execution_count": 42,
   "id": "2cd6299c-3a13-41f6-99f4-7058258a2f14",
   "metadata": {},
   "outputs": [],
   "source": [
    "alpha.append(\"f\") # Append an element to the end of the list."
   ]
  },
  {
   "cell_type": "code",
   "execution_count": 43,
   "id": "20b5499f-51d2-4d96-a58c-cd43a2ddf98c",
   "metadata": {},
   "outputs": [
    {
     "data": {
      "text/plain": [
       "['a', 'b', 'c', 'd', 'e', 'f']"
      ]
     },
     "execution_count": 43,
     "metadata": {},
     "output_type": "execute_result"
    }
   ],
   "source": [
    "alpha"
   ]
  },
  {
   "cell_type": "code",
   "execution_count": 44,
   "id": "55a103ee-e100-4e0f-b43e-bed8ad1aee77",
   "metadata": {},
   "outputs": [],
   "source": [
    "alpha.extend([\"g\",\"h\",\"j\"]) # Extend list by appending elements"
   ]
  },
  {
   "cell_type": "code",
   "execution_count": 45,
   "id": "3dee6987-1c86-48bc-9af6-5d0575eb75e6",
   "metadata": {},
   "outputs": [
    {
     "data": {
      "text/plain": [
       "['a', 'b', 'c', 'd', 'e', 'f', 'g', 'h', 'j']"
      ]
     },
     "execution_count": 45,
     "metadata": {},
     "output_type": "execute_result"
    }
   ],
   "source": [
    "alpha"
   ]
  },
  {
   "cell_type": "code",
   "execution_count": 47,
   "id": "5934dd91-6174-4ed8-b6ff-38d018ba4f8f",
   "metadata": {},
   "outputs": [],
   "source": [
    "alpha.insert(2,\"laptop\")"
   ]
  },
  {
   "cell_type": "code",
   "execution_count": 48,
   "id": "d19a34e5-5aec-4c60-b640-254f5b068576",
   "metadata": {},
   "outputs": [
    {
     "data": {
      "text/plain": [
       "['a', 'b', 'laptop', 'c', 'd', 'e', 'f', 'g', 'h', 'j']"
      ]
     },
     "execution_count": 48,
     "metadata": {},
     "output_type": "execute_result"
    }
   ],
   "source": [
    "alpha"
   ]
  },
  {
   "cell_type": "code",
   "execution_count": 49,
   "id": "1933effa-6547-4a3d-9449-9ab831ea3fd3",
   "metadata": {},
   "outputs": [
    {
     "data": {
      "text/plain": [
       "5"
      ]
     },
     "execution_count": 49,
     "metadata": {},
     "output_type": "execute_result"
    }
   ],
   "source": [
    "alpha.index(\"e\")"
   ]
  },
  {
   "cell_type": "code",
   "execution_count": 50,
   "id": "23816d25-237b-4e2a-820d-534d5a746314",
   "metadata": {},
   "outputs": [
    {
     "data": {
      "text/plain": [
       "1"
      ]
     },
     "execution_count": 50,
     "metadata": {},
     "output_type": "execute_result"
    }
   ],
   "source": [
    "alpha.count(\"g\")"
   ]
  },
  {
   "cell_type": "code",
   "execution_count": 51,
   "id": "67b89106-4f26-4b2e-bb44-838a966ca668",
   "metadata": {},
   "outputs": [
    {
     "data": {
      "text/plain": [
       "'j'"
      ]
     },
     "execution_count": 51,
     "metadata": {},
     "output_type": "execute_result"
    }
   ],
   "source": [
    "alpha.pop() # deleted the last element nd returning deleted item"
   ]
  },
  {
   "cell_type": "code",
   "execution_count": 52,
   "id": "578e454a-4033-4f52-9e3c-fc3826d5c5c1",
   "metadata": {},
   "outputs": [
    {
     "data": {
      "text/plain": [
       "['a', 'b', 'laptop', 'c', 'd', 'e', 'f', 'g', 'h']"
      ]
     },
     "execution_count": 52,
     "metadata": {},
     "output_type": "execute_result"
    }
   ],
   "source": [
    "alpha"
   ]
  },
  {
   "cell_type": "code",
   "execution_count": 53,
   "id": "be2974e9-7e54-43b2-a15c-98827a87c339",
   "metadata": {},
   "outputs": [],
   "source": [
    "alpha.remove(\"h\")"
   ]
  },
  {
   "cell_type": "code",
   "execution_count": 54,
   "id": "d114e294-c174-4cf2-8e49-04a50db18d1b",
   "metadata": {},
   "outputs": [
    {
     "data": {
      "text/plain": [
       "['a', 'b', 'laptop', 'c', 'd', 'e', 'f', 'g']"
      ]
     },
     "execution_count": 54,
     "metadata": {},
     "output_type": "execute_result"
    }
   ],
   "source": [
    "alpha"
   ]
  },
  {
   "cell_type": "code",
   "execution_count": 56,
   "id": "d081d04c-88ff-40e5-bb9f-4f87e85b626d",
   "metadata": {},
   "outputs": [],
   "source": [
    "alpha.reverse()"
   ]
  },
  {
   "cell_type": "code",
   "execution_count": 57,
   "id": "62d87111-733f-4362-87ff-71394f515c96",
   "metadata": {},
   "outputs": [
    {
     "data": {
      "text/plain": [
       "['g', 'f', 'e', 'd', 'c', 'laptop', 'b', 'a']"
      ]
     },
     "execution_count": 57,
     "metadata": {},
     "output_type": "execute_result"
    }
   ],
   "source": [
    "alpha"
   ]
  },
  {
   "cell_type": "code",
   "execution_count": 59,
   "id": "da0a6de9-13a0-42f6-869f-b988fdc074ed",
   "metadata": {},
   "outputs": [],
   "source": [
    "alpha.reverse()"
   ]
  },
  {
   "cell_type": "code",
   "execution_count": 60,
   "id": "26b1a89c-d122-44fc-948f-49d05783688e",
   "metadata": {},
   "outputs": [],
   "source": [
    "alpha.sort()"
   ]
  },
  {
   "cell_type": "code",
   "execution_count": 61,
   "id": "e98e5594-b567-45f7-9a32-6e380fe6dacc",
   "metadata": {},
   "outputs": [
    {
     "data": {
      "text/plain": [
       "['a', 'b', 'c', 'd', 'e', 'f', 'g', 'laptop']"
      ]
     },
     "execution_count": 61,
     "metadata": {},
     "output_type": "execute_result"
    }
   ],
   "source": [
    "alpha"
   ]
  },
  {
   "cell_type": "code",
   "execution_count": 63,
   "id": "5a3ef4d9-c5ef-4400-bc26-782f8f86dac8",
   "metadata": {},
   "outputs": [],
   "source": [
    "alpha.sort(reverse=False)"
   ]
  },
  {
   "cell_type": "code",
   "execution_count": 64,
   "id": "d18432c4-80ff-4545-b2ce-754022873199",
   "metadata": {},
   "outputs": [
    {
     "data": {
      "text/plain": [
       "['a', 'b', 'c', 'd', 'e', 'f', 'g', 'laptop']"
      ]
     },
     "execution_count": 64,
     "metadata": {},
     "output_type": "execute_result"
    }
   ],
   "source": [
    "alpha"
   ]
  },
  {
   "cell_type": "code",
   "execution_count": 67,
   "id": "f8b6825f-d3df-474e-a1c5-77d1421b6593",
   "metadata": {},
   "outputs": [],
   "source": [
    "alpha.clear()"
   ]
  },
  {
   "cell_type": "code",
   "execution_count": 68,
   "id": "bf004b6f-1096-4c80-985f-cbeef3bf3bd8",
   "metadata": {},
   "outputs": [
    {
     "data": {
      "text/plain": [
       "[]"
      ]
     },
     "execution_count": 68,
     "metadata": {},
     "output_type": "execute_result"
    }
   ],
   "source": [
    "alpha"
   ]
  },
  {
   "cell_type": "code",
   "execution_count": 69,
   "id": "12135a60-58cf-4e0c-a06c-46efde17a6b2",
   "metadata": {},
   "outputs": [],
   "source": [
    "del name_list[2]"
   ]
  },
  {
   "cell_type": "code",
   "execution_count": 70,
   "id": "34084d38-349a-4da1-85b4-a2d5ee9a94a4",
   "metadata": {},
   "outputs": [
    {
     "data": {
      "text/plain": [
       "['gracy', 'john', 'amit']"
      ]
     },
     "execution_count": 70,
     "metadata": {},
     "output_type": "execute_result"
    }
   ],
   "source": [
    "name_list"
   ]
  },
  {
   "cell_type": "code",
   "execution_count": 71,
   "id": "d5f14026-a5a6-49ba-8729-8a823ae68ce1",
   "metadata": {},
   "outputs": [],
   "source": [
    "del alpha"
   ]
  },
  {
   "cell_type": "code",
   "execution_count": 72,
   "id": "2b6eda04-88b3-4f77-aaa4-4d50907a8d65",
   "metadata": {},
   "outputs": [
    {
     "ename": "NameError",
     "evalue": "name 'alpha' is not defined",
     "output_type": "error",
     "traceback": [
      "\u001b[1;31m---------------------------------------------------------------------------\u001b[0m",
      "\u001b[1;31mNameError\u001b[0m                                 Traceback (most recent call last)",
      "Cell \u001b[1;32mIn[72], line 1\u001b[0m\n\u001b[1;32m----> 1\u001b[0m alpha\n",
      "\u001b[1;31mNameError\u001b[0m: name 'alpha' is not defined"
     ]
    }
   ],
   "source": [
    "alpha"
   ]
  },
  {
   "cell_type": "markdown",
   "id": "9f8c26e5-b76e-4ee3-ae7f-fc50d75f680a",
   "metadata": {},
   "source": [
    "# Tuple"
   ]
  },
  {
   "cell_type": "code",
   "execution_count": 76,
   "id": "38f9265b-8a9d-4ddc-864f-60b0705d37a0",
   "metadata": {},
   "outputs": [
    {
     "data": {
      "text/plain": [
       "tuple"
      ]
     },
     "execution_count": 76,
     "metadata": {},
     "output_type": "execute_result"
    }
   ],
   "source": [
    "empty_tup=()\n",
    "type(empty_tup)"
   ]
  },
  {
   "cell_type": "code",
   "execution_count": 75,
   "id": "98e9a7b3-ebd5-4e97-b13d-2bb3b642eba4",
   "metadata": {},
   "outputs": [
    {
     "data": {
      "text/plain": [
       "tuple"
      ]
     },
     "execution_count": 75,
     "metadata": {},
     "output_type": "execute_result"
    }
   ],
   "source": [
    "tup_var=(\"a\",\"gracy\",123,[1,2],(12,77))\n",
    "type(tup_var)"
   ]
  },
  {
   "cell_type": "markdown",
   "id": "6a02e105-b1d9-465e-bff7-0d300ee218cf",
   "metadata": {},
   "source": [
    "## Tuple Indexing"
   ]
  },
  {
   "cell_type": "code",
   "execution_count": 77,
   "id": "713ee8e6-68cc-4cec-99d5-4631e32077ef",
   "metadata": {},
   "outputs": [],
   "source": [
    "names_tup=(\"anu\",\"dhoni\",\"divya\",\"sahana\",\"harini\")"
   ]
  },
  {
   "cell_type": "code",
   "execution_count": 78,
   "id": "bdc04504-bdf1-4a0a-963e-185492308380",
   "metadata": {},
   "outputs": [
    {
     "data": {
      "text/plain": [
       "'dhoni'"
      ]
     },
     "execution_count": 78,
     "metadata": {},
     "output_type": "execute_result"
    }
   ],
   "source": [
    "names_tup[1]"
   ]
  },
  {
   "cell_type": "code",
   "execution_count": 79,
   "id": "e30964b4-1852-49ad-b544-0372797da14e",
   "metadata": {},
   "outputs": [
    {
     "data": {
      "text/plain": [
       "'sahana'"
      ]
     },
     "execution_count": 79,
     "metadata": {},
     "output_type": "execute_result"
    }
   ],
   "source": [
    "names_tup[-2]"
   ]
  },
  {
   "cell_type": "code",
   "execution_count": 80,
   "id": "d3287cbf-1c2c-4a36-9b33-82000760917d",
   "metadata": {},
   "outputs": [
    {
     "data": {
      "text/plain": [
       "('anu', 'divya', 'harini')"
      ]
     },
     "execution_count": 80,
     "metadata": {},
     "output_type": "execute_result"
    }
   ],
   "source": [
    "names_tup[::2]"
   ]
  },
  {
   "cell_type": "markdown",
   "id": "f3e89094-8c24-4c28-bce1-f398676b80dc",
   "metadata": {},
   "source": [
    "### Memership Operator"
   ]
  },
  {
   "cell_type": "code",
   "execution_count": 82,
   "id": "a9175a26-2568-4a93-9af0-6bd17261546f",
   "metadata": {},
   "outputs": [
    {
     "data": {
      "text/plain": [
       "True"
      ]
     },
     "execution_count": 82,
     "metadata": {},
     "output_type": "execute_result"
    }
   ],
   "source": [
    "\"dhoni\" in names_tup"
   ]
  },
  {
   "cell_type": "code",
   "execution_count": 83,
   "id": "3094dc7e-d09b-4662-82bd-a56dc9a7c9cf",
   "metadata": {},
   "outputs": [
    {
     "data": {
      "text/plain": [
       "True"
      ]
     },
     "execution_count": 83,
     "metadata": {},
     "output_type": "execute_result"
    }
   ],
   "source": [
    "\"chetu\" not in names_tup"
   ]
  },
  {
   "cell_type": "markdown",
   "id": "c262e4f7-73c5-47a6-8fa5-5ef7edcf6465",
   "metadata": {},
   "source": [
    "### Tuple is mutable or immmutable?"
   ]
  },
  {
   "cell_type": "code",
   "execution_count": 84,
   "id": "c87ef0e6-d4ba-4b23-8b44-8c7f8c3a1201",
   "metadata": {},
   "outputs": [
    {
     "data": {
      "text/plain": [
       "('anu', 'dhoni', 'divya', 'sahana', 'harini')"
      ]
     },
     "execution_count": 84,
     "metadata": {},
     "output_type": "execute_result"
    }
   ],
   "source": [
    "names_tup"
   ]
  },
  {
   "cell_type": "code",
   "execution_count": 86,
   "id": "695ae472-02fa-4e76-b3a0-4f7687b21dee",
   "metadata": {},
   "outputs": [
    {
     "ename": "TypeError",
     "evalue": "'tuple' object does not support item assignment",
     "output_type": "error",
     "traceback": [
      "\u001b[1;31m---------------------------------------------------------------------------\u001b[0m",
      "\u001b[1;31mTypeError\u001b[0m                                 Traceback (most recent call last)",
      "Cell \u001b[1;32mIn[86], line 1\u001b[0m\n\u001b[1;32m----> 1\u001b[0m names_tup[\u001b[38;5;241m1\u001b[39m]\u001b[38;5;241m=\u001b[39m\u001b[38;5;124m\"\u001b[39m\u001b[38;5;124mRohit\u001b[39m\u001b[38;5;124m\"\u001b[39m\n",
      "\u001b[1;31mTypeError\u001b[0m: 'tuple' object does not support item assignment"
     ]
    }
   ],
   "source": [
    "names_tup[1]=\"Rohit\" # tuple object is immutable"
   ]
  },
  {
   "cell_type": "markdown",
   "id": "47823939-d274-4f37-ada3-cad00dee5b88",
   "metadata": {},
   "source": [
    "## Tuple Functions"
   ]
  },
  {
   "cell_type": "code",
   "execution_count": 88,
   "id": "cee07421-42b4-45b4-8532-a4430e03cb46",
   "metadata": {},
   "outputs": [
    {
     "data": {
      "text/plain": [
       "1"
      ]
     },
     "execution_count": 88,
     "metadata": {},
     "output_type": "execute_result"
    }
   ],
   "source": [
    "names_tup.index(\"dhoni\")"
   ]
  },
  {
   "cell_type": "code",
   "execution_count": 89,
   "id": "ce3cb983-28e6-4501-b400-b964b2d97084",
   "metadata": {},
   "outputs": [
    {
     "data": {
      "text/plain": [
       "1"
      ]
     },
     "execution_count": 89,
     "metadata": {},
     "output_type": "execute_result"
    }
   ],
   "source": [
    "names_tup.count(\"divya\")"
   ]
  },
  {
   "cell_type": "code",
   "execution_count": 90,
   "id": "bbf03281-d441-46bd-842e-2f3a9dc91729",
   "metadata": {},
   "outputs": [],
   "source": [
    "del names_tup"
   ]
  },
  {
   "cell_type": "code",
   "execution_count": 91,
   "id": "f164ba5f-98b6-4f9d-9604-1996faaf4665",
   "metadata": {},
   "outputs": [
    {
     "ename": "NameError",
     "evalue": "name 'names_tup' is not defined",
     "output_type": "error",
     "traceback": [
      "\u001b[1;31m---------------------------------------------------------------------------\u001b[0m",
      "\u001b[1;31mNameError\u001b[0m                                 Traceback (most recent call last)",
      "Cell \u001b[1;32mIn[91], line 1\u001b[0m\n\u001b[1;32m----> 1\u001b[0m names_tup\n",
      "\u001b[1;31mNameError\u001b[0m: name 'names_tup' is not defined"
     ]
    }
   ],
   "source": [
    "names_tup"
   ]
  },
  {
   "cell_type": "code",
   "execution_count": 92,
   "id": "12208904-96cd-4249-8181-a43656fca4d9",
   "metadata": {},
   "outputs": [],
   "source": [
    "tup_var=(1,1,1,1,1,2,\"abc\",\"abc\")"
   ]
  },
  {
   "cell_type": "code",
   "execution_count": 93,
   "id": "ce195d66-ba54-4f7e-863f-d3c8ba985a1a",
   "metadata": {},
   "outputs": [
    {
     "data": {
      "text/plain": [
       "5"
      ]
     },
     "execution_count": 93,
     "metadata": {},
     "output_type": "execute_result"
    }
   ],
   "source": [
    "tup_var.count(1)"
   ]
  },
  {
   "cell_type": "code",
   "execution_count": 94,
   "id": "248876b2-87d4-416b-ad1f-90993e2d4f0c",
   "metadata": {},
   "outputs": [
    {
     "data": {
      "text/plain": [
       "2"
      ]
     },
     "execution_count": 94,
     "metadata": {},
     "output_type": "execute_result"
    }
   ],
   "source": [
    "tup_var.count(\"abc\")"
   ]
  },
  {
   "cell_type": "markdown",
   "id": "944944af-83aa-4804-81f8-032c6d005d19",
   "metadata": {},
   "source": [
    "# Set"
   ]
  },
  {
   "cell_type": "code",
   "execution_count": 95,
   "id": "24aa02ce-11fd-49fe-ac97-e398f50fc0a1",
   "metadata": {},
   "outputs": [
    {
     "data": {
      "text/plain": [
       "set"
      ]
     },
     "execution_count": 95,
     "metadata": {},
     "output_type": "execute_result"
    }
   ],
   "source": [
    "empty_set=set()\n",
    "type(empty_set)"
   ]
  },
  {
   "cell_type": "code",
   "execution_count": 96,
   "id": "8291cd74-baed-4755-9120-e8d2827617d7",
   "metadata": {},
   "outputs": [
    {
     "data": {
      "text/plain": [
       "dict"
      ]
     },
     "execution_count": 96,
     "metadata": {},
     "output_type": "execute_result"
    }
   ],
   "source": [
    "set_var={}\n",
    "type(set_var)"
   ]
  },
  {
   "cell_type": "code",
   "execution_count": 98,
   "id": "2d2f436c-6de8-4aa2-b7c2-70222f910756",
   "metadata": {},
   "outputs": [
    {
     "data": {
      "text/plain": [
       "set"
      ]
     },
     "execution_count": 98,
     "metadata": {},
     "output_type": "execute_result"
    }
   ],
   "source": [
    "s={1,1,5,2,8,8,8,8,9,10,100,\"a\",\"b\"}\n",
    "type(s)"
   ]
  },
  {
   "cell_type": "code",
   "execution_count": 99,
   "id": "6496ae19-fb23-4a13-825c-1e10c1fc7cae",
   "metadata": {},
   "outputs": [
    {
     "data": {
      "text/plain": [
       "{1, 10, 100, 2, 5, 8, 9, 'a', 'b'}"
      ]
     },
     "execution_count": 99,
     "metadata": {},
     "output_type": "execute_result"
    }
   ],
   "source": [
    "s"
   ]
  },
  {
   "cell_type": "markdown",
   "id": "9bd44082-c91e-4049-b125-e51c92fa915e",
   "metadata": {},
   "source": [
    "### Set Functions"
   ]
  },
  {
   "cell_type": "code",
   "execution_count": 102,
   "id": "df35eeff-4530-459e-9975-cb85d8b0ed24",
   "metadata": {},
   "outputs": [],
   "source": [
    "s={\"a\",\"b\",\"c\",\"d\"}"
   ]
  },
  {
   "cell_type": "code",
   "execution_count": 103,
   "id": "d96053a4-31b8-4842-844d-cc55f745affa",
   "metadata": {},
   "outputs": [],
   "source": [
    "s.add(\"z\")"
   ]
  },
  {
   "cell_type": "code",
   "execution_count": 104,
   "id": "6e31c180-4228-4ffc-9353-774dc69aca98",
   "metadata": {},
   "outputs": [
    {
     "data": {
      "text/plain": [
       "{'a', 'b', 'c', 'd', 'z'}"
      ]
     },
     "execution_count": 104,
     "metadata": {},
     "output_type": "execute_result"
    }
   ],
   "source": [
    "s"
   ]
  },
  {
   "cell_type": "code",
   "execution_count": 105,
   "id": "3829f426-8251-4aee-86e2-da64a67c4b78",
   "metadata": {},
   "outputs": [],
   "source": [
    "s.update([1,4,2])"
   ]
  },
  {
   "cell_type": "code",
   "execution_count": 106,
   "id": "d0759f22-aab1-43f8-a39a-f4731dae0c77",
   "metadata": {},
   "outputs": [
    {
     "data": {
      "text/plain": [
       "{1, 2, 4, 'a', 'b', 'c', 'd', 'z'}"
      ]
     },
     "execution_count": 106,
     "metadata": {},
     "output_type": "execute_result"
    }
   ],
   "source": [
    "s"
   ]
  },
  {
   "cell_type": "code",
   "execution_count": 107,
   "id": "48e20385-3a9f-4bb6-b13d-f7ffafbf2153",
   "metadata": {},
   "outputs": [],
   "source": [
    "s.remove(\"d\")"
   ]
  },
  {
   "cell_type": "code",
   "execution_count": 108,
   "id": "9c7ae94f-47b3-498a-8f1c-cb3890d30053",
   "metadata": {},
   "outputs": [
    {
     "data": {
      "text/plain": [
       "{1, 2, 4, 'a', 'b', 'c', 'z'}"
      ]
     },
     "execution_count": 108,
     "metadata": {},
     "output_type": "execute_result"
    }
   ],
   "source": [
    "s"
   ]
  },
  {
   "cell_type": "code",
   "execution_count": 109,
   "id": "cbac32fa-adbf-40de-8431-570fdef7f989",
   "metadata": {},
   "outputs": [],
   "source": [
    "A={1,2,3,4,5}\n",
    "B={4,5,6,8,9}\n"
   ]
  },
  {
   "cell_type": "code",
   "execution_count": 110,
   "id": "ae510e6b-2c6e-4f2b-9e75-92754859c4d6",
   "metadata": {},
   "outputs": [
    {
     "data": {
      "text/plain": [
       "{1, 2, 3, 4, 5, 6, 8, 9}"
      ]
     },
     "execution_count": 110,
     "metadata": {},
     "output_type": "execute_result"
    }
   ],
   "source": [
    "A.union(B)"
   ]
  },
  {
   "cell_type": "code",
   "execution_count": 111,
   "id": "4409d5fe-af89-46ea-9b93-7768327654a7",
   "metadata": {},
   "outputs": [
    {
     "data": {
      "text/plain": [
       "{4, 5}"
      ]
     },
     "execution_count": 111,
     "metadata": {},
     "output_type": "execute_result"
    }
   ],
   "source": [
    "A.intersection(B)"
   ]
  },
  {
   "cell_type": "code",
   "execution_count": 113,
   "id": "892fe73e-d009-45f8-842d-e20c7cdf466c",
   "metadata": {},
   "outputs": [
    {
     "data": {
      "text/plain": [
       "{1, 2, 3}"
      ]
     },
     "execution_count": 113,
     "metadata": {},
     "output_type": "execute_result"
    }
   ],
   "source": [
    "A.difference(B) #"
   ]
  },
  {
   "cell_type": "code",
   "execution_count": 114,
   "id": "88a0e773-3378-4ea7-8b14-3c6bf9f1f301",
   "metadata": {},
   "outputs": [
    {
     "data": {
      "text/plain": [
       "{6, 8, 9}"
      ]
     },
     "execution_count": 114,
     "metadata": {},
     "output_type": "execute_result"
    }
   ],
   "source": [
    "B.difference(A)"
   ]
  },
  {
   "cell_type": "code",
   "execution_count": 116,
   "id": "28e4c135-30b0-42cf-bef0-30170b655f14",
   "metadata": {},
   "outputs": [],
   "source": [
    "del A"
   ]
  },
  {
   "cell_type": "code",
   "execution_count": 117,
   "id": "d0f80854-ae1c-4e28-a78c-c5c8f1db026f",
   "metadata": {},
   "outputs": [
    {
     "ename": "NameError",
     "evalue": "name 'A' is not defined",
     "output_type": "error",
     "traceback": [
      "\u001b[1;31m---------------------------------------------------------------------------\u001b[0m",
      "\u001b[1;31mNameError\u001b[0m                                 Traceback (most recent call last)",
      "Cell \u001b[1;32mIn[117], line 1\u001b[0m\n\u001b[1;32m----> 1\u001b[0m A\n",
      "\u001b[1;31mNameError\u001b[0m: name 'A' is not defined"
     ]
    }
   ],
   "source": [
    "A"
   ]
  },
  {
   "cell_type": "markdown",
   "id": "c374a2e9-4bc0-49e4-a784-f2c3519e5c3b",
   "metadata": {},
   "source": [
    "# dictionary"
   ]
  },
  {
   "cell_type": "code",
   "execution_count": 118,
   "id": "df15b8ea-0640-43d7-b0b6-b709c85b81fc",
   "metadata": {},
   "outputs": [
    {
     "data": {
      "text/plain": [
       "dict"
      ]
     },
     "execution_count": 118,
     "metadata": {},
     "output_type": "execute_result"
    }
   ],
   "source": [
    "empty_dic={}\n",
    "type(empty_dic)"
   ]
  },
  {
   "cell_type": "code",
   "execution_count": 119,
   "id": "3c211057-cb4d-46e1-881f-9b9bf4e2afa4",
   "metadata": {},
   "outputs": [],
   "source": [
    "d_var={1:\"anusha\",\"city\":\"mangalore\",\"num_list\":[1,\"a\"]}"
   ]
  },
  {
   "cell_type": "code",
   "execution_count": 120,
   "id": "f37d84eb-0d27-467b-bb37-a6db692c7568",
   "metadata": {},
   "outputs": [
    {
     "data": {
      "text/plain": [
       "{1: 'anusha', 'city': 'mangalore', 'num_list': [1, 'a']}"
      ]
     },
     "execution_count": 120,
     "metadata": {},
     "output_type": "execute_result"
    }
   ],
   "source": [
    "d_var"
   ]
  },
  {
   "cell_type": "code",
   "execution_count": 121,
   "id": "97140df2-b5e1-4133-80df-58fedb4cd421",
   "metadata": {},
   "outputs": [
    {
     "data": {
      "text/plain": [
       "'mangalore'"
      ]
     },
     "execution_count": 121,
     "metadata": {},
     "output_type": "execute_result"
    }
   ],
   "source": [
    "d_var[\"city\"]"
   ]
  },
  {
   "cell_type": "code",
   "execution_count": 122,
   "id": "57ad4ae7-240a-4ea8-9077-d02f10d396a1",
   "metadata": {},
   "outputs": [],
   "source": [
    "d_var[1]=\"manoj\""
   ]
  },
  {
   "cell_type": "code",
   "execution_count": 123,
   "id": "647fcaa5-cd1d-4210-a66d-02658b6b1187",
   "metadata": {},
   "outputs": [
    {
     "data": {
      "text/plain": [
       "{1: 'manoj', 'city': 'mangalore', 'num_list': [1, 'a']}"
      ]
     },
     "execution_count": 123,
     "metadata": {},
     "output_type": "execute_result"
    }
   ],
   "source": [
    "d_var"
   ]
  },
  {
   "cell_type": "code",
   "execution_count": 124,
   "id": "45fb4962-bc46-4640-b968-40d9a88b0f55",
   "metadata": {},
   "outputs": [],
   "source": [
    "d_var[\"phone\"]=990055"
   ]
  },
  {
   "cell_type": "code",
   "execution_count": 125,
   "id": "75f0915d-daf7-424d-a1cb-68d5f3046c00",
   "metadata": {},
   "outputs": [
    {
     "data": {
      "text/plain": [
       "{1: 'manoj', 'city': 'mangalore', 'num_list': [1, 'a'], 'phone': 990055}"
      ]
     },
     "execution_count": 125,
     "metadata": {},
     "output_type": "execute_result"
    }
   ],
   "source": [
    "d_var"
   ]
  },
  {
   "cell_type": "code",
   "execution_count": 128,
   "id": "afd5405e-7050-453a-ac7c-42860fb70c53",
   "metadata": {},
   "outputs": [
    {
     "data": {
      "text/plain": [
       "'a'"
      ]
     },
     "execution_count": 128,
     "metadata": {},
     "output_type": "execute_result"
    }
   ],
   "source": [
    "d_var[\"num_list\"][1]"
   ]
  },
  {
   "cell_type": "markdown",
   "id": "265569ca-e4e1-4ebe-a9bd-38e45c3f9fb6",
   "metadata": {},
   "source": [
    "### Dictionary Functions"
   ]
  },
  {
   "cell_type": "code",
   "execution_count": 129,
   "id": "6076a069-c7e2-4dc0-8614-27f9aab16e6c",
   "metadata": {},
   "outputs": [],
   "source": [
    "d={\"name\":\"divya\",\"age\":20,\"ph\":550022}"
   ]
  },
  {
   "cell_type": "code",
   "execution_count": 130,
   "id": "316e08d0-2bbb-4c3c-8ad9-14c0620e5965",
   "metadata": {},
   "outputs": [],
   "source": [
    "d.update({\"city\":\"delhi\"})"
   ]
  },
  {
   "cell_type": "code",
   "execution_count": 131,
   "id": "4c32fdef-be7a-4816-918e-2e4fe41a296f",
   "metadata": {},
   "outputs": [
    {
     "data": {
      "text/plain": [
       "{'name': 'divya', 'age': 20, 'ph': 550022, 'city': 'delhi'}"
      ]
     },
     "execution_count": 131,
     "metadata": {},
     "output_type": "execute_result"
    }
   ],
   "source": [
    "d"
   ]
  },
  {
   "cell_type": "code",
   "execution_count": 132,
   "id": "3b7313e6-674d-40b4-bd95-7a83daaba515",
   "metadata": {},
   "outputs": [],
   "source": [
    "d.update({\"course\":\"cds\",\"company\":\"Datamites\"})"
   ]
  },
  {
   "cell_type": "code",
   "execution_count": 133,
   "id": "1d2b5d51-937f-4187-a251-bd6ff868476d",
   "metadata": {},
   "outputs": [
    {
     "data": {
      "text/plain": [
       "{'name': 'divya',\n",
       " 'age': 20,\n",
       " 'ph': 550022,\n",
       " 'city': 'delhi',\n",
       " 'course': 'cds',\n",
       " 'company': 'Datamites'}"
      ]
     },
     "execution_count": 133,
     "metadata": {},
     "output_type": "execute_result"
    }
   ],
   "source": [
    "d"
   ]
  },
  {
   "cell_type": "code",
   "execution_count": 134,
   "id": "6ea24a97-1c90-4ab3-9a8d-0b150a413ee8",
   "metadata": {},
   "outputs": [
    {
     "data": {
      "text/plain": [
       "dict_keys(['name', 'age', 'ph', 'city', 'course', 'company'])"
      ]
     },
     "execution_count": 134,
     "metadata": {},
     "output_type": "execute_result"
    }
   ],
   "source": [
    "d.keys()"
   ]
  },
  {
   "cell_type": "code",
   "execution_count": 135,
   "id": "7ee7f653-7d0c-4994-9169-4e44c15ad4f1",
   "metadata": {},
   "outputs": [
    {
     "data": {
      "text/plain": [
       "dict_values(['divya', 20, 550022, 'delhi', 'cds', 'Datamites'])"
      ]
     },
     "execution_count": 135,
     "metadata": {},
     "output_type": "execute_result"
    }
   ],
   "source": [
    "d.values()"
   ]
  },
  {
   "cell_type": "code",
   "execution_count": 136,
   "id": "84256647-9bca-41e9-ac1b-39d1d09f38e8",
   "metadata": {},
   "outputs": [
    {
     "data": {
      "text/plain": [
       "dict_items([('name', 'divya'), ('age', 20), ('ph', 550022), ('city', 'delhi'), ('course', 'cds'), ('company', 'Datamites')])"
      ]
     },
     "execution_count": 136,
     "metadata": {},
     "output_type": "execute_result"
    }
   ],
   "source": [
    "d.items()"
   ]
  },
  {
   "cell_type": "code",
   "execution_count": 137,
   "id": "f65dcb04-0440-4ed8-a03c-c8827280cfce",
   "metadata": {},
   "outputs": [
    {
     "data": {
      "text/plain": [
       "550022"
      ]
     },
     "execution_count": 137,
     "metadata": {},
     "output_type": "execute_result"
    }
   ],
   "source": [
    "d.pop(\"ph\")"
   ]
  },
  {
   "cell_type": "code",
   "execution_count": 138,
   "id": "05921ec2-3fb6-4b63-a64e-daa402fd5f10",
   "metadata": {},
   "outputs": [
    {
     "data": {
      "text/plain": [
       "{'name': 'divya',\n",
       " 'age': 20,\n",
       " 'city': 'delhi',\n",
       " 'course': 'cds',\n",
       " 'company': 'Datamites'}"
      ]
     },
     "execution_count": 138,
     "metadata": {},
     "output_type": "execute_result"
    }
   ],
   "source": [
    "d"
   ]
  },
  {
   "cell_type": "code",
   "execution_count": 139,
   "id": "4513e08c-300b-48bd-b759-74a25e03fe57",
   "metadata": {},
   "outputs": [],
   "source": [
    "d.update({\"name\":\"fathima\"})"
   ]
  },
  {
   "cell_type": "code",
   "execution_count": 140,
   "id": "ea84ecbc-85f5-409c-8fd8-80255082935b",
   "metadata": {},
   "outputs": [
    {
     "data": {
      "text/plain": [
       "{'name': 'fathima',\n",
       " 'age': 20,\n",
       " 'city': 'delhi',\n",
       " 'course': 'cds',\n",
       " 'company': 'Datamites'}"
      ]
     },
     "execution_count": 140,
     "metadata": {},
     "output_type": "execute_result"
    }
   ],
   "source": [
    "d"
   ]
  },
  {
   "cell_type": "code",
   "execution_count": 141,
   "id": "14eaa915-759d-4971-8360-c228faf3c77f",
   "metadata": {},
   "outputs": [],
   "source": [
    "d.clear()"
   ]
  },
  {
   "cell_type": "code",
   "execution_count": 142,
   "id": "c8a5bad1-358f-4a51-9b23-f94ddadf7b34",
   "metadata": {},
   "outputs": [
    {
     "data": {
      "text/plain": [
       "{}"
      ]
     },
     "execution_count": 142,
     "metadata": {},
     "output_type": "execute_result"
    }
   ],
   "source": [
    "d"
   ]
  },
  {
   "cell_type": "code",
   "execution_count": 143,
   "id": "3224c2fe-9c71-4e72-be0e-11f019ae69c8",
   "metadata": {},
   "outputs": [],
   "source": [
    "del d"
   ]
  },
  {
   "cell_type": "markdown",
   "id": "89e4a8d7-fda2-42e2-8a3f-c2780633bc92",
   "metadata": {},
   "source": [
    "---"
   ]
  },
  {
   "cell_type": "markdown",
   "id": "45a8f050-ccd7-4f06-b2f0-a6f1c16570c5",
   "metadata": {},
   "source": [
    "# While Loop"
   ]
  },
  {
   "cell_type": "code",
   "execution_count": 146,
   "id": "8282ab76-d1ce-4d7a-b160-30eb100d2c6e",
   "metadata": {},
   "outputs": [
    {
     "name": "stdout",
     "output_type": "stream",
     "text": [
      "AKSHATHA S\n",
      "AKSHATHA S\n",
      "AKSHATHA S\n",
      "AKSHATHA S\n",
      "AKSHATHA S\n",
      "end of while\n"
     ]
    }
   ],
   "source": [
    "count=0\n",
    "while count<5:\n",
    "    print(\"AKSHATHA S\")\n",
    "    count=count+1\n",
    "print(\"end of while\")"
   ]
  },
  {
   "cell_type": "code",
   "execution_count": null,
   "id": "5df2e181-637b-48f7-95bc-d6d756c6bd46",
   "metadata": {},
   "outputs": [],
   "source": [
    "i=0:\n",
    "while i<3:\n",
    "    print(i)\n",
    "    i=i+1\n",
    "print(\"last line\")"
   ]
  },
  {
   "cell_type": "code",
   "execution_count": 148,
   "id": "c1c7244c-ff22-40b2-8aa7-06915f9345c9",
   "metadata": {},
   "outputs": [
    {
     "name": "stdout",
     "output_type": "stream",
     "text": [
      "1\n",
      "4\n",
      "9\n",
      "16\n",
      "25\n",
      "36\n",
      "49\n",
      "64\n",
      "81\n",
      "100\n",
      "last line\n"
     ]
    }
   ],
   "source": [
    "i=1\n",
    "while i<11 :\n",
    "    print(i*i)\n",
    "    i=i+1\n",
    "print(\"last line\")"
   ]
  },
  {
   "cell_type": "code",
   "execution_count": null,
   "id": "9bd9de97-6c05-4d37-8a24-3c50e9decdfb",
   "metadata": {},
   "outputs": [],
   "source": [
    "i=1\n",
    "while i<11 :\n",
    "    square=i*i\n",
    "    print(\"the value of square is\",square)\n",
    "    if square==25:\n",
    "        break\n",
    "    i=i+1\n",
    "print(\"last line\")"
   ]
  },
  {
   "cell_type": "code",
   "execution_count": 150,
   "id": "4a8e75ab-d25c-4f4f-b434-f53dd9e7ba82",
   "metadata": {},
   "outputs": [
    {
     "name": "stdout",
     "output_type": "stream",
     "text": [
      "the value of square is 1\n",
      "the value of square is 4\n",
      "the value of square is 9\n",
      "the value of square is 16\n",
      "skip square 25\n",
      "the value of square is 36\n",
      "the value of square is 49\n",
      "the value of square is 64\n",
      "the value of square is 81\n",
      "the value of square is 100\n",
      "last line\n"
     ]
    }
   ],
   "source": [
    "i=1\n",
    "while i<11 :\n",
    "    square=i*i\n",
    "    if square==25:\n",
    "        print(\"skip square 25\")\n",
    "        i=i+1\n",
    "        continue\n",
    "    print(\"the value of square is\",square)\n",
    "    i=i+1\n",
    "print(\"last line\")"
   ]
  },
  {
   "cell_type": "code",
   "execution_count": 153,
   "id": "613510dd-c0a4-4031-b8af-3e0929c56efa",
   "metadata": {},
   "outputs": [
    {
     "name": "stdout",
     "output_type": "stream",
     "text": [
      "the value of square is 1\n",
      "the value of square is 4\n",
      "the value of square is 9\n",
      "the value of square is 16\n",
      "skip square 25 or 81\n",
      "the value of square is 36\n",
      "the value of square is 49\n",
      "the value of square is 64\n",
      "skip square 25 or 81\n",
      "the value of square is 100\n",
      "last line\n"
     ]
    }
   ],
   "source": [
    "i=1\n",
    "while i<11 :\n",
    "    square=i*i\n",
    "    \n",
    "    if square==25 or square==81:\n",
    "        print(\"skip square 25 or 81\")\n",
    "        i=i+1\n",
    "        continue\n",
    "    print(\"the value of square is\",square)\n",
    "    i=i+1\n",
    "print(\"last line\")"
   ]
  },
  {
   "cell_type": "markdown",
   "id": "f44e42fc-8c33-4ad2-9b4f-2bb85d16527f",
   "metadata": {},
   "source": [
    "# For loop"
   ]
  },
  {
   "cell_type": "code",
   "execution_count": 154,
   "id": "a6c523c2-4a93-43fe-a23d-ef624a9661f1",
   "metadata": {},
   "outputs": [
    {
     "name": "stdout",
     "output_type": "stream",
     "text": [
      "thomas\n",
      "gracy\n",
      "peter\n",
      "adyan\n"
     ]
    }
   ],
   "source": [
    "names_list=[\"thomas\",\"gracy\",\"peter\",\"adyan\"]\n",
    "for n in names_list:\n",
    "    print(n)"
   ]
  },
  {
   "cell_type": "code",
   "execution_count": 155,
   "id": "df3396f5-20e4-4ca9-8c1a-99e62ff3b230",
   "metadata": {},
   "outputs": [
    {
     "data": {
      "text/plain": [
       "['thomas', 'gracy', 'peter', 'adyan']"
      ]
     },
     "execution_count": 155,
     "metadata": {},
     "output_type": "execute_result"
    }
   ],
   "source": [
    "names_list"
   ]
  },
  {
   "cell_type": "code",
   "execution_count": 161,
   "id": "f6485014-457f-4e6e-bbb9-5f25cb57479d",
   "metadata": {},
   "outputs": [
    {
     "name": "stdout",
     "output_type": "stream",
     "text": [
      "thomas\n",
      "gracy\n"
     ]
    }
   ],
   "source": [
    "for x in names_list:\n",
    "    \n",
    "    if x==\"peter\":\n",
    "        break\n",
    "    print(x)"
   ]
  },
  {
   "cell_type": "code",
   "execution_count": 162,
   "id": "4d83aebf-827c-4e7e-8836-a86cff8f5cc6",
   "metadata": {},
   "outputs": [
    {
     "name": "stdout",
     "output_type": "stream",
     "text": [
      "thomas\n",
      "gracy\n",
      "adyan\n"
     ]
    }
   ],
   "source": [
    "for y in names_list:\n",
    "    if y==\"peter\":\n",
    "        continue\n",
    "    print(y)"
   ]
  },
  {
   "cell_type": "code",
   "execution_count": 165,
   "id": "030cafd9-22fd-4c50-9370-f9addab668af",
   "metadata": {},
   "outputs": [
    {
     "name": "stdout",
     "output_type": "stream",
     "text": [
      "thomas\n",
      "gracy\n"
     ]
    }
   ],
   "source": [
    "for x in names_list:\n",
    "    if x=='peter':\n",
    "        break\n",
    "    print(x)\n"
   ]
  },
  {
   "cell_type": "code",
   "execution_count": 166,
   "id": "6b2a4d12-e9d6-4f0e-af77-98a614a29c69",
   "metadata": {},
   "outputs": [
    {
     "name": "stdout",
     "output_type": "stream",
     "text": [
      "0\n",
      "1\n",
      "2\n",
      "3\n",
      "4\n"
     ]
    }
   ],
   "source": [
    "for r in range(5):\n",
    "    print(r)"
   ]
  },
  {
   "cell_type": "code",
   "execution_count": 167,
   "id": "817050ea-a46e-42b6-ae74-931f2051b718",
   "metadata": {},
   "outputs": [
    {
     "name": "stdout",
     "output_type": "stream",
     "text": [
      "2\n",
      "4\n",
      "6\n",
      "8\n",
      "10\n",
      "12\n",
      "14\n",
      "16\n",
      "18\n",
      "20\n"
     ]
    }
   ],
   "source": [
    "for z in range(2,21,2):\n",
    "    print(z)"
   ]
  },
  {
   "cell_type": "code",
   "execution_count": 1,
   "id": "70d3d22a-faf2-460c-acf5-282eedb02db2",
   "metadata": {},
   "outputs": [
    {
     "name": "stdout",
     "output_type": "stream",
     "text": [
      "name\n",
      "course\n"
     ]
    }
   ],
   "source": [
    "d_var={\"name\":\"akshatha\",\"course\":\"AE\"}\n",
    "for d in d_var:\n",
    "    print(d)"
   ]
  },
  {
   "cell_type": "code",
   "execution_count": 4,
   "id": "48de08b1-b88f-4c55-8ad7-aca093831384",
   "metadata": {},
   "outputs": [
    {
     "name": "stdout",
     "output_type": "stream",
     "text": [
      "name:akshatha\n",
      "course:AE\n"
     ]
    }
   ],
   "source": [
    "d_var={\"name\":\"akshatha\",\"course\":\"AE\"}\n",
    "for key in d_var:\n",
    "      print(f'{key}:{d_var[key]}')"
   ]
  },
  {
   "cell_type": "code",
   "execution_count": 7,
   "id": "8b13234a-67c1-4dc4-b6f3-1897487fce2b",
   "metadata": {},
   "outputs": [
    {
     "name": "stdout",
     "output_type": "stream",
     "text": [
      "a value is 100 b value is 200\n"
     ]
    }
   ],
   "source": [
    "a=100\n",
    "b=200\n",
    "print(f'a value is {a} b value is {b}')"
   ]
  },
  {
   "cell_type": "markdown",
   "id": "3a4b2b11-cea5-4fb1-a093-ff43718ed550",
   "metadata": {},
   "source": [
    "#### Nested For Loop"
   ]
  },
  {
   "cell_type": "code",
   "execution_count": 8,
   "id": "455f127e-50b6-4f19-abab-ac0ae3b41553",
   "metadata": {},
   "outputs": [
    {
     "name": "stdout",
     "output_type": "stream",
     "text": [
      "1 a\n",
      "1 b\n",
      "1 c\n",
      "2 a\n",
      "2 b\n",
      "2 c\n",
      "3 a\n",
      "3 b\n",
      "3 c\n"
     ]
    }
   ],
   "source": [
    "for x in [1,2,3]:\n",
    "    for y in [\"a\",\"b\",\"c\"]:\n",
    "        print(x,y)"
   ]
  },
  {
   "cell_type": "code",
   "execution_count": 9,
   "id": "44e7b164-08a2-47eb-b4a5-c026b67e6e2e",
   "metadata": {},
   "outputs": [
    {
     "name": "stdout",
     "output_type": "stream",
     "text": [
      "['PETER']\n",
      "['PETER', 'THOMAS']\n",
      "['PETER', 'THOMAS', 'ADYAN']\n",
      "the final  list is  ['PETER', 'THOMAS', 'ADYAN']\n"
     ]
    }
   ],
   "source": [
    "names=[\"peter\",\"thomas\",\"adyan\"]\n",
    "names_capital=[]\n",
    "for name in names:\n",
    "    names_capital.append(name.upper())\n",
    "    print(names_capital)\n",
    "print(\"the final  list is \",names_capital)    "
   ]
  },
  {
   "cell_type": "code",
   "execution_count": 10,
   "id": "80526fb2-6889-4857-87ef-7c8107c1b7d1",
   "metadata": {},
   "outputs": [
    {
     "name": "stdin",
     "output_type": "stream",
     "text": [
      "enter the number 12\n",
      "enter the number 15\n",
      "enter the number 16\n",
      "enter the number 20\n",
      "enter the number 25\n",
      "enter the number 25\n"
     ]
    },
    {
     "name": "stdout",
     "output_type": "stream",
     "text": [
      "sum of all elements in list 113\n",
      "total number of elements in the list 6\n",
      "Average = 18.833333333333332\n"
     ]
    }
   ],
   "source": [
    "i=0\n",
    "number_list=[]\n",
    "while i<6:\n",
    "    num=int(input(\"enter the number\"))\n",
    "    number_list.append(num)\n",
    "    i=i+1\n",
    "    \n",
    "sum_of_numbers=sum(number_list)\n",
    "total_number_elements=len(number_list)\n",
    "average=sum_of_numbers/total_number_elements\n",
    "\n",
    "print(\"sum of all elements in list\",sum_of_numbers)\n",
    "print(\"total number of elements in the list\",total_number_elements)\n",
    "print(\"Average =\",average)\n"
   ]
  },
  {
   "cell_type": "markdown",
   "id": "d33dc115-869a-4ca1-a3b0-8849167b0161",
   "metadata": {},
   "source": [
    "# Functions"
   ]
  },
  {
   "cell_type": "code",
   "execution_count": null,
   "id": "680ac14d-272e-4a57-9b5f-f4107b83a127",
   "metadata": {},
   "outputs": [],
   "source": [
    "print(\"this is in -built function\")"
   ]
  },
  {
   "cell_type": "code",
   "execution_count": null,
   "id": "d52db15d-81df-4454-9fba-1ad6a1fb93c2",
   "metadata": {},
   "outputs": [],
   "source": [
    "len(names_capital)"
   ]
  },
  {
   "cell_type": "markdown",
   "id": "1b01ee0b-7b42-4a20-985c-bdbaeeb9d4f3",
   "metadata": {},
   "source": [
    "### User Defined Functions"
   ]
  },
  {
   "cell_type": "code",
   "execution_count": 12,
   "id": "0973f507-7e21-439f-be7e-ebecec9e3419",
   "metadata": {},
   "outputs": [
    {
     "ename": "NameError",
     "evalue": "name 'hello' is not defined",
     "output_type": "error",
     "traceback": [
      "\u001b[1;31m---------------------------------------------------------------------------\u001b[0m",
      "\u001b[1;31mNameError\u001b[0m                                 Traceback (most recent call last)",
      "Cell \u001b[1;32mIn[12], line 1\u001b[0m\n\u001b[1;32m----> 1\u001b[0m hello()\n",
      "\u001b[1;31mNameError\u001b[0m: name 'hello' is not defined"
     ]
    }
   ],
   "source": [
    "hello()"
   ]
  },
  {
   "cell_type": "markdown",
   "id": "3cd19719-8f30-41fb-9942-ad6f7801c7ce",
   "metadata": {},
   "source": [
    "def function_name(parameter1,parameter2,....):\n",
    "    statement 1\n",
    "    statement 2\n",
    "    .\n",
    "    .\n",
    "    .\n",
    "    statement n\n",
    "    return value/var/expression\n",
    "\n",
    "\n",
    "function_name(argument1,argument2,....)"
   ]
  },
  {
   "cell_type": "markdown",
   "id": "9319975d-87ed-4885-8c52-42c4a31c09c2",
   "metadata": {},
   "source": [
    "### Without para,argu and return"
   ]
  },
  {
   "cell_type": "code",
   "execution_count": 14,
   "id": "86823bdb-fc8a-4748-b24d-cba7116259be",
   "metadata": {},
   "outputs": [],
   "source": [
    "def hello():\n",
    "    print(\"hi...Good Evening\")"
   ]
  },
  {
   "cell_type": "code",
   "execution_count": 15,
   "id": "4e9df7c3-7db2-4743-8b38-d4d4b5d42cf3",
   "metadata": {},
   "outputs": [
    {
     "name": "stdout",
     "output_type": "stream",
     "text": [
      "hi...Good Evening\n"
     ]
    }
   ],
   "source": [
    "hello()"
   ]
  },
  {
   "cell_type": "code",
   "execution_count": 16,
   "id": "d7f962ce-6e34-427b-9341-2d1cdeeecf0e",
   "metadata": {},
   "outputs": [
    {
     "name": "stdout",
     "output_type": "stream",
     "text": [
      "hi...Good Evening\n"
     ]
    }
   ],
   "source": [
    "hello()"
   ]
  },
  {
   "cell_type": "code",
   "execution_count": 17,
   "id": "bc578535-39d8-4bf2-88b6-157e5cbbd916",
   "metadata": {},
   "outputs": [
    {
     "name": "stdout",
     "output_type": "stream",
     "text": [
      "hi...Good Evening\n"
     ]
    }
   ],
   "source": [
    "hello()"
   ]
  },
  {
   "cell_type": "markdown",
   "id": "d6d7346f-8e08-4e96-a33c-97b0ac5647ed",
   "metadata": {},
   "source": [
    "### With Argument ,with parameter and no return statement"
   ]
  },
  {
   "cell_type": "code",
   "execution_count": 18,
   "id": "08585728-d964-43f9-866a-9c940757659f",
   "metadata": {},
   "outputs": [
    {
     "ename": "NameError",
     "evalue": "name 'add_function' is not defined",
     "output_type": "error",
     "traceback": [
      "\u001b[1;31m---------------------------------------------------------------------------\u001b[0m",
      "\u001b[1;31mNameError\u001b[0m                                 Traceback (most recent call last)",
      "Cell \u001b[1;32mIn[18], line 1\u001b[0m\n\u001b[1;32m----> 1\u001b[0m add_function(\u001b[38;5;241m5\u001b[39m,\u001b[38;5;241m3\u001b[39m)\n",
      "\u001b[1;31mNameError\u001b[0m: name 'add_function' is not defined"
     ]
    }
   ],
   "source": [
    "add_function(5,3)"
   ]
  },
  {
   "cell_type": "code",
   "execution_count": 19,
   "id": "6fb9d984-90b4-4d23-9625-020994e93660",
   "metadata": {},
   "outputs": [],
   "source": [
    "def add_function(a,b):\n",
    "    c=a+b\n",
    "    print(\"the value of c :\",c)"
   ]
  },
  {
   "cell_type": "code",
   "execution_count": 20,
   "id": "6bdef589-0db4-44a2-ad27-77be3c3fa58e",
   "metadata": {},
   "outputs": [
    {
     "name": "stdout",
     "output_type": "stream",
     "text": [
      "the value of c : 8\n"
     ]
    }
   ],
   "source": [
    "add_function(5,3)"
   ]
  },
  {
   "cell_type": "code",
   "execution_count": 21,
   "id": "dcec90de-e733-4496-9429-60e7757dfeb9",
   "metadata": {},
   "outputs": [
    {
     "name": "stdout",
     "output_type": "stream",
     "text": [
      "the value of c : 15\n"
     ]
    }
   ],
   "source": [
    "add_function(10,5)"
   ]
  },
  {
   "cell_type": "code",
   "execution_count": 27,
   "id": "f028c3c1-43bb-45cf-8d45-f695c414bffa",
   "metadata": {},
   "outputs": [],
   "source": [
    "def sum_two_numbers(a,b):\n",
    "    c=a+b\n",
    "    print(\"the value of c :\",c)\n",
    "    return c"
   ]
  },
  {
   "cell_type": "code",
   "execution_count": 28,
   "id": "d1bd2c69-8d25-44df-abed-21e68323a54d",
   "metadata": {},
   "outputs": [
    {
     "name": "stdout",
     "output_type": "stream",
     "text": [
      "the value of c : 6\n",
      "the result value is 6\n"
     ]
    }
   ],
   "source": [
    "result=sum_two_numbers(2,4)\n",
    "print(\"the result value is\",result)"
   ]
  },
  {
   "cell_type": "code",
   "execution_count": 29,
   "id": "2a5a0715-d237-4d3f-bba3-e645d09776af",
   "metadata": {},
   "outputs": [],
   "source": [
    "def multiply(x,y):\n",
    "    return x*y\n",
    "    "
   ]
  },
  {
   "cell_type": "code",
   "execution_count": 33,
   "id": "0ab4e59d-50d5-4cf3-836f-fb6b34db6ff7",
   "metadata": {},
   "outputs": [
    {
     "data": {
      "text/plain": [
       "50"
      ]
     },
     "execution_count": 33,
     "metadata": {},
     "output_type": "execute_result"
    }
   ],
   "source": [
    "multiply(10,5)\n"
   ]
  },
  {
   "cell_type": "code",
   "execution_count": 31,
   "id": "e13848a5-44b7-4db0-b71b-ee4b81893bc4",
   "metadata": {},
   "outputs": [
    {
     "data": {
      "text/plain": [
       "340"
      ]
     },
     "execution_count": 31,
     "metadata": {},
     "output_type": "execute_result"
    }
   ],
   "source": [
    "res=multiply(5,68)\n",
    "res"
   ]
  },
  {
   "cell_type": "code",
   "execution_count": 34,
   "id": "f70fc0f2-3415-4441-a67c-7ad66af2b067",
   "metadata": {},
   "outputs": [],
   "source": [
    "def even_or_odd(x):\n",
    "    if x%2==0:\n",
    "        return \"The number is even\"\n",
    "    else:\n",
    "        return \"the number is odd\""
   ]
  },
  {
   "cell_type": "code",
   "execution_count": 35,
   "id": "c215e9aa-678e-4910-9e5b-08c7bf6f1696",
   "metadata": {},
   "outputs": [
    {
     "name": "stdin",
     "output_type": "stream",
     "text": [
      "enter the value to check even or odd 25\n"
     ]
    },
    {
     "data": {
      "text/plain": [
       "'the number is odd'"
      ]
     },
     "execution_count": 35,
     "metadata": {},
     "output_type": "execute_result"
    }
   ],
   "source": [
    "number=int(input(\"enter the value to check even or odd\"))\n",
    "even_or_odd(number)"
   ]
  },
  {
   "cell_type": "markdown",
   "id": "93123741-09b5-479e-b8ae-fabe361c2fee",
   "metadata": {},
   "source": [
    "#### Define a function using lambda"
   ]
  },
  {
   "cell_type": "code",
   "execution_count": null,
   "id": "a128fbe8-238f-4c31-b599-4ec034953bae",
   "metadata": {},
   "outputs": [],
   "source": [
    "function_name=lambda para1,para2....: expression"
   ]
  },
  {
   "cell_type": "code",
   "execution_count": 36,
   "id": "9197ec07-9930-4590-ab0d-eda3979d6cd5",
   "metadata": {},
   "outputs": [],
   "source": [
    "power_two=lambda a: a**2 # define the function using lambda"
   ]
  },
  {
   "cell_type": "code",
   "execution_count": 37,
   "id": "8119e516-68a9-4e74-b9ab-c6c8bfc66e4c",
   "metadata": {},
   "outputs": [
    {
     "data": {
      "text/plain": [
       "16"
      ]
     },
     "execution_count": 37,
     "metadata": {},
     "output_type": "execute_result"
    }
   ],
   "source": [
    "power_two(4)"
   ]
  },
  {
   "cell_type": "code",
   "execution_count": 38,
   "id": "2287aa1d-1ff9-418d-a45e-fa403428824b",
   "metadata": {},
   "outputs": [],
   "source": [
    "add=lambda a,b:a+b"
   ]
  },
  {
   "cell_type": "code",
   "execution_count": 39,
   "id": "5a95ad15-09c7-4a32-9a9d-82d6fe949d6a",
   "metadata": {},
   "outputs": [
    {
     "data": {
      "text/plain": [
       "143"
      ]
     },
     "execution_count": 39,
     "metadata": {},
     "output_type": "execute_result"
    }
   ],
   "source": [
    "add(54,89)"
   ]
  },
  {
   "cell_type": "markdown",
   "id": "40295a68-d7b7-40e3-bf33-6046c855d43c",
   "metadata": {},
   "source": [
    "## Filter function"
   ]
  },
  {
   "cell_type": "code",
   "execution_count": 63,
   "id": "6320a116-b67e-4a42-bec2-3b0b4facc9f9",
   "metadata": {},
   "outputs": [
    {
     "name": "stdout",
     "output_type": "stream",
     "text": [
      "filter even numbers using filter function\n",
      "[10, 4, 6, 8]\n"
     ]
    },
    {
     "data": {
      "text/plain": [
       "6"
      ]
     },
     "execution_count": 63,
     "metadata": {},
     "output_type": "execute_result"
    }
   ],
   "source": [
    "print(\"filter even numbers using filter function\")\n",
    "\n",
    "list_var=[10,4,6,8,7,11]\n",
    "even_function=lambda x: x%2==0\n",
    "\n",
    "res=filter(even_function,list_var)\n",
    "#print(list(res))\n",
    "output=list(res)\n",
    "print(output)\n",
    "output[2]"
   ]
  },
  {
   "cell_type": "markdown",
   "id": "81867f12-a2de-42d2-8cb9-56b27402a8a5",
   "metadata": {},
   "source": [
    "# Map Function"
   ]
  },
  {
   "cell_type": "code",
   "execution_count": 65,
   "id": "7a9c1689-a981-4965-822f-7f14952dd642",
   "metadata": {},
   "outputs": [
    {
     "data": {
      "text/plain": [
       "[25, 16, 49, 81]"
      ]
     },
     "execution_count": 65,
     "metadata": {},
     "output_type": "execute_result"
    }
   ],
   "source": [
    "list_var=[5,4,7,9]\n",
    "square_function=lambda a:a*a\n",
    "\n",
    "res_out=map(square_function,list_var)\n",
    "list(res_out)"
   ]
  },
  {
   "cell_type": "code",
   "execution_count": 66,
   "id": "eb0776ef-a103-4eed-b795-93aa41f7fdb3",
   "metadata": {},
   "outputs": [
    {
     "data": {
      "text/plain": [
       "['sachin Tendulkar', 'dhoni M S', 'rohit Sharma']"
      ]
     },
     "execution_count": 66,
     "metadata": {},
     "output_type": "execute_result"
    }
   ],
   "source": [
    "fname=[\"sachin \",\"dhoni \",\"rohit \"]\n",
    "lname=[\"Tendulkar\",\"M S\",\"Sharma\"]\n",
    "\n",
    "concat_func=lambda x,y:x+y\n",
    "full_name=map(concat_func,fname,lname)\n",
    "list(full_name)"
   ]
  },
  {
   "cell_type": "code",
   "execution_count": 67,
   "id": "17debc66-a0ac-4425-a353-a13b52cb2986",
   "metadata": {},
   "outputs": [
    {
     "data": {
      "text/plain": [
       "[['s', 'a', 'c', 'h', 'i', 'n', ' '],\n",
       " ['d', 'h', 'o', 'n', 'i', ' '],\n",
       " ['r', 'o', 'h', 'i', 't', ' ']]"
      ]
     },
     "execution_count": 67,
     "metadata": {},
     "output_type": "execute_result"
    }
   ],
   "source": [
    "fname=[\"sachin \",\"dhoni \",\"rohit \"]\n",
    "\n",
    "convert_list=map(list,fname)\n",
    "list(convert_list)"
   ]
  },
  {
   "cell_type": "markdown",
   "id": "6697a173-1a05-481c-b47a-c76e1ba5e298",
   "metadata": {},
   "source": [
    "# Modules"
   ]
  },
  {
   "cell_type": "code",
   "execution_count": 68,
   "id": "4db3e2a1-8663-4c1e-9cf3-bf37b1517c47",
   "metadata": {},
   "outputs": [
    {
     "data": {
      "text/plain": [
       "'C:\\\\Users\\\\Lenovo\\\\PYHTON ESSENTIAL_WEE_AUG'"
      ]
     },
     "execution_count": 68,
     "metadata": {},
     "output_type": "execute_result"
    }
   ],
   "source": [
    "pwd"
   ]
  },
  {
   "cell_type": "code",
   "execution_count": 69,
   "id": "cda20b7b-654f-403d-830f-d44ae633d0cf",
   "metadata": {},
   "outputs": [
    {
     "ename": "NameError",
     "evalue": "name 'sqrt' is not defined",
     "output_type": "error",
     "traceback": [
      "\u001b[1;31m---------------------------------------------------------------------------\u001b[0m",
      "\u001b[1;31mNameError\u001b[0m                                 Traceback (most recent call last)",
      "Cell \u001b[1;32mIn[69], line 1\u001b[0m\n\u001b[1;32m----> 1\u001b[0m sqrt(\u001b[38;5;241m25\u001b[39m)\n",
      "\u001b[1;31mNameError\u001b[0m: name 'sqrt' is not defined"
     ]
    }
   ],
   "source": [
    "sqrt(25)"
   ]
  },
  {
   "cell_type": "code",
   "execution_count": 70,
   "id": "d146d0d2-876f-434a-8af4-ee4a86a4059c",
   "metadata": {},
   "outputs": [
    {
     "data": {
      "text/plain": [
       "5.0"
      ]
     },
     "execution_count": 70,
     "metadata": {},
     "output_type": "execute_result"
    }
   ],
   "source": [
    "import math\n",
    "\n",
    "s=math.sqrt(25)\n",
    "s"
   ]
  },
  {
   "cell_type": "markdown",
   "id": "4213a6c3-0953-4bf3-8c9f-dbdd9f21cf48",
   "metadata": {},
   "source": [
    "## reduce  function"
   ]
  },
  {
   "cell_type": "code",
   "execution_count": 72,
   "id": "9f9adedc-b82e-4b69-8141-8e645298483c",
   "metadata": {},
   "outputs": [
    {
     "name": "stdout",
     "output_type": "stream",
     "text": [
      "21\n"
     ]
    }
   ],
   "source": [
    "import functools\n",
    "\n",
    "num_list=[2,10,5,4]\n",
    "sum_elements=lambda x,y:x+y\n",
    "res=functools.reduce(sum_elements,num_list)\n",
    "print(res)\n",
    "\n"
   ]
  },
  {
   "cell_type": "code",
   "execution_count": 73,
   "id": "32368988-8928-42b0-8437-285bfdfdedf2",
   "metadata": {},
   "outputs": [
    {
     "name": "stdout",
     "output_type": "stream",
     "text": [
      "5.0 120\n"
     ]
    }
   ],
   "source": [
    "from math import sqrt,factorial\n",
    "\n",
    "sq=sqrt(25)\n",
    "fac=factorial(5)\n",
    "print(sq,fac)"
   ]
  },
  {
   "cell_type": "code",
   "execution_count": 74,
   "id": "65a3e179-b415-44f3-bcf9-f7bc6a65e957",
   "metadata": {},
   "outputs": [
    {
     "data": {
      "text/plain": [
       "5.0"
      ]
     },
     "execution_count": 74,
     "metadata": {},
     "output_type": "execute_result"
    }
   ],
   "source": [
    "from math import sqrt,factorial\n",
    "\n",
    "sqrt(25)"
   ]
  },
  {
   "cell_type": "code",
   "execution_count": 75,
   "id": "b8c09810-f1f0-4b25-801f-9f84ae5a11bf",
   "metadata": {},
   "outputs": [
    {
     "data": {
      "text/plain": [
       "120"
      ]
     },
     "execution_count": 75,
     "metadata": {},
     "output_type": "execute_result"
    }
   ],
   "source": [
    "factorial(5)"
   ]
  },
  {
   "cell_type": "code",
   "execution_count": 76,
   "id": "46696404-a1c5-4e69-9031-7ac66cdd5fec",
   "metadata": {},
   "outputs": [
    {
     "data": {
      "text/plain": [
       "'C:\\\\Users\\\\Lenovo\\\\PYHTON ESSENTIAL_WEE_AUG'"
      ]
     },
     "execution_count": 76,
     "metadata": {},
     "output_type": "execute_result"
    }
   ],
   "source": [
    "pwd"
   ]
  },
  {
   "cell_type": "code",
   "execution_count": null,
   "id": "402e6891-e3d2-4e4b-950a-d0c05c085558",
   "metadata": {},
   "outputs": [],
   "source": []
  }
 ],
 "metadata": {
  "kernelspec": {
   "display_name": "Python [conda env:base] *",
   "language": "python",
   "name": "conda-base-py"
  },
  "language_info": {
   "codemirror_mode": {
    "name": "ipython",
    "version": 3
   },
   "file_extension": ".py",
   "mimetype": "text/x-python",
   "name": "python",
   "nbconvert_exporter": "python",
   "pygments_lexer": "ipython3",
   "version": "3.12.7"
  }
 },
 "nbformat": 4,
 "nbformat_minor": 5
}
